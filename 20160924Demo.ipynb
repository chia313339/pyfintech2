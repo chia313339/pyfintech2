{
 "cells": [
  {
   "cell_type": "markdown",
   "metadata": {},
   "source": [
    "## PTT 列表爬蟲"
   ]
  },
  {
   "cell_type": "code",
   "execution_count": 18,
   "metadata": {
    "collapsed": false
   },
   "outputs": [],
   "source": [
    "import requests\n",
    "section = requests.get('https://www.ptt.cc/bbs/creditcard/index.html')\n",
    "#print section.text"
   ]
  },
  {
   "cell_type": "code",
   "execution_count": 19,
   "metadata": {
    "collapsed": false
   },
   "outputs": [
    {
     "name": "stdout",
     "output_type": "stream",
     "text": [
      " (本文已被刪除) [eggrolls] - 9/23\n",
      "9 [心得] 富邦DHC聯名卡 新辦核卡 (附圖) FWade 9/23\n",
      "2 [心得] 玉山雙幣卡 核卡 CCNCCN 9/23\n",
      "2 [心得] [email protected]/* <![CDATA[ */!function(t,e,r,n,c,a,p){try{t=document.currentScript||function(){for(t=document.getElementsByTagName('script'),e=t.length;e--;)if(t[e].getAttribute('data-cfhash'))return t[e]}();if(t&&(c=t.previousSibling)){p=t.parentNode;if(a=c.getAttribute('data-cfemail')){for(e='',r='0x'+a.substr(0,2)|0,n=2;a.length-n;n+=2)e+='%'+('0'+('0x'+a.substr(n,2)^r).toString(16)).slice(-2);p.replaceChild(document.createTextNode(decodeURIComponent(e)),c)}p.removeChild(t)}}catch(u){}}()/* ]]> */+富邦line=小白核卡 lf780315 9/23\n",
      "7 Re: [閒聊] openpoint兌換ANA里程  進帳!!! fafalee 9/23\n",
      "1 Re: [情報] 新申辦台新JCB海外多重回饋！（日本3%） Roger37 9/24\n",
      " [問題] 中信學學捐款與報稅 weizhong 9/24\n",
      "6 [問題] 計劃赴美工作為申辦美國信用卡做準備 heure 9/24\n",
      " [問題] 關於富邦的紅利點數折抵停車? g8solong 9/24\n",
      "1 [新聞] 合庫鹿港天后宮認同卡 conk 9/24\n",
      " === 卡板板規 V5.0 === (修訂日期：2012/10/02) Heumay 10/02\n",
      "爆 [公告] 置底檢舉專區 bboy0720 3/05\n",
      "33 [情報] 各家銀行0800免付費電話 MoonAthenaX 3/09\n"
     ]
    }
   ],
   "source": [
    "from bs4 import BeautifulSoup\n",
    "soup = BeautifulSoup(section.text)\n",
    "for ent in soup.select('.r-ent'):\n",
    "    title  = ent.select('.title')[0].text.strip()\n",
    "    author = ent.select('.author')[0].text.strip()\n",
    "    date   = ent.select('.date')[0].text.strip()\n",
    "    nrec   = ent.select('.nrec')[0].text.strip()\n",
    "    print nrec, title, author, date"
   ]
  },
  {
   "cell_type": "markdown",
   "metadata": {},
   "source": [
    "## 印出連結"
   ]
  },
  {
   "cell_type": "code",
   "execution_count": 15,
   "metadata": {
    "collapsed": false
   },
   "outputs": [
    {
     "name": "stdout",
     "output_type": "stream",
     "text": [
      "/bbs/creditcard/M.1474630956.A.BC0.html\n",
      "/bbs/creditcard/M.1474638608.A.70B.html\n",
      "/bbs/creditcard/M.1474640214.A.713.html\n",
      "/bbs/creditcard/M.1474645647.A.66F.html\n",
      "/bbs/creditcard/M.1474667288.A.045.html\n",
      "/bbs/creditcard/M.1474670242.A.301.html\n",
      "/bbs/creditcard/M.1474676757.A.64A.html\n",
      "/bbs/creditcard/M.1474678628.A.20B.html\n",
      "/bbs/creditcard/M.1474679687.A.9B3.html\n",
      "/bbs/creditcard/M.1349168810.A.0FE.html\n",
      "/bbs/creditcard/M.1425488177.A.59D.html\n",
      "/bbs/creditcard/M.1425873650.A.F81.html\n"
     ]
    }
   ],
   "source": [
    "for ent in soup.select('.r-ent'):\n",
    "    #print len(ent.select('a'))\n",
    "    if len(ent.select('a')) > 0 : \n",
    "        print ent.select('a')[0]['href']"
   ]
  },
  {
   "cell_type": "code",
   "execution_count": 17,
   "metadata": {
    "collapsed": false
   },
   "outputs": [
    {
     "name": "stdout",
     "output_type": "stream",
     "text": [
      "https://www.ptt.cc/bbs/creditcard/M.1474630956.A.BC0.html\n",
      "https://www.ptt.cc/bbs/creditcard/M.1474638608.A.70B.html\n",
      "https://www.ptt.cc/bbs/creditcard/M.1474640214.A.713.html\n",
      "https://www.ptt.cc/bbs/creditcard/M.1474645647.A.66F.html\n",
      "https://www.ptt.cc/bbs/creditcard/M.1474667288.A.045.html\n",
      "https://www.ptt.cc/bbs/creditcard/M.1474670242.A.301.html\n",
      "https://www.ptt.cc/bbs/creditcard/M.1474676757.A.64A.html\n",
      "https://www.ptt.cc/bbs/creditcard/M.1474678628.A.20B.html\n",
      "https://www.ptt.cc/bbs/creditcard/M.1474679687.A.9B3.html\n",
      "https://www.ptt.cc/bbs/creditcard/M.1349168810.A.0FE.html\n",
      "https://www.ptt.cc/bbs/creditcard/M.1425488177.A.59D.html\n",
      "https://www.ptt.cc/bbs/creditcard/M.1425873650.A.F81.html\n"
     ]
    }
   ],
   "source": [
    "domain = 'https://www.ptt.cc'\n",
    "for ent in soup.select('.r-ent'):\n",
    "    if len(ent.select('a')) > 0 : \n",
    "        print domain + ent.select('a')[0]['href']"
   ]
  },
  {
   "cell_type": "markdown",
   "metadata": {},
   "source": [
    "## 抓取內文頁"
   ]
  },
  {
   "cell_type": "code",
   "execution_count": 92,
   "metadata": {
    "collapsed": false
   },
   "outputs": [],
   "source": [
    "detailurl = 'https://www.ptt.cc/bbs/creditcard/M.1474630956.A.BC0.html'\n",
    "res = requests.get(detailurl)\n",
    "soup = BeautifulSoup(res.text)\n",
    "#print soup.select('#main-content')[0]"
   ]
  },
  {
   "cell_type": "code",
   "execution_count": 93,
   "metadata": {
    "collapsed": false
   },
   "outputs": [
    {
     "name": "stdout",
     "output_type": "stream",
     "text": [
      "FWade (FW小小)\n"
     ]
    }
   ],
   "source": [
    "print soup.select('#main-content')[0].select('.article-metaline')[0].select('.article-meta-value')[0].text"
   ]
  },
  {
   "cell_type": "code",
   "execution_count": 94,
   "metadata": {
    "collapsed": false
   },
   "outputs": [
    {
     "name": "stdout",
     "output_type": "stream",
     "text": [
      "\n",
      "[心得] 富邦DHC聯名卡 新辦核卡 (附圖)\n",
      "\n",
      "[職業]:小小研究助理\n",
      "\n",
      "[工作年資]:三年一個月\n",
      "\n",
      "[年齡]:28\n",
      "\n",
      "[年收入]:填500K\n",
      "\n",
      "[申辦卡別]:\n",
      "新辦 富邦銀行 DHC聯名卡 (Master)\n",
      "\n",
      "[提供財力證明]:三個月薪資轉帳戶本內頁(35K/Month)、定存1800K\n",
      "\n",
      "[是否有無貸款]:無\n",
      "\n",
      "[持有信用卡額度]:\n",
      "美國運通 （0K）\n",
      "花旗銀行 （144K）\n",
      "元大銀行 （150K）\n",
      "華南銀行 （200K）\n",
      "國泰銀行 （220K）\n",
      "玉山銀行 （300K）\n",
      "富邦銀行 （300K）\n",
      "中信銀行 （330K）\n",
      "\n",
      "[最近三個月有無申辦]:\n",
      "加辦 花旗銀行 寰旅世界卡 (Master)\n",
      "\n",
      "[過程]:\n",
      "9/13 網路填寫列印後寄件\n",
      "9/20 網路查詢已進件\n",
      "9/21 網路查詢已核卡\n",
      "9/23 收到卡片\n",
      "\n",
      "會想辦這張卡片是因為上DHC官網買東西時，\n",
      "發現某些商品限定DHC聯名卡才有65折優惠，\n",
      "而且每次購買單品及特惠組合可以再打9折，\n",
      "再加上新戶刷卡禮30天內不限金額任刷3筆，\n",
      "贈送刷卡金300元，所以就忍不住辦下去囉。\n",
      "\n",
      "辦卡很方便可以直接到官網線上填寫申請書：\n",
      "\n"
     ]
    }
   ],
   "source": [
    "print soup.select('#main-content')[0].contents[4]"
   ]
  },
  {
   "cell_type": "code",
   "execution_count": 95,
   "metadata": {
    "collapsed": false
   },
   "outputs": [
    {
     "name": "stdout",
     "output_type": "stream",
     "text": [
      "[5, 6, 7]\n"
     ]
    }
   ],
   "source": [
    "a = [1,2,3,4,5,6,7]\n",
    "print a[4:]"
   ]
  },
  {
   "cell_type": "code",
   "execution_count": 97,
   "metadata": {
    "collapsed": false
   },
   "outputs": [
    {
     "name": "stdout",
     "output_type": "stream",
     "text": [
      "\n",
      "[心得] 富邦DHC聯名卡 新辦核卡 (附圖)\n",
      "\n",
      "[職業]:小小研究助理\n",
      "\n",
      "[工作年資]:三年一個月\n",
      "\n",
      "[年齡]:28\n",
      "\n",
      "[年收入]:填500K\n",
      "\n",
      "[申辦卡別]:\n",
      "新辦 富邦銀行 DHC聯名卡 (Master)\n",
      "\n",
      "[提供財力證明]:三個月薪資轉帳戶本內頁(35K/Month)、定存1800K\n",
      "\n",
      "[是否有無貸款]:無\n",
      "\n",
      "[持有信用卡額度]:\n",
      "美國運通 （0K）\n",
      "花旗銀行 （144K）\n",
      "元大銀行 （150K）\n",
      "華南銀行 （200K）\n",
      "國泰銀行 （220K）\n",
      "玉山銀行 （300K）\n",
      "富邦銀行 （300K）\n",
      "中信銀行 （330K）\n",
      "\n",
      "[最近三個月有無申辦]:\n",
      "加辦 花旗銀行 寰旅世界卡 (Master)\n",
      "\n",
      "[過程]:\n",
      "9/13 網路填寫列印後寄件\n",
      "9/20 網路查詢已進件\n",
      "9/21 網路查詢已核卡\n",
      "9/23 收到卡片\n",
      "\n",
      "會想辦這張卡片是因為上DHC官網買東西時，\n",
      "發現某些商品限定DHC聯名卡才有65折優惠，\n",
      "而且每次購買單品及特惠組合可以再打9折，\n",
      "再加上新戶刷卡禮30天內不限金額任刷3筆，\n",
      "贈送刷卡金300元，所以就忍不住辦下去囉。\n",
      "\n",
      "辦卡很方便可以直接到官網線上填寫申請書：\n",
      "<a href=\"https://ebank.taipeifubon.com.tw/EXT/common/CAC/Index.faces\" rel=\"nofollow\" target=\"_blank\">https://ebank.taipeifubon.com.tw/EXT/common/CAC/Index.faces</a>\n",
      "\n",
      "國際組織有Master和JCB可以選，我選Master：\n",
      "<a href=\"http://i.imgur.com/Kn4TVBy.jpg\" rel=\"nofollow\" target=\"_blank\">http://i.imgur.com/Kn4TVBy.jpg</a>\n",
      "<div class=\"richcontent\"><img alt=\"\" src=\"//i.imgur.com/Kn4TVBy.jpg\"/></div>\n",
      "填完資料後儲存電子檔並列印申請書郵寄過去。\n",
      "\n",
      "21號網路查詢時已順利核卡沒有照會，\n",
      "沒想到信用額度給得很慷慨有30萬元，\n",
      "這樣子現階段已夠用不需再申請調額。\n",
      "\n",
      "卡面是亮面而且正面完全沒有銀行logo：\n",
      "<a href=\"http://i.imgur.com/bchSLK0.jpg\" rel=\"nofollow\" target=\"_blank\">http://i.imgur.com/bchSLK0.jpg</a>\n",
      "<div class=\"richcontent\"><img alt=\"\" src=\"//i.imgur.com/bchSLK0.jpg\"/></div>\n",
      "D～H～C～我～來～了～\n",
      "\n",
      "--\n",
      "\n"
     ]
    }
   ],
   "source": [
    "article = ''\n",
    "for paragraph in soup.select('#main-content')[0].contents[4:]:\n",
    "    if '※ 發信站' in paragraph.encode('utf-8'):\n",
    "        break\n",
    "    article =  article + paragraph.encode('utf-8')\n",
    "print article"
   ]
  },
  {
   "cell_type": "markdown",
   "metadata": {},
   "source": [
    "## 取得時間"
   ]
  },
  {
   "cell_type": "code",
   "execution_count": 106,
   "metadata": {
    "collapsed": false
   },
   "outputs": [
    {
     "name": "stdout",
     "output_type": "stream",
     "text": [
      "作者 <div class=\"article-metaline\"><span class=\"article-meta-tag\">作者</span><span class=\"article-meta-value\">FWade (FW小小)</span></div>\n",
      "標題 <div class=\"article-metaline\"><span class=\"article-meta-tag\">標題</span><span class=\"article-meta-value\">[心得] 富邦DHC聯名卡 新辦核卡 (附圖)</span></div>\n",
      "時間 <div class=\"article-metaline\"><span class=\"article-meta-tag\">時間</span><span class=\"article-meta-value\">Fri Sep 23 19:42:33 2016</span></div>\n",
      "Fri Sep 23 19:42:33 2016\n"
     ]
    }
   ],
   "source": [
    "main_content = soup.select('#main-content')[0]\n",
    "# 取出第三個metaline\n",
    "#print main_content.select('.article-metaline')\n",
    "\n",
    "# 作者\n",
    "print '作者', main_content.select('.article-metaline')[0]\n",
    "\n",
    "# 標題\n",
    "print '標題',main_content.select('.article-metaline')[1]\n",
    "\n",
    "# 時間\n",
    "print '時間',main_content.select('.article-metaline')[2]\n",
    "print main_content.select('.article-metaline')[2].select('.article-meta-value')[0].text"
   ]
  },
  {
   "cell_type": "code",
   "execution_count": 111,
   "metadata": {
    "collapsed": false
   },
   "outputs": [
    {
     "name": "stdout",
     "output_type": "stream",
     "text": [
      "時間 Fri Sep 23 19:42:33 2016\n"
     ]
    }
   ],
   "source": [
    "print '時間',main_content.select('.article-meta-value')[3].text"
   ]
  },
  {
   "cell_type": "code",
   "execution_count": 112,
   "metadata": {
    "collapsed": false
   },
   "outputs": [
    {
     "ename": "TypeError",
     "evalue": "unsupported operand type(s) for -: 'str' and 'str'",
     "output_type": "error",
     "traceback": [
      "\u001b[1;31m---------------------------------------------------------------------------\u001b[0m",
      "\u001b[1;31mTypeError\u001b[0m                                 Traceback (most recent call last)",
      "\u001b[1;32m<ipython-input-112-7f021599fe4c>\u001b[0m in \u001b[0;36m<module>\u001b[1;34m()\u001b[0m\n\u001b[1;32m----> 1\u001b[1;33m \u001b[1;32mprint\u001b[0m \u001b[1;34m'2016-05-21'\u001b[0m \u001b[1;33m-\u001b[0m \u001b[1;34m'2015-06-02'\u001b[0m\u001b[1;33m\u001b[0m\u001b[0m\n\u001b[0m",
      "\u001b[1;31mTypeError\u001b[0m: unsupported operand type(s) for -: 'str' and 'str'"
     ]
    }
   ],
   "source": [
    "print '2016-05-21' - '2015-06-02'"
   ]
  },
  {
   "cell_type": "code",
   "execution_count": 121,
   "metadata": {
    "collapsed": false
   },
   "outputs": [
    {
     "name": "stdout",
     "output_type": "stream",
     "text": [
      "2016-09-24 11:01:59.470000\n",
      "2016-09-24\n",
      "2014-05-03 14:00:00\n",
      "874 days, 21:01:59.470000\n"
     ]
    }
   ],
   "source": [
    "from datetime import datetime\n",
    "\n",
    "# 把時間轉換為字串\n",
    "currentdate = datetime.now()\n",
    "print currentdate\n",
    "print currentdate.strftime('%Y-%m-%d')\n",
    "\n",
    "# 把字串轉換為時間\n",
    "a= '2014-05-03 14:00'\n",
    "print datetime.strptime(a,\"%Y-%m-%d %H:%M\")\n",
    "\n",
    "#日期相減\n",
    "print currentdate - datetime.strptime(a,\"%Y-%m-%d %H:%M\")"
   ]
  },
  {
   "cell_type": "markdown",
   "metadata": {},
   "source": [
    "## 時間對照表\n",
    "- https://docs.python.org/2/library/datetime.html#strftime-and-strptime-behavior"
   ]
  },
  {
   "cell_type": "code",
   "execution_count": 129,
   "metadata": {
    "collapsed": false
   },
   "outputs": [
    {
     "name": "stdout",
     "output_type": "stream",
     "text": [
      "Fri Sep 23 19:42:33 2016\n"
     ]
    },
    {
     "data": {
      "text/plain": [
       "datetime.datetime(2016, 9, 23, 19, 42, 33)"
      ]
     },
     "execution_count": 129,
     "metadata": {},
     "output_type": "execute_result"
    }
   ],
   "source": [
    "time  = main_content.select('.article-meta-value')[3].text\n",
    "print time\n",
    "\n",
    "datetime.strptime(time, '%a %b %d %H:%M:%S %Y')"
   ]
  },
  {
   "cell_type": "markdown",
   "metadata": {},
   "source": [
    "## Jupyter notebook 的印出行為"
   ]
  },
  {
   "cell_type": "code",
   "execution_count": 122,
   "metadata": {
    "collapsed": false
   },
   "outputs": [
    {
     "data": {
      "text/plain": [
       "2"
      ]
     },
     "execution_count": 122,
     "metadata": {},
     "output_type": "execute_result"
    }
   ],
   "source": [
    "a  = 3\n",
    "b  =  2\n",
    "\n",
    "a\n",
    "b"
   ]
  },
  {
   "cell_type": "code",
   "execution_count": null,
   "metadata": {
    "collapsed": true
   },
   "outputs": [],
   "source": []
  }
 ],
 "metadata": {
  "anaconda-cloud": {},
  "kernelspec": {
   "display_name": "Python [Root]",
   "language": "python",
   "name": "Python [Root]"
  },
  "language_info": {
   "codemirror_mode": {
    "name": "ipython",
    "version": 2
   },
   "file_extension": ".py",
   "mimetype": "text/x-python",
   "name": "python",
   "nbconvert_exporter": "python",
   "pygments_lexer": "ipython2",
   "version": "2.7.12"
  }
 },
 "nbformat": 4,
 "nbformat_minor": 0
}
