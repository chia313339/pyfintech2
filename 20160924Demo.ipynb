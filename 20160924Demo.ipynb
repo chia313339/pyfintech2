{
 "cells": [
  {
   "cell_type": "markdown",
   "metadata": {},
   "source": [
    "## PTT 列表爬蟲"
   ]
  },
  {
   "cell_type": "code",
   "execution_count": 18,
   "metadata": {
    "collapsed": false
   },
   "outputs": [],
   "source": [
    "import requests\n",
    "section = requests.get('https://www.ptt.cc/bbs/creditcard/index.html')\n",
    "#print section.text"
   ]
  },
  {
   "cell_type": "code",
   "execution_count": 19,
   "metadata": {
    "collapsed": false
   },
   "outputs": [
    {
     "name": "stdout",
     "output_type": "stream",
     "text": [
      " (本文已被刪除) [eggrolls] - 9/23\n",
      "9 [心得] 富邦DHC聯名卡 新辦核卡 (附圖) FWade 9/23\n",
      "2 [心得] 玉山雙幣卡 核卡 CCNCCN 9/23\n",
      "2 [心得] [email protected]/* <![CDATA[ */!function(t,e,r,n,c,a,p){try{t=document.currentScript||function(){for(t=document.getElementsByTagName('script'),e=t.length;e--;)if(t[e].getAttribute('data-cfhash'))return t[e]}();if(t&&(c=t.previousSibling)){p=t.parentNode;if(a=c.getAttribute('data-cfemail')){for(e='',r='0x'+a.substr(0,2)|0,n=2;a.length-n;n+=2)e+='%'+('0'+('0x'+a.substr(n,2)^r).toString(16)).slice(-2);p.replaceChild(document.createTextNode(decodeURIComponent(e)),c)}p.removeChild(t)}}catch(u){}}()/* ]]> */+富邦line=小白核卡 lf780315 9/23\n",
      "7 Re: [閒聊] openpoint兌換ANA里程  進帳!!! fafalee 9/23\n",
      "1 Re: [情報] 新申辦台新JCB海外多重回饋！（日本3%） Roger37 9/24\n",
      " [問題] 中信學學捐款與報稅 weizhong 9/24\n",
      "6 [問題] 計劃赴美工作為申辦美國信用卡做準備 heure 9/24\n",
      " [問題] 關於富邦的紅利點數折抵停車? g8solong 9/24\n",
      "1 [新聞] 合庫鹿港天后宮認同卡 conk 9/24\n",
      " === 卡板板規 V5.0 === (修訂日期：2012/10/02) Heumay 10/02\n",
      "爆 [公告] 置底檢舉專區 bboy0720 3/05\n",
      "33 [情報] 各家銀行0800免付費電話 MoonAthenaX 3/09\n"
     ]
    }
   ],
   "source": [
    "from bs4 import BeautifulSoup\n",
    "soup = BeautifulSoup(section.text)\n",
    "for ent in soup.select('.r-ent'):\n",
    "    title  = ent.select('.title')[0].text.strip()\n",
    "    author = ent.select('.author')[0].text.strip()\n",
    "    date   = ent.select('.date')[0].text.strip()\n",
    "    nrec   = ent.select('.nrec')[0].text.strip()\n",
    "    print nrec, title, author, date"
   ]
  },
  {
   "cell_type": "markdown",
   "metadata": {},
   "source": [
    "## 印出連結"
   ]
  },
  {
   "cell_type": "code",
   "execution_count": 15,
   "metadata": {
    "collapsed": false
   },
   "outputs": [
    {
     "name": "stdout",
     "output_type": "stream",
     "text": [
      "/bbs/creditcard/M.1474630956.A.BC0.html\n",
      "/bbs/creditcard/M.1474638608.A.70B.html\n",
      "/bbs/creditcard/M.1474640214.A.713.html\n",
      "/bbs/creditcard/M.1474645647.A.66F.html\n",
      "/bbs/creditcard/M.1474667288.A.045.html\n",
      "/bbs/creditcard/M.1474670242.A.301.html\n",
      "/bbs/creditcard/M.1474676757.A.64A.html\n",
      "/bbs/creditcard/M.1474678628.A.20B.html\n",
      "/bbs/creditcard/M.1474679687.A.9B3.html\n",
      "/bbs/creditcard/M.1349168810.A.0FE.html\n",
      "/bbs/creditcard/M.1425488177.A.59D.html\n",
      "/bbs/creditcard/M.1425873650.A.F81.html\n"
     ]
    }
   ],
   "source": [
    "for ent in soup.select('.r-ent'):\n",
    "    #print len(ent.select('a'))\n",
    "    if len(ent.select('a')) > 0 : \n",
    "        print ent.select('a')[0]['href']"
   ]
  },
  {
   "cell_type": "code",
   "execution_count": 17,
   "metadata": {
    "collapsed": false
   },
   "outputs": [
    {
     "name": "stdout",
     "output_type": "stream",
     "text": [
      "https://www.ptt.cc/bbs/creditcard/M.1474630956.A.BC0.html\n",
      "https://www.ptt.cc/bbs/creditcard/M.1474638608.A.70B.html\n",
      "https://www.ptt.cc/bbs/creditcard/M.1474640214.A.713.html\n",
      "https://www.ptt.cc/bbs/creditcard/M.1474645647.A.66F.html\n",
      "https://www.ptt.cc/bbs/creditcard/M.1474667288.A.045.html\n",
      "https://www.ptt.cc/bbs/creditcard/M.1474670242.A.301.html\n",
      "https://www.ptt.cc/bbs/creditcard/M.1474676757.A.64A.html\n",
      "https://www.ptt.cc/bbs/creditcard/M.1474678628.A.20B.html\n",
      "https://www.ptt.cc/bbs/creditcard/M.1474679687.A.9B3.html\n",
      "https://www.ptt.cc/bbs/creditcard/M.1349168810.A.0FE.html\n",
      "https://www.ptt.cc/bbs/creditcard/M.1425488177.A.59D.html\n",
      "https://www.ptt.cc/bbs/creditcard/M.1425873650.A.F81.html\n"
     ]
    }
   ],
   "source": [
    "domain = 'https://www.ptt.cc'\n",
    "for ent in soup.select('.r-ent'):\n",
    "    if len(ent.select('a')) > 0 : \n",
    "        print domain + ent.select('a')[0]['href']"
   ]
  },
  {
   "cell_type": "markdown",
   "metadata": {},
   "source": [
    "## 抓取內文頁"
   ]
  },
  {
   "cell_type": "code",
   "execution_count": 92,
   "metadata": {
    "collapsed": false
   },
   "outputs": [],
   "source": [
    "detailurl = 'https://www.ptt.cc/bbs/creditcard/M.1474630956.A.BC0.html'\n",
    "res = requests.get(detailurl)\n",
    "soup = BeautifulSoup(res.text)\n",
    "#print soup.select('#main-content')[0]"
   ]
  },
  {
   "cell_type": "code",
   "execution_count": 93,
   "metadata": {
    "collapsed": false
   },
   "outputs": [
    {
     "name": "stdout",
     "output_type": "stream",
     "text": [
      "FWade (FW小小)\n"
     ]
    }
   ],
   "source": [
    "print soup.select('#main-content')[0].select('.article-metaline')[0].select('.article-meta-value')[0].text"
   ]
  },
  {
   "cell_type": "code",
   "execution_count": 94,
   "metadata": {
    "collapsed": false
   },
   "outputs": [
    {
     "name": "stdout",
     "output_type": "stream",
     "text": [
      "\n",
      "[心得] 富邦DHC聯名卡 新辦核卡 (附圖)\n",
      "\n",
      "[職業]:小小研究助理\n",
      "\n",
      "[工作年資]:三年一個月\n",
      "\n",
      "[年齡]:28\n",
      "\n",
      "[年收入]:填500K\n",
      "\n",
      "[申辦卡別]:\n",
      "新辦 富邦銀行 DHC聯名卡 (Master)\n",
      "\n",
      "[提供財力證明]:三個月薪資轉帳戶本內頁(35K/Month)、定存1800K\n",
      "\n",
      "[是否有無貸款]:無\n",
      "\n",
      "[持有信用卡額度]:\n",
      "美國運通 （0K）\n",
      "花旗銀行 （144K）\n",
      "元大銀行 （150K）\n",
      "華南銀行 （200K）\n",
      "國泰銀行 （220K）\n",
      "玉山銀行 （300K）\n",
      "富邦銀行 （300K）\n",
      "中信銀行 （330K）\n",
      "\n",
      "[最近三個月有無申辦]:\n",
      "加辦 花旗銀行 寰旅世界卡 (Master)\n",
      "\n",
      "[過程]:\n",
      "9/13 網路填寫列印後寄件\n",
      "9/20 網路查詢已進件\n",
      "9/21 網路查詢已核卡\n",
      "9/23 收到卡片\n",
      "\n",
      "會想辦這張卡片是因為上DHC官網買東西時，\n",
      "發現某些商品限定DHC聯名卡才有65折優惠，\n",
      "而且每次購買單品及特惠組合可以再打9折，\n",
      "再加上新戶刷卡禮30天內不限金額任刷3筆，\n",
      "贈送刷卡金300元，所以就忍不住辦下去囉。\n",
      "\n",
      "辦卡很方便可以直接到官網線上填寫申請書：\n",
      "\n"
     ]
    }
   ],
   "source": [
    "print soup.select('#main-content')[0].contents[4]"
   ]
  },
  {
   "cell_type": "code",
   "execution_count": 95,
   "metadata": {
    "collapsed": false
   },
   "outputs": [
    {
     "name": "stdout",
     "output_type": "stream",
     "text": [
      "[5, 6, 7]\n"
     ]
    }
   ],
   "source": [
    "a = [1,2,3,4,5,6,7]\n",
    "print a[4:]"
   ]
  },
  {
   "cell_type": "code",
   "execution_count": 97,
   "metadata": {
    "collapsed": false
   },
   "outputs": [
    {
     "name": "stdout",
     "output_type": "stream",
     "text": [
      "\n",
      "[心得] 富邦DHC聯名卡 新辦核卡 (附圖)\n",
      "\n",
      "[職業]:小小研究助理\n",
      "\n",
      "[工作年資]:三年一個月\n",
      "\n",
      "[年齡]:28\n",
      "\n",
      "[年收入]:填500K\n",
      "\n",
      "[申辦卡別]:\n",
      "新辦 富邦銀行 DHC聯名卡 (Master)\n",
      "\n",
      "[提供財力證明]:三個月薪資轉帳戶本內頁(35K/Month)、定存1800K\n",
      "\n",
      "[是否有無貸款]:無\n",
      "\n",
      "[持有信用卡額度]:\n",
      "美國運通 （0K）\n",
      "花旗銀行 （144K）\n",
      "元大銀行 （150K）\n",
      "華南銀行 （200K）\n",
      "國泰銀行 （220K）\n",
      "玉山銀行 （300K）\n",
      "富邦銀行 （300K）\n",
      "中信銀行 （330K）\n",
      "\n",
      "[最近三個月有無申辦]:\n",
      "加辦 花旗銀行 寰旅世界卡 (Master)\n",
      "\n",
      "[過程]:\n",
      "9/13 網路填寫列印後寄件\n",
      "9/20 網路查詢已進件\n",
      "9/21 網路查詢已核卡\n",
      "9/23 收到卡片\n",
      "\n",
      "會想辦這張卡片是因為上DHC官網買東西時，\n",
      "發現某些商品限定DHC聯名卡才有65折優惠，\n",
      "而且每次購買單品及特惠組合可以再打9折，\n",
      "再加上新戶刷卡禮30天內不限金額任刷3筆，\n",
      "贈送刷卡金300元，所以就忍不住辦下去囉。\n",
      "\n",
      "辦卡很方便可以直接到官網線上填寫申請書：\n",
      "<a href=\"https://ebank.taipeifubon.com.tw/EXT/common/CAC/Index.faces\" rel=\"nofollow\" target=\"_blank\">https://ebank.taipeifubon.com.tw/EXT/common/CAC/Index.faces</a>\n",
      "\n",
      "國際組織有Master和JCB可以選，我選Master：\n",
      "<a href=\"http://i.imgur.com/Kn4TVBy.jpg\" rel=\"nofollow\" target=\"_blank\">http://i.imgur.com/Kn4TVBy.jpg</a>\n",
      "<div class=\"richcontent\"><img alt=\"\" src=\"//i.imgur.com/Kn4TVBy.jpg\"/></div>\n",
      "填完資料後儲存電子檔並列印申請書郵寄過去。\n",
      "\n",
      "21號網路查詢時已順利核卡沒有照會，\n",
      "沒想到信用額度給得很慷慨有30萬元，\n",
      "這樣子現階段已夠用不需再申請調額。\n",
      "\n",
      "卡面是亮面而且正面完全沒有銀行logo：\n",
      "<a href=\"http://i.imgur.com/bchSLK0.jpg\" rel=\"nofollow\" target=\"_blank\">http://i.imgur.com/bchSLK0.jpg</a>\n",
      "<div class=\"richcontent\"><img alt=\"\" src=\"//i.imgur.com/bchSLK0.jpg\"/></div>\n",
      "D～H～C～我～來～了～\n",
      "\n",
      "--\n",
      "\n"
     ]
    }
   ],
   "source": [
    "article = ''\n",
    "for paragraph in soup.select('#main-content')[0].contents[4:]:\n",
    "    if '※ 發信站' in paragraph.encode('utf-8'):\n",
    "        break\n",
    "    article =  article + paragraph.encode('utf-8')\n",
    "print article"
   ]
  },
  {
   "cell_type": "markdown",
   "metadata": {},
   "source": [
    "## 取得時間"
   ]
  },
  {
   "cell_type": "code",
   "execution_count": 106,
   "metadata": {
    "collapsed": false
   },
   "outputs": [
    {
     "name": "stdout",
     "output_type": "stream",
     "text": [
      "作者 <div class=\"article-metaline\"><span class=\"article-meta-tag\">作者</span><span class=\"article-meta-value\">FWade (FW小小)</span></div>\n",
      "標題 <div class=\"article-metaline\"><span class=\"article-meta-tag\">標題</span><span class=\"article-meta-value\">[心得] 富邦DHC聯名卡 新辦核卡 (附圖)</span></div>\n",
      "時間 <div class=\"article-metaline\"><span class=\"article-meta-tag\">時間</span><span class=\"article-meta-value\">Fri Sep 23 19:42:33 2016</span></div>\n",
      "Fri Sep 23 19:42:33 2016\n"
     ]
    }
   ],
   "source": [
    "main_content = soup.select('#main-content')[0]\n",
    "# 取出第三個metaline\n",
    "#print main_content.select('.article-metaline')\n",
    "\n",
    "# 作者\n",
    "print '作者', main_content.select('.article-metaline')[0]\n",
    "\n",
    "# 標題\n",
    "print '標題',main_content.select('.article-metaline')[1]\n",
    "\n",
    "# 時間\n",
    "print '時間',main_content.select('.article-metaline')[2]\n",
    "print main_content.select('.article-metaline')[2].select('.article-meta-value')[0].text"
   ]
  },
  {
   "cell_type": "code",
   "execution_count": 111,
   "metadata": {
    "collapsed": false
   },
   "outputs": [
    {
     "name": "stdout",
     "output_type": "stream",
     "text": [
      "時間 Fri Sep 23 19:42:33 2016\n"
     ]
    }
   ],
   "source": [
    "print '時間',main_content.select('.article-meta-value')[3].text"
   ]
  },
  {
   "cell_type": "code",
   "execution_count": 112,
   "metadata": {
    "collapsed": false
   },
   "outputs": [
    {
     "ename": "TypeError",
     "evalue": "unsupported operand type(s) for -: 'str' and 'str'",
     "output_type": "error",
     "traceback": [
      "\u001b[1;31m---------------------------------------------------------------------------\u001b[0m",
      "\u001b[1;31mTypeError\u001b[0m                                 Traceback (most recent call last)",
      "\u001b[1;32m<ipython-input-112-7f021599fe4c>\u001b[0m in \u001b[0;36m<module>\u001b[1;34m()\u001b[0m\n\u001b[1;32m----> 1\u001b[1;33m \u001b[1;32mprint\u001b[0m \u001b[1;34m'2016-05-21'\u001b[0m \u001b[1;33m-\u001b[0m \u001b[1;34m'2015-06-02'\u001b[0m\u001b[1;33m\u001b[0m\u001b[0m\n\u001b[0m",
      "\u001b[1;31mTypeError\u001b[0m: unsupported operand type(s) for -: 'str' and 'str'"
     ]
    }
   ],
   "source": [
    "print '2016-05-21' - '2015-06-02'"
   ]
  },
  {
   "cell_type": "code",
   "execution_count": 121,
   "metadata": {
    "collapsed": false
   },
   "outputs": [
    {
     "name": "stdout",
     "output_type": "stream",
     "text": [
      "2016-09-24 11:01:59.470000\n",
      "2016-09-24\n",
      "2014-05-03 14:00:00\n",
      "874 days, 21:01:59.470000\n"
     ]
    }
   ],
   "source": [
    "from datetime import datetime\n",
    "\n",
    "# 把時間轉換為字串\n",
    "currentdate = datetime.now()\n",
    "print currentdate\n",
    "print currentdate.strftime('%Y-%m-%d')\n",
    "\n",
    "# 把字串轉換為時間\n",
    "a= '2014-05-03 14:00'\n",
    "print datetime.strptime(a,\"%Y-%m-%d %H:%M\")\n",
    "\n",
    "#日期相減\n",
    "print currentdate - datetime.strptime(a,\"%Y-%m-%d %H:%M\")"
   ]
  },
  {
   "cell_type": "markdown",
   "metadata": {},
   "source": [
    "## 時間對照表\n",
    "- https://docs.python.org/2/library/datetime.html#strftime-and-strptime-behavior"
   ]
  },
  {
   "cell_type": "code",
   "execution_count": 129,
   "metadata": {
    "collapsed": false
   },
   "outputs": [
    {
     "name": "stdout",
     "output_type": "stream",
     "text": [
      "Fri Sep 23 19:42:33 2016\n"
     ]
    },
    {
     "data": {
      "text/plain": [
       "datetime.datetime(2016, 9, 23, 19, 42, 33)"
      ]
     },
     "execution_count": 129,
     "metadata": {},
     "output_type": "execute_result"
    }
   ],
   "source": [
    "time  = main_content.select('.article-meta-value')[3].text\n",
    "print time\n",
    "\n",
    "datetime.strptime(time, '%a %b %d %H:%M:%S %Y')"
   ]
  },
  {
   "cell_type": "markdown",
   "metadata": {},
   "source": [
    "## Jupyter notebook 的印出行為"
   ]
  },
  {
   "cell_type": "code",
   "execution_count": 122,
   "metadata": {
    "collapsed": false
   },
   "outputs": [
    {
     "data": {
      "text/plain": [
       "2"
      ]
     },
     "execution_count": 122,
     "metadata": {},
     "output_type": "execute_result"
    }
   ],
   "source": [
    "a  = 3\n",
    "b  =  2\n",
    "\n",
    "a\n",
    "b"
   ]
  },
  {
   "cell_type": "markdown",
   "metadata": {},
   "source": [
    "## pchome 價格"
   ]
  },
  {
   "cell_type": "code",
   "execution_count": 146,
   "metadata": {
    "collapsed": false
   },
   "outputs": [
    {
     "name": "stdout",
     "output_type": "stream",
     "text": [
      "20900\n"
     ]
    }
   ],
   "source": [
    "import requests\n",
    "res = requests.get('http://ecapi.pchome.com.tw/ecshop/prodapi/v2/prod/DSAA31-A9007GHNG-000&store=DSAA4G&fields=Seq,Id,Name,Nick,Store,PreOrdDate,SpeOrdDate,Price,Discount,Pic,Weight,ISBN,Qty,Bonus,isBig,isSpec,isCombine,isDiy,isRecyclable,isCarrier,isMedical,isBigCart,isSnapUp,isDescAndIntroSync,isFoodContents,isHuge,isEnergySubsidy&_callback=jsonp_prod?_callback=jsonp_prod')\n",
    "\n",
    "import re\n",
    "import json\n",
    "m = re.search('try\\{jsonp_prod\\((.*)\\);\\}catch\\(e\\)\\{if\\(window.console\\)\\{console.log\\(e\\);}}', res.text)\n",
    "jd = json.loads(m.group(1))\n",
    "print jd['DSAA31-A9007GHNG-000']['Price']['P']"
   ]
  },
  {
   "cell_type": "markdown",
   "metadata": {},
   "source": [
    "## 正規表達法"
   ]
  },
  {
   "cell_type": "code",
   "execution_count": 148,
   "metadata": {
    "collapsed": false
   },
   "outputs": [
    {
     "name": "stdout",
     "output_type": "stream",
     "text": [
      "True\n"
     ]
    }
   ],
   "source": [
    "a = '0912345678'\n",
    "print a == '0912345678'\n",
    "\n",
    "b = ['0912345678', '0923456789', '3402939493']\n",
    "c = ['0912345678', '0912-345-678', '0912-345678']"
   ]
  },
  {
   "cell_type": "code",
   "execution_count": 153,
   "metadata": {
    "collapsed": false
   },
   "outputs": [
    {
     "name": "stdout",
     "output_type": "stream",
     "text": [
      "a\n",
      "b\n",
      "b\n",
      "8\n",
      "8\n",
      "8\n"
     ]
    }
   ],
   "source": [
    "import re\n",
    "m = re.search('a', 'a')\n",
    "print m.group(0)\n",
    "\n",
    "# match word with []\n",
    "m = re.search('[abcdefghijklmnopqrstuvwxyz]', 'b') # a or b or c or .... z \n",
    "print m.group(0)\n",
    "\n",
    "m = re.search('[a-z]', 'b') # [abcdefghijklmnopqrstuvwxyz] = [a-z]\n",
    "print m.group(0)\n",
    "\n",
    "m = re.search('[a-zA-Z]', 'B') # match any character that is cpapitalized or not\n",
    "print m.group(0)\n",
    "\n",
    "# match digit with []\n",
    "m = re.search('[0123456789]', '8') #  0 or 1 or 2 or ... 9 \n",
    "print m.group(0)\n",
    "\n",
    "m = re.search('[0-9]', '8') #  [0123456789] = [0-9]\n",
    "print m.group(0)\n",
    "\n",
    "m = re.search('\\d', '8') #  [0-9] = \\d\n",
    "print m.group(0)"
   ]
  },
  {
   "cell_type": "code",
   "execution_count": 157,
   "metadata": {
    "collapsed": false
   },
   "outputs": [
    {
     "name": "stdout",
     "output_type": "stream",
     "text": [
      "v\n",
      "v\n"
     ]
    }
   ],
   "source": [
    "m = re.search('[0-9a-zA-Z]', 'v') \n",
    "print m.group(0)\n",
    "\n",
    "m = re.search('\\w', 'v') # \\w  = [0-9a-zA-Z]\n",
    "print m.group(0)"
   ]
  },
  {
   "cell_type": "code",
   "execution_count": 158,
   "metadata": {
    "collapsed": false
   },
   "outputs": [
    {
     "ename": "AttributeError",
     "evalue": "'NoneType' object has no attribute 'group'",
     "output_type": "error",
     "traceback": [
      "\u001b[1;31m---------------------------------------------------------------------------\u001b[0m",
      "\u001b[1;31mAttributeError\u001b[0m                            Traceback (most recent call last)",
      "\u001b[1;32m<ipython-input-158-6a087c7e5aaf>\u001b[0m in \u001b[0;36m<module>\u001b[1;34m()\u001b[0m\n\u001b[0;32m      1\u001b[0m \u001b[0mm\u001b[0m \u001b[1;33m=\u001b[0m \u001b[0mre\u001b[0m\u001b[1;33m.\u001b[0m\u001b[0msearch\u001b[0m\u001b[1;33m(\u001b[0m\u001b[1;34m'\\w'\u001b[0m\u001b[1;33m,\u001b[0m \u001b[1;34m'%'\u001b[0m\u001b[1;33m)\u001b[0m\u001b[1;33m\u001b[0m\u001b[0m\n\u001b[1;32m----> 2\u001b[1;33m \u001b[1;32mprint\u001b[0m \u001b[0mm\u001b[0m\u001b[1;33m.\u001b[0m\u001b[0mgroup\u001b[0m\u001b[1;33m(\u001b[0m\u001b[1;36m0\u001b[0m\u001b[1;33m)\u001b[0m\u001b[1;33m\u001b[0m\u001b[0m\n\u001b[0m",
      "\u001b[1;31mAttributeError\u001b[0m: 'NoneType' object has no attribute 'group'"
     ]
    }
   ],
   "source": [
    "# \\w cannot match %\n",
    "m = re.search('\\w', '%') \n",
    "print m.group(0)"
   ]
  },
  {
   "cell_type": "code",
   "execution_count": 160,
   "metadata": {
    "collapsed": false
   },
   "outputs": [
    {
     "name": "stdout",
     "output_type": "stream",
     "text": [
      "%\n"
     ]
    }
   ],
   "source": [
    "# . match %\n",
    "m = re.search('.', '%') \n",
    "print m.group(0)"
   ]
  },
  {
   "cell_type": "markdown",
   "metadata": {},
   "source": [
    "## 比對多個字符"
   ]
  },
  {
   "cell_type": "code",
   "execution_count": 167,
   "metadata": {
    "collapsed": false
   },
   "outputs": [
    {
     "name": "stdout",
     "output_type": "stream",
     "text": [
      "0\n",
      "0123\n",
      "012\n",
      "012345\n",
      "012345\n",
      "012345\n",
      "012345\n"
     ]
    }
   ],
   "source": [
    "m = re.search('\\d','012345')\n",
    "print m.group(0)\n",
    "\n",
    "#{ min , max }\n",
    "m = re.search('\\d{2,4}','012345')\n",
    "print m.group(0)\n",
    "\n",
    "#{num}\n",
    "m = re.search('\\d{3}','012345')\n",
    "print m.group(0)\n",
    "\n",
    "# above 0\n",
    "m = re.search('\\d{0,}','012345')\n",
    "print m.group(0)\n",
    "\n",
    "\n",
    "m = re.search('\\d*','012345') # {0, } = *\n",
    "print m.group(0)\n",
    "\n",
    "# above 1\n",
    "m = re.search('\\d{1,}','012345') \n",
    "print m.group(0)\n",
    "\n",
    "m = re.search('\\d+','012345') \n",
    "print m.group(0)"
   ]
  },
  {
   "cell_type": "code",
   "execution_count": 169,
   "metadata": {
    "collapsed": false
   },
   "outputs": [
    {
     "name": "stdout",
     "output_type": "stream",
     "text": [
      "0912345678\n"
     ]
    }
   ],
   "source": [
    "phones = ['0912345678', '0912-345-678', '0912-345678']\n",
    "for p in phones:\n",
    "    m = re.search('09\\d{8}', p)\n",
    "    if m: # 比對到\n",
    "        print m.group(0)"
   ]
  },
  {
   "cell_type": "code",
   "execution_count": 171,
   "metadata": {
    "collapsed": false
   },
   "outputs": [
    {
     "name": "stdout",
     "output_type": "stream",
     "text": [
      "0912345678\n",
      "0912-345-678\n",
      "0912-345678\n"
     ]
    }
   ],
   "source": [
    "for p in phones:\n",
    "    m = re.search('09\\d{2}-{0,1}\\d{3}-{0,1}\\d{3}', p)\n",
    "    if m: # 比對到\n",
    "        print m.group(0)"
   ]
  },
  {
   "cell_type": "code",
   "execution_count": 173,
   "metadata": {
    "collapsed": false
   },
   "outputs": [
    {
     "name": "stdout",
     "output_type": "stream",
     "text": [
      "0912345678\n",
      "0912-345-678\n",
      "0912-345678\n"
     ]
    }
   ],
   "source": [
    "for p in phones:\n",
    "    m = re.search('09\\d{2}-?\\d{3}-?\\d{3}', p) # {0,1} => ?\n",
    "    if m: # 比對到\n",
    "        print m.group(0)"
   ]
  },
  {
   "cell_type": "code",
   "execution_count": 176,
   "metadata": {
    "collapsed": false
   },
   "outputs": [
    {
     "name": "stdout",
     "output_type": "stream",
     "text": [
      "09123456\n"
     ]
    },
    {
     "ename": "AttributeError",
     "evalue": "'NoneType' object has no attribute 'group'",
     "output_type": "error",
     "traceback": [
      "\u001b[1;31m---------------------------------------------------------------------------\u001b[0m",
      "\u001b[1;31mAttributeError\u001b[0m                            Traceback (most recent call last)",
      "\u001b[1;32m<ipython-input-176-186cf8ce89c1>\u001b[0m in \u001b[0;36m<module>\u001b[1;34m()\u001b[0m\n\u001b[0;32m      4\u001b[0m \u001b[1;33m\u001b[0m\u001b[0m\n\u001b[0;32m      5\u001b[0m \u001b[0mm2\u001b[0m \u001b[1;33m=\u001b[0m \u001b[0mre\u001b[0m\u001b[1;33m.\u001b[0m\u001b[0mmatch\u001b[0m\u001b[1;33m(\u001b[0m \u001b[1;34m'\\d{8}'\u001b[0m\u001b[1;33m,\u001b[0m\u001b[1;34m'abc0912345678abc'\u001b[0m\u001b[1;33m)\u001b[0m \u001b[1;31m# total match\u001b[0m\u001b[1;33m\u001b[0m\u001b[0m\n\u001b[1;32m----> 6\u001b[1;33m \u001b[1;32mprint\u001b[0m \u001b[0mm2\u001b[0m\u001b[1;33m.\u001b[0m\u001b[0mgroup\u001b[0m\u001b[1;33m(\u001b[0m\u001b[1;36m0\u001b[0m\u001b[1;33m)\u001b[0m\u001b[1;33m\u001b[0m\u001b[0m\n\u001b[0m",
      "\u001b[1;31mAttributeError\u001b[0m: 'NoneType' object has no attribute 'group'"
     ]
    }
   ],
   "source": [
    "import re\n",
    "m = re.search( '\\d{8}','abc0912345678abc') # partial match\n",
    "print m.group(0)\n",
    "\n",
    "m2 = re.match( '\\d{8}','abc0912345678abc') # total match\n",
    "print m2.group(0)"
   ]
  },
  {
   "cell_type": "code",
   "execution_count": 180,
   "metadata": {
    "collapsed": false
   },
   "outputs": [
    {
     "name": "stdout",
     "output_type": "stream",
     "text": [
      "david@largidata\n",
      "david@largidata\n",
      "david\n",
      "largidata\n"
     ]
    }
   ],
   "source": [
    "import re\n",
    "m= re.match(\"\\w+@\\w+\",\"david@largidata.com\")\n",
    "print m.group(0)\n",
    "\n",
    "m= re.match(\"(\\w+)@(\\w+)\",\"david@largidata.com\")\n",
    "print m.group(0) # overall string\n",
    "print m.group(1) # david\n",
    "print m.group(2) # largitdata"
   ]
  },
  {
   "cell_type": "code",
   "execution_count": 181,
   "metadata": {
    "collapsed": false
   },
   "outputs": [
    {
     "name": "stdout",
     "output_type": "stream",
     "text": [
      "david@largidata.com\n",
      "david\n",
      "largidata.com\n"
     ]
    }
   ],
   "source": [
    "m= re.match(\"(\\w+)@(.+)\",\"david@largidata.com\")\n",
    "print m.group(0) # overall string\n",
    "print m.group(1) # david\n",
    "print m.group(2) # largitdata.com"
   ]
  },
  {
   "cell_type": "code",
   "execution_count": 186,
   "metadata": {
    "collapsed": false
   },
   "outputs": [
    {
     "name": "stdout",
     "output_type": "stream",
     "text": [
      "('1999', '5')\n",
      "1999.5\n",
      "1999\n",
      "5\n"
     ]
    }
   ],
   "source": [
    "m= re.match(\"(\\d+)\\.(\\d+)\", \"1999.5\") # \\ => escape\n",
    "print m.groups()\n",
    "\n",
    "print m.group(0)\n",
    "print m.group(1)\n",
    "print m.group(2)"
   ]
  },
  {
   "cell_type": "code",
   "execution_count": 187,
   "metadata": {
    "collapsed": false
   },
   "outputs": [
    {
     "name": "stdout",
     "output_type": "stream",
     "text": [
      "David\n",
      "David\n",
      "Chiu\n",
      "Chiu\n"
     ]
    }
   ],
   "source": [
    "m=re.match(\"(?P<first_name>\\w+) (?P<last_name>\\w+)\",\"David Chiu\")\n",
    "print m.group('first_name')\n",
    "print m.group(1)\n",
    "print m.group('last_name')\n",
    "print m.group(2)"
   ]
  },
  {
   "cell_type": "code",
   "execution_count": 191,
   "metadata": {
    "collapsed": false
   },
   "outputs": [
    {
     "name": "stdout",
     "output_type": "stream",
     "text": [
      "file.txt root 10.0.0.1 ./\n"
     ]
    }
   ],
   "source": [
    "str1='scp file.txt root@10.0.0.1:./'\n",
    "m=re.search('^scp ([\\w\\.]+) (\\w+)@([\\w\\.]+):(.+)',str1)\n",
    "if m:\n",
    "    print m.group(1),m.group(2),m.group(3),m.group(4)"
   ]
  },
  {
   "cell_type": "markdown",
   "metadata": {},
   "source": [
    "## 比對標題"
   ]
  },
  {
   "cell_type": "code",
   "execution_count": 193,
   "metadata": {
    "collapsed": false
   },
   "outputs": [
    {
     "name": "stdout",
     "output_type": "stream",
     "text": [
      "[心得] 富邦DHC聯名卡 新辦核卡 (附圖)\n",
      "心得\n",
      "富邦DHC聯名卡 新辦核卡 (附圖)\n"
     ]
    }
   ],
   "source": [
    "title  = main_content.select('.article-meta-value')[2].text\n",
    "import re\n",
    "m = re.match('\\[(.*)\\] (.*)' , title)\n",
    "print m.group(0)\n",
    "print m.group(1)\n",
    "print m.group(2)"
   ]
  },
  {
   "cell_type": "markdown",
   "metadata": {},
   "source": [
    "## 完整爬蟲流程"
   ]
  },
  {
   "cell_type": "code",
   "execution_count": 196,
   "metadata": {
    "collapsed": true
   },
   "outputs": [],
   "source": [
    "import requests\n",
    "import re\n",
    "from bs4 import BeautifulSoup\n",
    "from datetime import datetime"
   ]
  },
  {
   "cell_type": "code",
   "execution_count": 200,
   "metadata": {
    "collapsed": true
   },
   "outputs": [],
   "source": [
    "#清理內文函式\n",
    "def buildSummary(soup):\n",
    "    article = ''\n",
    "    for paragraph in soup.select('#main-content')[0].contents[4:]:\n",
    "        if '※ 發信站' in paragraph.encode('utf-8'):\n",
    "            break\n",
    "        article =  article + paragraph.encode('utf-8')\n",
    "    soup2 = BeautifulSoup(article)\n",
    "    return soup2.text"
   ]
  },
  {
   "cell_type": "code",
   "execution_count": 255,
   "metadata": {
    "collapsed": true
   },
   "outputs": [],
   "source": [
    "def pageDetail(detailurl):\n",
    "    res  = requests.get(detailurl)\n",
    "    soup = BeautifulSoup(res.text)\n",
    "    # 取得內文\n",
    "    summary = buildSummary(soup)\n",
    "    \n",
    "    # 整理時間\n",
    "    main_content = soup.select('#main-content')[0]\n",
    "    time  = main_content.select('.article-meta-value')[3].text\n",
    "    dt = datetime.strptime(time, '%a %b %d %H:%M:%S %Y')    \n",
    "    \n",
    "    # 以字典回傳資料\n",
    "    return {'summary':summary, 'dt':dt}"
   ]
  },
  {
   "cell_type": "code",
   "execution_count": 223,
   "metadata": {
    "collapsed": false
   },
   "outputs": [],
   "source": [
    "# 測試抓取單頁\n",
    "url = 'https://www.ptt.cc/bbs/creditcard/M.1474630956.A.BC0.html'\n",
    "#print pageDetail(url)"
   ]
  },
  {
   "cell_type": "code",
   "execution_count": 256,
   "metadata": {
    "collapsed": false
   },
   "outputs": [],
   "source": [
    "import requests\n",
    "section = requests.get('https://www.ptt.cc/bbs/creditcard/index.html')\n",
    "soup = BeautifulSoup(section.text)\n",
    "domain = 'https://www.ptt.cc'\n",
    "\n",
    "pttary = []\n",
    "for ent in soup.select('.r-ent'):\n",
    "    if len(ent.select('a')) > 0:\n",
    "        dic = {}\n",
    "        \n",
    "        # 取得作者, 標題, 連結\n",
    "        dic['author'] = ent.select('.author')[0].text \n",
    "        dic['nrec']   = ent.select('.nrec')[0].text \n",
    "        dic['title']  = ent.select('.title')[0].text \n",
    "        dic['link']   = domain + ent.select('a')[0]['href']\n",
    "        \n",
    "        # 取得內文, 時間\n",
    "        dic.update(pageDetail(dic['link']))\n",
    "        \n",
    "        # 將每一篇文章新增至pttary list\n",
    "        pttary.append(dic)"
   ]
  },
  {
   "cell_type": "code",
   "execution_count": 257,
   "metadata": {
    "collapsed": false
   },
   "outputs": [
    {
     "data": {
      "text/html": [
       "<div>\n",
       "<table border=\"1\" class=\"dataframe\">\n",
       "  <thead>\n",
       "    <tr style=\"text-align: right;\">\n",
       "      <th></th>\n",
       "      <th>author</th>\n",
       "      <th>dt</th>\n",
       "      <th>link</th>\n",
       "      <th>nrec</th>\n",
       "      <th>summary</th>\n",
       "      <th>title</th>\n",
       "    </tr>\n",
       "  </thead>\n",
       "  <tbody>\n",
       "    <tr>\n",
       "      <th>0</th>\n",
       "      <td>FWade</td>\n",
       "      <td>2016-09-23 19:42:33</td>\n",
       "      <td>https://www.ptt.cc/bbs/creditcard/M.1474630956...</td>\n",
       "      <td>9</td>\n",
       "      <td>[心得] 富邦DHC聯名卡 新辦核卡 (附圖)\\n\\n[職業]:小小研究助理\\n\\n[工作年...</td>\n",
       "      <td>\\n[心得] 富邦DHC聯名卡 新辦核卡 (附圖)\\n</td>\n",
       "    </tr>\n",
       "    <tr>\n",
       "      <th>1</th>\n",
       "      <td>CCNCCN</td>\n",
       "      <td>2016-09-23 21:50:06</td>\n",
       "      <td>https://www.ptt.cc/bbs/creditcard/M.1474638608...</td>\n",
       "      <td>2</td>\n",
       "      <td>[申請銀行]：玉山銀行\\n[職業類別]：科技業\\n[工作年資]：11個月\\n[年齡]：27歲...</td>\n",
       "      <td>\\n[心得] 玉山雙幣卡 核卡\\n</td>\n",
       "    </tr>\n",
       "    <tr>\n",
       "      <th>2</th>\n",
       "      <td>lf780315</td>\n",
       "      <td>2016-09-23 22:16:51</td>\n",
       "      <td>https://www.ptt.cc/bbs/creditcard/M.1474640214...</td>\n",
       "      <td>2</td>\n",
       "      <td>[職業類別]：服務業\\n\\n\\n[工作年資]：4個月\\n\\n\\n[年齡]：27\\n\\n\\n[...</td>\n",
       "      <td>\\n[心得] [email protected]/* &lt;![CDATA[ */!functi...</td>\n",
       "    </tr>\n",
       "    <tr>\n",
       "      <th>3</th>\n",
       "      <td>fafalee</td>\n",
       "      <td>2016-09-23 23:47:25</td>\n",
       "      <td>https://www.ptt.cc/bbs/creditcard/M.1474645647...</td>\n",
       "      <td>8</td>\n",
       "      <td>借文發問一下\\n\\n有鄉民9/1兌換輸入還沒有入帳的嗎？\\n\\n想說如果大家狀況都一樣，就多...</td>\n",
       "      <td>\\nRe: [閒聊] openpoint兌換ANA里程  進帳!!!\\n</td>\n",
       "    </tr>\n",
       "    <tr>\n",
       "      <th>4</th>\n",
       "      <td>Roger37</td>\n",
       "      <td>2016-09-24 05:48:05</td>\n",
       "      <td>https://www.ptt.cc/bbs/creditcard/M.1474667288...</td>\n",
       "      <td>6</td>\n",
       "      <td>引述《oneone2 (彎彎兔)》之銘言：\\n: 有鑒於中午po了一篇玫瑰JCB核卡文中提到...</td>\n",
       "      <td>\\nRe: [情報] 新申辦台新JCB海外多重回饋！（日本3%）\\n</td>\n",
       "    </tr>\n",
       "  </tbody>\n",
       "</table>\n",
       "</div>"
      ],
      "text/plain": [
       "     author                  dt  \\\n",
       "0     FWade 2016-09-23 19:42:33   \n",
       "1    CCNCCN 2016-09-23 21:50:06   \n",
       "2  lf780315 2016-09-23 22:16:51   \n",
       "3   fafalee 2016-09-23 23:47:25   \n",
       "4   Roger37 2016-09-24 05:48:05   \n",
       "\n",
       "                                                link nrec  \\\n",
       "0  https://www.ptt.cc/bbs/creditcard/M.1474630956...    9   \n",
       "1  https://www.ptt.cc/bbs/creditcard/M.1474638608...    2   \n",
       "2  https://www.ptt.cc/bbs/creditcard/M.1474640214...    2   \n",
       "3  https://www.ptt.cc/bbs/creditcard/M.1474645647...    8   \n",
       "4  https://www.ptt.cc/bbs/creditcard/M.1474667288...    6   \n",
       "\n",
       "                                             summary  \\\n",
       "0  [心得] 富邦DHC聯名卡 新辦核卡 (附圖)\\n\\n[職業]:小小研究助理\\n\\n[工作年...   \n",
       "1  [申請銀行]：玉山銀行\\n[職業類別]：科技業\\n[工作年資]：11個月\\n[年齡]：27歲...   \n",
       "2  [職業類別]：服務業\\n\\n\\n[工作年資]：4個月\\n\\n\\n[年齡]：27\\n\\n\\n[...   \n",
       "3  借文發問一下\\n\\n有鄉民9/1兌換輸入還沒有入帳的嗎？\\n\\n想說如果大家狀況都一樣，就多...   \n",
       "4  引述《oneone2 (彎彎兔)》之銘言：\\n: 有鑒於中午po了一篇玫瑰JCB核卡文中提到...   \n",
       "\n",
       "                                               title  \n",
       "0                        \\n[心得] 富邦DHC聯名卡 新辦核卡 (附圖)\\n  \n",
       "1                                  \\n[心得] 玉山雙幣卡 核卡\\n  \n",
       "2  \\n[心得] [email protected]/* <![CDATA[ */!functi...  \n",
       "3               \\nRe: [閒聊] openpoint兌換ANA里程  進帳!!!\\n  \n",
       "4                 \\nRe: [情報] 新申辦台新JCB海外多重回饋！（日本3%）\\n  "
      ]
     },
     "execution_count": 257,
     "metadata": {},
     "output_type": "execute_result"
    }
   ],
   "source": [
    "import pandas\n",
    "pttdf = pandas.DataFrame(pttary)\n",
    "pttdf.head()"
   ]
  },
  {
   "cell_type": "code",
   "execution_count": 235,
   "metadata": {
    "collapsed": false
   },
   "outputs": [
    {
     "name": "stdout",
     "output_type": "stream",
     "text": [
      "2082\n",
      "2081\n"
     ]
    }
   ],
   "source": [
    "pageurl = 'https://www.ptt.cc/bbs/creditcard/index{}.html'\n",
    "for p in range(2082, 2081, -1):\n",
    "    print p"
   ]
  },
  {
   "cell_type": "code",
   "execution_count": 238,
   "metadata": {
    "collapsed": false
   },
   "outputs": [],
   "source": [
    "domain  = 'https://www.ptt.cc'\n",
    "\n",
    "def getPTTArticles(ptturl):\n",
    "    pttary = []\n",
    "    section = requests.get(ptturl)\n",
    "    soup = BeautifulSoup(section.text)\n",
    "    for ent in soup.select('.r-ent'):\n",
    "        if len(ent.select('a')) > 0:\n",
    "            dic = {}\n",
    "\n",
    "            # 取得作者, 標題, 連結, 按讚數\n",
    "            dic['author'] = ent.select('.author')[0].text \n",
    "            dic['nrec']   = ent.select('.nrec')[0].text \n",
    "            dic['title']  = ent.select('.title')[0].text \n",
    "            dic['link']   = domain + ent.select('a')[0]['href']\n",
    "\n",
    "            # 取得內文, 時間\n",
    "            dic.update(pageDetail(dic['link']))\n",
    "\n",
    "            # 將每一篇文章新增至pttary list\n",
    "            pttary.append(dic)\n",
    "    return pttary\n"
   ]
  },
  {
   "cell_type": "code",
   "execution_count": 239,
   "metadata": {
    "collapsed": false
   },
   "outputs": [
    {
     "name": "stdout",
     "output_type": "stream",
     "text": [
      "2082\n",
      "2081\n"
     ]
    }
   ],
   "source": [
    "pageurl = 'https://www.ptt.cc/bbs/creditcard/index{}.html'\n",
    "articlesary = []\n",
    "for p in range(2082, 2080, -1):\n",
    "    print p\n",
    "    ptturl = pageurl.format(p)\n",
    "    articlesary.extend(getPTTArticles(ptturl))"
   ]
  },
  {
   "cell_type": "code",
   "execution_count": 242,
   "metadata": {
    "collapsed": false
   },
   "outputs": [
    {
     "data": {
      "text/html": [
       "<div>\n",
       "<table border=\"1\" class=\"dataframe\">\n",
       "  <thead>\n",
       "    <tr style=\"text-align: right;\">\n",
       "      <th></th>\n",
       "      <th>author</th>\n",
       "      <th>dt</th>\n",
       "      <th>link</th>\n",
       "      <th>nrec</th>\n",
       "      <th>summary</th>\n",
       "      <th>title</th>\n",
       "    </tr>\n",
       "  </thead>\n",
       "  <tbody>\n",
       "    <tr>\n",
       "      <th>0</th>\n",
       "      <td>FWade</td>\n",
       "      <td>2016-09-23 19:42:33</td>\n",
       "      <td>https://www.ptt.cc/bbs/creditcard/M.1474630956...</td>\n",
       "      <td>9</td>\n",
       "      <td>[心得] 富邦DHC聯名卡 新辦核卡 (附圖)\\n\\n[職業]:小小研究助理\\n\\n[工作年...</td>\n",
       "      <td>\\n[心得] 富邦DHC聯名卡 新辦核卡 (附圖)\\n</td>\n",
       "    </tr>\n",
       "    <tr>\n",
       "      <th>1</th>\n",
       "      <td>CCNCCN</td>\n",
       "      <td>2016-09-23 19:42:33</td>\n",
       "      <td>https://www.ptt.cc/bbs/creditcard/M.1474638608...</td>\n",
       "      <td>2</td>\n",
       "      <td>[申請銀行]：玉山銀行\\n[職業類別]：科技業\\n[工作年資]：11個月\\n[年齡]：27歲...</td>\n",
       "      <td>\\n[心得] 玉山雙幣卡 核卡\\n</td>\n",
       "    </tr>\n",
       "    <tr>\n",
       "      <th>2</th>\n",
       "      <td>lf780315</td>\n",
       "      <td>2016-09-23 19:42:33</td>\n",
       "      <td>https://www.ptt.cc/bbs/creditcard/M.1474640214...</td>\n",
       "      <td>2</td>\n",
       "      <td>[職業類別]：服務業\\n\\n\\n[工作年資]：4個月\\n\\n\\n[年齡]：27\\n\\n\\n[...</td>\n",
       "      <td>\\n[心得] [email protected]/* &lt;![CDATA[ */!functi...</td>\n",
       "    </tr>\n",
       "    <tr>\n",
       "      <th>3</th>\n",
       "      <td>fafalee</td>\n",
       "      <td>2016-09-23 19:42:33</td>\n",
       "      <td>https://www.ptt.cc/bbs/creditcard/M.1474645647...</td>\n",
       "      <td>8</td>\n",
       "      <td>借文發問一下\\n\\n有鄉民9/1兌換輸入還沒有入帳的嗎？\\n\\n想說如果大家狀況都一樣，就多...</td>\n",
       "      <td>\\nRe: [閒聊] openpoint兌換ANA里程  進帳!!!\\n</td>\n",
       "    </tr>\n",
       "    <tr>\n",
       "      <th>4</th>\n",
       "      <td>Roger37</td>\n",
       "      <td>2016-09-23 19:42:33</td>\n",
       "      <td>https://www.ptt.cc/bbs/creditcard/M.1474667288...</td>\n",
       "      <td>6</td>\n",
       "      <td>引述《oneone2 (彎彎兔)》之銘言：\\n: 有鑒於中午po了一篇玫瑰JCB核卡文中提到...</td>\n",
       "      <td>\\nRe: [情報] 新申辦台新JCB海外多重回饋！（日本3%）\\n</td>\n",
       "    </tr>\n",
       "  </tbody>\n",
       "</table>\n",
       "</div>"
      ],
      "text/plain": [
       "     author                  dt  \\\n",
       "0     FWade 2016-09-23 19:42:33   \n",
       "1    CCNCCN 2016-09-23 19:42:33   \n",
       "2  lf780315 2016-09-23 19:42:33   \n",
       "3   fafalee 2016-09-23 19:42:33   \n",
       "4   Roger37 2016-09-23 19:42:33   \n",
       "\n",
       "                                                link nrec  \\\n",
       "0  https://www.ptt.cc/bbs/creditcard/M.1474630956...    9   \n",
       "1  https://www.ptt.cc/bbs/creditcard/M.1474638608...    2   \n",
       "2  https://www.ptt.cc/bbs/creditcard/M.1474640214...    2   \n",
       "3  https://www.ptt.cc/bbs/creditcard/M.1474645647...    8   \n",
       "4  https://www.ptt.cc/bbs/creditcard/M.1474667288...    6   \n",
       "\n",
       "                                             summary  \\\n",
       "0  [心得] 富邦DHC聯名卡 新辦核卡 (附圖)\\n\\n[職業]:小小研究助理\\n\\n[工作年...   \n",
       "1  [申請銀行]：玉山銀行\\n[職業類別]：科技業\\n[工作年資]：11個月\\n[年齡]：27歲...   \n",
       "2  [職業類別]：服務業\\n\\n\\n[工作年資]：4個月\\n\\n\\n[年齡]：27\\n\\n\\n[...   \n",
       "3  借文發問一下\\n\\n有鄉民9/1兌換輸入還沒有入帳的嗎？\\n\\n想說如果大家狀況都一樣，就多...   \n",
       "4  引述《oneone2 (彎彎兔)》之銘言：\\n: 有鑒於中午po了一篇玫瑰JCB核卡文中提到...   \n",
       "\n",
       "                                               title  \n",
       "0                        \\n[心得] 富邦DHC聯名卡 新辦核卡 (附圖)\\n  \n",
       "1                                  \\n[心得] 玉山雙幣卡 核卡\\n  \n",
       "2  \\n[心得] [email protected]/* <![CDATA[ */!functi...  \n",
       "3               \\nRe: [閒聊] openpoint兌換ANA里程  進帳!!!\\n  \n",
       "4                 \\nRe: [情報] 新申辦台新JCB海外多重回饋！（日本3%）\\n  "
      ]
     },
     "execution_count": 242,
     "metadata": {},
     "output_type": "execute_result"
    }
   ],
   "source": [
    "import pandas\n",
    "pttdf = pandas.DataFrame(articlesary)\n",
    "pttdf.head()"
   ]
  },
  {
   "cell_type": "code",
   "execution_count": 253,
   "metadata": {
    "collapsed": false
   },
   "outputs": [
    {
     "data": {
      "text/html": [
       "<div>\n",
       "<table border=\"1\" class=\"dataframe\">\n",
       "  <thead>\n",
       "    <tr style=\"text-align: right;\">\n",
       "      <th></th>\n",
       "      <th>author</th>\n",
       "      <th>dt</th>\n",
       "      <th>link</th>\n",
       "      <th>nrec</th>\n",
       "      <th>summary</th>\n",
       "      <th>title</th>\n",
       "    </tr>\n",
       "  </thead>\n",
       "  <tbody>\n",
       "    <tr>\n",
       "      <th>4</th>\n",
       "      <td>Roger37</td>\n",
       "      <td>2016-09-23 19:42:33</td>\n",
       "      <td>https://www.ptt.cc/bbs/creditcard/M.1474667288...</td>\n",
       "      <td>6</td>\n",
       "      <td>引述《oneone2 (彎彎兔)》之銘言：\\n: 有鑒於中午po了一篇玫瑰JCB核卡文中提到...</td>\n",
       "      <td>\\nRe: [情報] 新申辦台新JCB海外多重回饋！（日本3%）\\n</td>\n",
       "    </tr>\n",
       "    <tr>\n",
       "      <th>29</th>\n",
       "      <td>eggrolls</td>\n",
       "      <td>2016-09-23 19:42:33</td>\n",
       "      <td>https://www.ptt.cc/bbs/creditcard/M.1474616144...</td>\n",
       "      <td>7</td>\n",
       "      <td>職業類別]：會計\\n[年齡] : 32\\n[工作年資]：8年\\n[年收入]：800k\\n[申...</td>\n",
       "      <td>\\n[心得] 元大鑽金JCB/Master核卡\\n</td>\n",
       "    </tr>\n",
       "  </tbody>\n",
       "</table>\n",
       "</div>"
      ],
      "text/plain": [
       "      author                  dt  \\\n",
       "4    Roger37 2016-09-23 19:42:33   \n",
       "29  eggrolls 2016-09-23 19:42:33   \n",
       "\n",
       "                                                 link nrec  \\\n",
       "4   https://www.ptt.cc/bbs/creditcard/M.1474667288...    6   \n",
       "29  https://www.ptt.cc/bbs/creditcard/M.1474616144...    7   \n",
       "\n",
       "                                              summary  \\\n",
       "4   引述《oneone2 (彎彎兔)》之銘言：\\n: 有鑒於中午po了一篇玫瑰JCB核卡文中提到...   \n",
       "29  職業類別]：會計\\n[年齡] : 32\\n[工作年資]：8年\\n[年收入]：800k\\n[申...   \n",
       "\n",
       "                                 title  \n",
       "4   \\nRe: [情報] 新申辦台新JCB海外多重回饋！（日本3%）\\n  \n",
       "29           \\n[心得] 元大鑽金JCB/Master核卡\\n  "
      ]
     },
     "execution_count": 253,
     "metadata": {},
     "output_type": "execute_result"
    }
   ],
   "source": [
    "pttdf[pttdf['title'].str.contains(u'JCB')]"
   ]
  },
  {
   "cell_type": "markdown",
   "metadata": {},
   "source": [
    "## 匯出成excel"
   ]
  },
  {
   "cell_type": "code",
   "execution_count": 254,
   "metadata": {
    "collapsed": true
   },
   "outputs": [],
   "source": [
    "pttdf.to_excel('pttcreditcard.xlsx')"
   ]
  },
  {
   "cell_type": "markdown",
   "metadata": {},
   "source": [
    "## extend list"
   ]
  },
  {
   "cell_type": "code",
   "execution_count": 236,
   "metadata": {
    "collapsed": false
   },
   "outputs": [
    {
     "name": "stdout",
     "output_type": "stream",
     "text": [
      "[2, 3, 1, 2, 3]\n"
     ]
    }
   ],
   "source": [
    "a = [1,2,3]\n",
    "b = [2,3]\n",
    "b.extend(a)\n",
    "print b"
   ]
  },
  {
   "cell_type": "markdown",
   "metadata": {},
   "source": [
    "## 建立字典"
   ]
  },
  {
   "cell_type": "code",
   "execution_count": 208,
   "metadata": {
    "collapsed": false
   },
   "outputs": [
    {
     "name": "stdout",
     "output_type": "stream",
     "text": [
      "4\n",
      "4\n",
      "hello\n",
      "123\n",
      "{'a': 1, 'c': 12.34, 'b': 123}\n"
     ]
    }
   ],
   "source": [
    "# list: []\n",
    "li = [1,2,3,4,5,6]\n",
    "print li[3]\n",
    "\n",
    "# tuple: (), 值不能被修改\n",
    "t = (1,2,3,4)\n",
    "print t[3]\n",
    "\n",
    "# dictionary: {}, key:value pair\n",
    "dic={'a':1, 'b':'hello', 'c':12.34}\n",
    "print dic['b']\n",
    "dic['b'] = 123\n",
    "print dic['b']\n",
    "print dic"
   ]
  },
  {
   "cell_type": "code",
   "execution_count": 209,
   "metadata": {
    "collapsed": false
   },
   "outputs": [
    {
     "name": "stdout",
     "output_type": "stream",
     "text": [
      "{'a': 100, 'c': 0.98, 'b': 'yes'}\n",
      "['a', 'c', 'b']\n",
      "[100, 0.98, 'yes']\n"
     ]
    }
   ],
   "source": [
    "dic={'a':100,'b':\"yes\",'c':0.98}\n",
    "print dic\n",
    "\n",
    "#get keys in dictionary\n",
    "print dic.keys()\n",
    "\n",
    "#get values in dictionary\n",
    "print dic.values()\n"
   ]
  },
  {
   "cell_type": "code",
   "execution_count": 210,
   "metadata": {
    "collapsed": false
   },
   "outputs": [
    {
     "name": "stdout",
     "output_type": "stream",
     "text": [
      "100\n",
      "100\n"
     ]
    }
   ],
   "source": [
    "#get value of given key\n",
    "print dic['a']\n",
    "\n",
    "#get value of given key\n",
    "print dic.get('a')"
   ]
  },
  {
   "cell_type": "code",
   "execution_count": 211,
   "metadata": {
    "collapsed": false
   },
   "outputs": [
    {
     "ename": "KeyError",
     "evalue": "'d'",
     "output_type": "error",
     "traceback": [
      "\u001b[1;31m---------------------------------------------------------------------------\u001b[0m",
      "\u001b[1;31mKeyError\u001b[0m                                  Traceback (most recent call last)",
      "\u001b[1;32m<ipython-input-211-143205e8c65b>\u001b[0m in \u001b[0;36m<module>\u001b[1;34m()\u001b[0m\n\u001b[1;32m----> 1\u001b[1;33m \u001b[1;32mprint\u001b[0m \u001b[0mdic\u001b[0m\u001b[1;33m[\u001b[0m\u001b[1;34m'd'\u001b[0m\u001b[1;33m]\u001b[0m\u001b[1;33m\u001b[0m\u001b[0m\n\u001b[0m",
      "\u001b[1;31mKeyError\u001b[0m: 'd'"
     ]
    }
   ],
   "source": [
    "print dic['d']"
   ]
  },
  {
   "cell_type": "code",
   "execution_count": 213,
   "metadata": {
    "collapsed": false
   },
   "outputs": [
    {
     "name": "stdout",
     "output_type": "stream",
     "text": [
      "None\n",
      "default\n"
     ]
    }
   ],
   "source": [
    "print dic.get('d')\n",
    "print dic.get('d', 'default')"
   ]
  },
  {
   "cell_type": "code",
   "execution_count": 214,
   "metadata": {
    "collapsed": true
   },
   "outputs": [],
   "source": [
    "dic['d'] = 'new'"
   ]
  },
  {
   "cell_type": "code",
   "execution_count": 216,
   "metadata": {
    "collapsed": false
   },
   "outputs": [
    {
     "name": "stdout",
     "output_type": "stream",
     "text": [
      "{'a': 100, 'c': 0.98, 'b': 'yes', 'd': 'new'}\n"
     ]
    }
   ],
   "source": [
    "print dic"
   ]
  },
  {
   "cell_type": "code",
   "execution_count": 217,
   "metadata": {
    "collapsed": false
   },
   "outputs": [
    {
     "name": "stdout",
     "output_type": "stream",
     "text": [
      "{'a': 100, 'c': 0.98, 'b': 'yes', 'e': 123, 'd': 'new'}\n"
     ]
    }
   ],
   "source": [
    "dic.update({'e':123})\n",
    "print dic\n"
   ]
  },
  {
   "cell_type": "code",
   "execution_count": 218,
   "metadata": {
    "collapsed": false
   },
   "outputs": [
    {
     "name": "stdout",
     "output_type": "stream",
     "text": [
      "a 100\n",
      "c 0.98\n",
      "b yes\n",
      "e 123\n",
      "d new\n"
     ]
    }
   ],
   "source": [
    "# iterthe dictionary\n",
    "for rec in dic:\n",
    "    print rec,dic[rec]"
   ]
  },
  {
   "cell_type": "code",
   "execution_count": 219,
   "metadata": {
    "collapsed": false
   },
   "outputs": [
    {
     "data": {
      "text/html": [
       "<div>\n",
       "<table border=\"1\" class=\"dataframe\">\n",
       "  <thead>\n",
       "    <tr style=\"text-align: right;\">\n",
       "      <th></th>\n",
       "      <th>article</th>\n",
       "      <th>tag</th>\n",
       "      <th>title</th>\n",
       "    </tr>\n",
       "  </thead>\n",
       "  <tbody>\n",
       "    <tr>\n",
       "      <th>0</th>\n",
       "      <td>hello world</td>\n",
       "      <td>NaN</td>\n",
       "      <td>1</td>\n",
       "    </tr>\n",
       "    <tr>\n",
       "      <th>1</th>\n",
       "      <td>hello world2</td>\n",
       "      <td>cool</td>\n",
       "      <td>2</td>\n",
       "    </tr>\n",
       "  </tbody>\n",
       "</table>\n",
       "</div>"
      ],
      "text/plain": [
       "        article   tag  title\n",
       "0   hello world   NaN      1\n",
       "1  hello world2  cool      2"
      ]
     },
     "execution_count": 219,
     "metadata": {},
     "output_type": "execute_result"
    }
   ],
   "source": [
    "import pandas\n",
    "a = [{'title':1, 'article':'hello world'}, {'title':2, 'article':'hello world2', 'tag':'cool'}]\n",
    "df = pandas.DataFrame(a)\n",
    "df"
   ]
  },
  {
   "cell_type": "markdown",
   "metadata": {},
   "source": [
    "## 連結資料庫"
   ]
  },
  {
   "cell_type": "code",
   "execution_count": 260,
   "metadata": {
    "collapsed": false
   },
   "outputs": [],
   "source": [
    "import MySQLdb\n",
    "\n",
    "# 連接到MySQL\n",
    "db = MySQLdb.connect(host=\"localhost\",\n",
    "                     user=\"root\",\n",
    "                     passwd=\"test\",\n",
    "                     db=\"ptt\",\n",
    "                     charset='utf8')\n",
    "# 建立Cursor\n",
    "cur = db.cursor()\n",
    "\n",
    "# 建立表格\n",
    "cur.execute('create table test(id int, name varchar(30));')\n",
    "\n",
    "# 認可交易\n",
    "db.commit()\n",
    "\n",
    "# 關閉連線\n",
    "db.close()"
   ]
  },
  {
   "cell_type": "code",
   "execution_count": 262,
   "metadata": {
    "collapsed": true
   },
   "outputs": [],
   "source": [
    "import MySQLdb\n",
    "\n",
    "# 連接到MySQL\n",
    "db = MySQLdb.connect(host=\"localhost\",\n",
    "                     user=\"root\",\n",
    "                     passwd=\"test\",\n",
    "                     db=\"ptt\",\n",
    "                     charset='utf8')\n",
    "# 建立Cursor\n",
    "cur = db.cursor()\n",
    "\n",
    "# insert data\n",
    "cur.execute(\"insert into test(id, name) values(1, 'david');\")\n",
    "cur.execute(\"insert into test(id, name) values(2, 'mary');\")\n",
    "cur.execute(\"insert into test(id, name) values(3, 'john');\")\n",
    "\n",
    "# 認可交易\n",
    "db.commit()\n",
    "\n",
    "# 關閉連線\n",
    "db.close()"
   ]
  },
  {
   "cell_type": "code",
   "execution_count": 263,
   "metadata": {
    "collapsed": false
   },
   "outputs": [
    {
     "name": "stdout",
     "output_type": "stream",
     "text": [
      "(1L, u'david')\n",
      "(1L, u'david')\n",
      "(2L, u'mary')\n",
      "(3L, u'john')\n"
     ]
    }
   ],
   "source": [
    "import MySQLdb\n",
    "\n",
    "# 連接到MySQL\n",
    "db = MySQLdb.connect(host=\"localhost\",\n",
    "                     user=\"root\",\n",
    "                     passwd=\"test\",\n",
    "                     db=\"ptt\",\n",
    "                     charset='utf8')\n",
    "# 建立Cursor\n",
    "cur = db.cursor()\n",
    "\n",
    "# select data\n",
    "cur.execute(\"select * from test;\") # 取出所有欄位\n",
    "data = cur.fetchall()\n",
    "for rec in data:\n",
    "    print rec\n",
    "\n",
    "# 關閉連線\n",
    "db.close()"
   ]
  },
  {
   "cell_type": "code",
   "execution_count": 267,
   "metadata": {
    "collapsed": false
   },
   "outputs": [
    {
     "data": {
      "text/plain": [
       "Index([u'author', u'dt', u'link', u'nrec', u'summary', u'title'], dtype='object')"
      ]
     },
     "execution_count": 267,
     "metadata": {},
     "output_type": "execute_result"
    }
   ],
   "source": [
    "pttdf.columns"
   ]
  },
  {
   "cell_type": "raw",
   "metadata": {},
   "source": [
    "# create table sql\n",
    "create table pttarticles(\n",
    "   `index`int(11) NOT NULL,\n",
    "    author varchar(100),\n",
    "    dt datetime,\n",
    "    link varchar(1000),\n",
    "    nrec varchar(100),\n",
    "    summary text,\n",
    "    title varchar(1000)\n",
    ");"
   ]
  },
  {
   "cell_type": "code",
   "execution_count": 282,
   "metadata": {
    "collapsed": false
   },
   "outputs": [],
   "source": [
    "import MySQLdb\n",
    "db = MySQLdb.connect(host=\"localhost\",\n",
    "                     user=\"root\",\n",
    "                     passwd=\"test\",\n",
    "                     db=\"ptt\",\n",
    "                     charset='utf8')\n",
    "\n",
    "pttdf.to_sql('pttarticles', con=db, flavor='mysql', if_exists='append')\n",
    "db.close()"
   ]
  },
  {
   "cell_type": "code",
   "execution_count": 284,
   "metadata": {
    "collapsed": false
   },
   "outputs": [
    {
     "data": {
      "text/html": [
       "<div>\n",
       "<table border=\"1\" class=\"dataframe\">\n",
       "  <thead>\n",
       "    <tr style=\"text-align: right;\">\n",
       "      <th></th>\n",
       "      <th>author</th>\n",
       "      <th>dt</th>\n",
       "      <th>nrec</th>\n",
       "      <th>title</th>\n",
       "    </tr>\n",
       "  </thead>\n",
       "  <tbody>\n",
       "    <tr>\n",
       "      <th>0</th>\n",
       "      <td>FWade</td>\n",
       "      <td>2016-09-23 19:42:33</td>\n",
       "      <td>9</td>\n",
       "      <td>\\n[心得] 富邦DHC聯名卡 新辦核卡 (附圖)\\n</td>\n",
       "    </tr>\n",
       "    <tr>\n",
       "      <th>1</th>\n",
       "      <td>CCNCCN</td>\n",
       "      <td>2016-09-23 21:50:06</td>\n",
       "      <td>2</td>\n",
       "      <td>\\n[心得] 玉山雙幣卡 核卡\\n</td>\n",
       "    </tr>\n",
       "    <tr>\n",
       "      <th>2</th>\n",
       "      <td>lf780315</td>\n",
       "      <td>2016-09-23 22:16:51</td>\n",
       "      <td>2</td>\n",
       "      <td>\\n[心得] [email protected]/* &lt;![CDATA[ */!functi...</td>\n",
       "    </tr>\n",
       "    <tr>\n",
       "      <th>3</th>\n",
       "      <td>fafalee</td>\n",
       "      <td>2016-09-23 23:47:25</td>\n",
       "      <td>8</td>\n",
       "      <td>\\nRe: [閒聊] openpoint兌換ANA里程  進帳!!!\\n</td>\n",
       "    </tr>\n",
       "    <tr>\n",
       "      <th>4</th>\n",
       "      <td>Roger37</td>\n",
       "      <td>2016-09-24 05:48:05</td>\n",
       "      <td>6</td>\n",
       "      <td>\\nRe: [情報] 新申辦台新JCB海外多重回饋！（日本3%）\\n</td>\n",
       "    </tr>\n",
       "  </tbody>\n",
       "</table>\n",
       "</div>"
      ],
      "text/plain": [
       "     author                  dt nrec  \\\n",
       "0     FWade 2016-09-23 19:42:33    9   \n",
       "1    CCNCCN 2016-09-23 21:50:06    2   \n",
       "2  lf780315 2016-09-23 22:16:51    2   \n",
       "3   fafalee 2016-09-23 23:47:25    8   \n",
       "4   Roger37 2016-09-24 05:48:05    6   \n",
       "\n",
       "                                               title  \n",
       "0                        \\n[心得] 富邦DHC聯名卡 新辦核卡 (附圖)\\n  \n",
       "1                                  \\n[心得] 玉山雙幣卡 核卡\\n  \n",
       "2  \\n[心得] [email protected]/* <![CDATA[ */!functi...  \n",
       "3               \\nRe: [閒聊] openpoint兌換ANA里程  進帳!!!\\n  \n",
       "4                 \\nRe: [情報] 新申辦台新JCB海外多重回饋！（日本3%）\\n  "
      ]
     },
     "execution_count": 284,
     "metadata": {},
     "output_type": "execute_result"
    }
   ],
   "source": [
    "import pandas\n",
    "db = MySQLdb.connect(host=\"localhost\",\n",
    "                     user=\"root\",\n",
    "                     passwd=\"test\",\n",
    "                     db=\"ptt\",\n",
    "                     charset='utf8')\n",
    "df = pandas.read_sql('select author, dt, nrec, title from pttarticles', con=db)\n",
    "db.close()\n",
    "\n",
    "df.head()"
   ]
  }
 ],
 "metadata": {
  "anaconda-cloud": {},
  "kernelspec": {
   "display_name": "Python [Root]",
   "language": "python",
   "name": "Python [Root]"
  },
  "language_info": {
   "codemirror_mode": {
    "name": "ipython",
    "version": 2
   },
   "file_extension": ".py",
   "mimetype": "text/x-python",
   "name": "python",
   "nbconvert_exporter": "python",
   "pygments_lexer": "ipython2",
   "version": "2.7.12"
  }
 },
 "nbformat": 4,
 "nbformat_minor": 0
}
