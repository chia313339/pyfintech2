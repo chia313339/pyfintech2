{
 "cells": [
  {
   "cell_type": "markdown",
   "metadata": {},
   "source": [
    "## Mongo Basic"
   ]
  },
  {
   "cell_type": "code",
   "execution_count": null,
   "metadata": {
    "collapsed": true
   },
   "outputs": [],
   "source": [
    "# insert movies\n",
    "db.movies.insert({\"id\":10,\"name\": \"titanic\",\"Rating\": \"R\"})\n",
    "\n",
    "# select data\n",
    "db.movies.find()\n",
    "\n",
    "# update data\n",
    "db.movies.update(\n",
    "{id: 10}, {$set: {Rating: \"NR\"}}\n",
    ")\n",
    "\n",
    "# reove data from movies\n",
    "db.movies.remove({\"Rating\": \"NR\"})"
   ]
  },
  {
   "cell_type": "markdown",
   "metadata": {},
   "source": [
    "## Mongo Operation On Zip Code Dataset"
   ]
  },
  {
   "cell_type": "code",
   "execution_count": null,
   "metadata": {
    "collapsed": true
   },
   "outputs": [],
   "source": [
    "mongoimport --db test --collection zips --drop --file zips.json\n",
    "mongo"
   ]
  },
  {
   "cell_type": "code",
   "execution_count": null,
   "metadata": {
    "collapsed": true
   },
   "outputs": [],
   "source": [
    "# 切換資料庫\n",
    "use test\n",
    "\n",
    "# 存取第一筆資料\n",
    "db.zips.findOne()\n",
    "\n",
    "# 使用條件篩選\n",
    "db.zips.find({state:\"MA\"})\n",
    "db.zips.find({state:\"MA\", , pop: { $gt : 10000}})\n",
    "\n",
    "## Return States with Populations above 10 Million\n",
    "# select state, sum(pop) from zips gorup by state having sum(pop) > 10000000\n",
    "db.zips.aggregate( [\n",
    "   { $group: { _id: \"$state\", totalPop: { $sum: \"$pop\" } } },\n",
    "   { $match: { totalPop: { $gte: 10000000 } } }\n",
    "] )\n",
    "\n",
    "## Return Average City Population by State\n",
    "## select state, avg(pop) from (  \n",
    "##     select state, city, sum(pop) as pop from zips group by state, city) zips \n",
    "## group by state\n",
    "db.zips.aggregate( [\n",
    "   { $group: { _id: { state: \"$state\", city: \"$city\" }, pop: { $sum: \"$pop\" } } },\n",
    "   { $group: { _id: \"$_id.state\", avgCityPop: { $avg: \"$pop\" } } }\n",
    "] )"
   ]
  },
  {
   "cell_type": "markdown",
   "metadata": {},
   "source": [
    "## MongoDB UI\n",
    "- https://www.mongodb.com/download-center?jmp=nav#compass"
   ]
  },
  {
   "cell_type": "code",
   "execution_count": null,
   "metadata": {
    "collapsed": true
   },
   "outputs": [],
   "source": []
  }
 ],
 "metadata": {
  "kernelspec": {
   "display_name": "Python [Root]",
   "language": "python",
   "name": "Python [Root]"
  },
  "language_info": {
   "codemirror_mode": {
    "name": "ipython",
    "version": 2
   },
   "file_extension": ".py",
   "mimetype": "text/x-python",
   "name": "python",
   "nbconvert_exporter": "python",
   "pygments_lexer": "ipython2",
   "version": "2.7.12"
  }
 },
 "nbformat": 4,
 "nbformat_minor": 0
}
