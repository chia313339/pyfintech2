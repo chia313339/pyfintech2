{
 "cells": [
  {
   "cell_type": "code",
   "execution_count": null,
   "metadata": {
    "collapsed": true
   },
   "outputs": [],
   "source": [
    "# insert movies\n",
    "db.movies.insert({\"id\":10,\"name\": \"titanic\",\"Rating\": \"R\"})\n",
    "\n",
    "# select data\n",
    "db.movies.find()\n",
    "\n",
    "# update data\n",
    "db.movies.update(\n",
    "{id: 10}, {$set: {Rating: \"NR\"}}\n",
    ")\n",
    "\n",
    "# reove data from movies\n",
    "db.movies.remove({\"Rating\": \"NR\"})"
   ]
  }
 ],
 "metadata": {
  "kernelspec": {
   "display_name": "Python [Root]",
   "language": "python",
   "name": "Python [Root]"
  },
  "language_info": {
   "codemirror_mode": {
    "name": "ipython",
    "version": 2
   },
   "file_extension": ".py",
   "mimetype": "text/x-python",
   "name": "python",
   "nbconvert_exporter": "python",
   "pygments_lexer": "ipython2",
   "version": "2.7.12"
  }
 },
 "nbformat": 4,
 "nbformat_minor": 0
}
