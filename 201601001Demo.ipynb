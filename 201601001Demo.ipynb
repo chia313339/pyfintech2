{
 "cells": [
  {
   "cell_type": "markdown",
   "metadata": {},
   "source": [
    "## Mongo Basic"
   ]
  },
  {
   "cell_type": "code",
   "execution_count": null,
   "metadata": {
    "collapsed": true
   },
   "outputs": [],
   "source": [
    "# insert movies\n",
    "db.movies.insert({\"id\":10,\"name\": \"titanic\",\"Rating\": \"R\"})\n",
    "\n",
    "# select data\n",
    "db.movies.find()\n",
    "\n",
    "# update data\n",
    "db.movies.update(\n",
    "{id: 10}, {$set: {Rating: \"NR\"}}\n",
    ")\n",
    "\n",
    "# reove data from movies\n",
    "db.movies.remove({\"Rating\": \"NR\"})"
   ]
  },
  {
   "cell_type": "markdown",
   "metadata": {},
   "source": [
    "## Mongo Operation On Zip Code Dataset"
   ]
  },
  {
   "cell_type": "code",
   "execution_count": null,
   "metadata": {
    "collapsed": true
   },
   "outputs": [],
   "source": [
    "mongoimport --db test --collection zips --drop --file zips.json\n",
    "mongo"
   ]
  },
  {
   "cell_type": "code",
   "execution_count": null,
   "metadata": {
    "collapsed": true
   },
   "outputs": [],
   "source": [
    "# 切換資料庫\n",
    "use test\n",
    "\n",
    "# 存取第一筆資料\n",
    "db.zips.findOne()\n",
    "\n",
    "# 使用條件篩選\n",
    "db.zips.find({state:\"MA\"})\n",
    "db.zips.find({state:\"MA\", , pop: { $gt : 10000}})\n",
    "\n",
    "## Return States with Populations above 10 Million\n",
    "# select state, sum(pop) from zips gorup by state having sum(pop) > 10000000\n",
    "db.zips.aggregate( [\n",
    "   { $group: { _id: \"$state\", totalPop: { $sum: \"$pop\" } } },\n",
    "   { $match: { totalPop: { $gte: 10000000 } } }\n",
    "] )\n",
    "\n",
    "## Return Average City Population by State\n",
    "## select state, avg(pop) from (  \n",
    "##     select state, city, sum(pop) as pop from zips group by state, city) zips \n",
    "## group by state\n",
    "db.zips.aggregate( [\n",
    "   { $group: { _id: { state: \"$state\", city: \"$city\" }, pop: { $sum: \"$pop\" } } },\n",
    "   { $group: { _id: \"$_id.state\", avgCityPop: { $avg: \"$pop\" } } }\n",
    "] )"
   ]
  },
  {
   "cell_type": "markdown",
   "metadata": {},
   "source": [
    "## MongoDB UI\n",
    "- https://www.mongodb.com/download-center?jmp=nav#compass"
   ]
  },
  {
   "cell_type": "markdown",
   "metadata": {},
   "source": [
    "## 存取Facebook 資訊"
   ]
  },
  {
   "cell_type": "code",
   "execution_count": 2,
   "metadata": {
    "collapsed": true
   },
   "outputs": [],
   "source": [
    "ACCESSTOKEN = 'EAACEdEose0cBAEMFFplqcmwHZBqxZCpHfjMwt5Gs2maToSxfAwuP2FRM8WHIEbdeoT6h3sfDh7HFJFieMLnVPlzX2fhzQL38oMEzHXRZABuRTUSNPRhUkyUuVEMOrmhFAq0JXEOJK1oAJjYX8puyyyOYQM2ZBwM6XKhkHUSIKwZDZD'"
   ]
  },
  {
   "cell_type": "code",
   "execution_count": 6,
   "metadata": {
    "collapsed": false
   },
   "outputs": [
    {
     "name": "stdout",
     "output_type": "stream",
     "text": [
      "{\"data\":[{\"id\":\"1664781083784462\",\"created_time\":\"2016-03-09T06:42:31+0000\",\"place\":{\"id\":\"182820988487172\",\"location\":{\"city\":\"Singapore\",\"country\":\"Singapore\",\"latitude\":25.040897308255,\"longitude\":121.55372061213,\"street\":\"Singapore Changi Airport\",\"zip\":\"81\"},\"name\":\"\\u65b0\\u52a0\\u5761\\u6a1f\\u5b9c\\u6a5f\\u5834\"}},{\"id\":\"1664781047117799\",\"created_time\":\"2016-03-09T06:42:08+0000\",\"place\":{\"id\":\"171070619595488\",\"location\":{\"city\":\"Ikeda-machi Kitaazumi-gun\",\"country\":\"Japan\",\"latitude\":36.701882048976,\"longitude\":137.83747383417,\"state\":\"Nagano\",\"street\":\"\\u767d\\u99ac\\u6751\\u516b\\u65b9\",\"zip\":\"399-9301\"},\"name\":\"\\u767d\\u99ac \\u516b\\u65b9\\u5c3e\\u6839\"}},{\"id\":\"1664780843784486\",\"created_time\":\"2016-03-09T06:40:18+0000\",\"place\":{\"id\":\"150751781627629\",\"location\":{\"city\":\"Taipei\",\"country\":\"Taiwan\",\"latitude\":25.035434763842,\"longitude\":121.51971981538,\"street\":\"No.21, Zhongshan S. Rd., Zhongzheng Dist., Taipei City 100, Taiwan (R.O.C.)\",\"zip\":\"10048\"},\"name\":\"\\u4e2d\\u6b63\\u7d00\\u5ff5\\u5802 Chiang Kai-shek Memorial Hall\"}}],\"paging\":{\"cursors\":{\"before\":\"MTY2NDc4MTA4Mzc4NDQ2MgZDZD\",\"after\":\"MTY2NDc4MDg0Mzc4NDQ4NgZDZD\"}}}\n"
     ]
    }
   ],
   "source": [
    "import requests\n",
    "res = requests.get('https://graph.facebook.com/v2.7/me/tagged_places?access_token={}'.format(ACCESSTOKEN))\n",
    "print res.text"
   ]
  },
  {
   "cell_type": "code",
   "execution_count": 14,
   "metadata": {
    "collapsed": false
   },
   "outputs": [],
   "source": [
    "import json\n",
    "jd = json.loads(res.text) # 將json 轉變為 字典\n",
    "place_ary = []\n",
    "for rec in jd['data']:\n",
    "    place_name = rec['place']['name']\n",
    "    place_id = rec['place']['id']\n",
    "    create_time = rec['created_time']\n",
    "    place_ary.append({'place_id':place_id ,'place_name': place_name, 'created_time': create_time})"
   ]
  },
  {
   "cell_type": "code",
   "execution_count": 15,
   "metadata": {
    "collapsed": false
   },
   "outputs": [
    {
     "data": {
      "text/html": [
       "<div>\n",
       "<table border=\"1\" class=\"dataframe\">\n",
       "  <thead>\n",
       "    <tr style=\"text-align: right;\">\n",
       "      <th></th>\n",
       "      <th>created_time</th>\n",
       "      <th>place_id</th>\n",
       "      <th>place_name</th>\n",
       "    </tr>\n",
       "  </thead>\n",
       "  <tbody>\n",
       "    <tr>\n",
       "      <th>0</th>\n",
       "      <td>2016-03-09T06:42:31+0000</td>\n",
       "      <td>182820988487172</td>\n",
       "      <td>新加坡樟宜機場</td>\n",
       "    </tr>\n",
       "    <tr>\n",
       "      <th>1</th>\n",
       "      <td>2016-03-09T06:42:08+0000</td>\n",
       "      <td>171070619595488</td>\n",
       "      <td>白馬 八方尾根</td>\n",
       "    </tr>\n",
       "    <tr>\n",
       "      <th>2</th>\n",
       "      <td>2016-03-09T06:40:18+0000</td>\n",
       "      <td>150751781627629</td>\n",
       "      <td>中正紀念堂 Chiang Kai-shek Memorial Hall</td>\n",
       "    </tr>\n",
       "  </tbody>\n",
       "</table>\n",
       "</div>"
      ],
      "text/plain": [
       "               created_time         place_id  \\\n",
       "0  2016-03-09T06:42:31+0000  182820988487172   \n",
       "1  2016-03-09T06:42:08+0000  171070619595488   \n",
       "2  2016-03-09T06:40:18+0000  150751781627629   \n",
       "\n",
       "                            place_name  \n",
       "0                              新加坡樟宜機場  \n",
       "1                              白馬 八方尾根  \n",
       "2  中正紀念堂 Chiang Kai-shek Memorial Hall  "
      ]
     },
     "execution_count": 15,
     "metadata": {},
     "output_type": "execute_result"
    }
   ],
   "source": [
    "import pandas\n",
    "df = pandas.DataFrame(place_ary)\n",
    "df"
   ]
  },
  {
   "cell_type": "markdown",
   "metadata": {},
   "source": [
    "## 抓取粉絲頁資訊"
   ]
  },
  {
   "cell_type": "code",
   "execution_count": 17,
   "metadata": {
    "collapsed": true
   },
   "outputs": [],
   "source": [
    "ACCESSTOKEN = 'EAACEdEose0cBANzWCdFZAxntjyx2adJImM4lH2x3qektRTMYF5LOw6H1dedE6QCbqfJO16jaPgntb15KSb10F0MZCoysUKv1q6xFVtXCgEUHlkc098owQHIS0477EN23F7eXj8JKJexwQgdSwex7F3ZBveKPI6WA2LTZCCmFZBAZDZD'"
   ]
  },
  {
   "cell_type": "code",
   "execution_count": 25,
   "metadata": {
    "collapsed": true
   },
   "outputs": [],
   "source": [
    "fbid = '583984981774221'\n",
    "fbsecret = '168718a9844764d5739090ecf036b28c'\n",
    "ACCESSTOKEN = '{}|{}'.format(fbid, fbsecret)"
   ]
  },
  {
   "cell_type": "code",
   "execution_count": 26,
   "metadata": {
    "collapsed": false
   },
   "outputs": [],
   "source": [
    "import requests\n",
    "res = requests.get('https://graph.facebook.com/v2.7/smartloan.tw/posts?access_token={}'.format(ACCESSTOKEN))\n",
    "jd = json.loads(res.text) # 將json 轉變為 字典\n",
    "place_ary = []\n",
    "for rec in jd['data']:\n",
    "    if 'message' in rec:\n",
    "        message = rec['message'] \n",
    "    #place_name = rec['message']"
   ]
  },
  {
   "cell_type": "code",
   "execution_count": null,
   "metadata": {
    "collapsed": true
   },
   "outputs": [],
   "source": []
  }
 ],
 "metadata": {
  "kernelspec": {
   "display_name": "Python [Root]",
   "language": "python",
   "name": "Python [Root]"
  },
  "language_info": {
   "codemirror_mode": {
    "name": "ipython",
    "version": 2
   },
   "file_extension": ".py",
   "mimetype": "text/x-python",
   "name": "python",
   "nbconvert_exporter": "python",
   "pygments_lexer": "ipython2",
   "version": "2.7.12"
  }
 },
 "nbformat": 4,
 "nbformat_minor": 0
}
