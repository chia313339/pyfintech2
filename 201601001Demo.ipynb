{
 "cells": [
  {
   "cell_type": "markdown",
   "metadata": {},
   "source": [
    "## Mongo Basic"
   ]
  },
  {
   "cell_type": "code",
   "execution_count": null,
   "metadata": {
    "collapsed": true
   },
   "outputs": [],
   "source": [
    "# insert movies\n",
    "db.movies.insert({\"id\":10,\"name\": \"titanic\",\"Rating\": \"R\"})\n",
    "\n",
    "# select data\n",
    "db.movies.find()\n",
    "\n",
    "# update data\n",
    "db.movies.update(\n",
    "{id: 10}, {$set: {Rating: \"NR\"}}\n",
    ")\n",
    "\n",
    "# reove data from movies\n",
    "db.movies.remove({\"Rating\": \"NR\"})"
   ]
  },
  {
   "cell_type": "markdown",
   "metadata": {},
   "source": [
    "## Mongo Operation On Zip Code Dataset"
   ]
  },
  {
   "cell_type": "code",
   "execution_count": null,
   "metadata": {
    "collapsed": true
   },
   "outputs": [],
   "source": [
    "mongoimport --db test --collection zips --drop --file zips.json\n",
    "mongo"
   ]
  },
  {
   "cell_type": "code",
   "execution_count": null,
   "metadata": {
    "collapsed": true
   },
   "outputs": [],
   "source": [
    "# 切換資料庫\n",
    "use test\n",
    "\n",
    "# 存取第一筆資料\n",
    "db.zips.findOne()\n",
    "\n",
    "# 使用條件篩選\n",
    "db.zips.find({state:\"MA\"})\n",
    "db.zips.find({state:\"MA\", , pop: { $gt : 10000}})\n",
    "\n",
    "## Return States with Populations above 10 Million\n",
    "# select state, sum(pop) from zips gorup by state having sum(pop) > 10000000\n",
    "db.zips.aggregate( [\n",
    "   { $group: { _id: \"$state\", totalPop: { $sum: \"$pop\" } } },\n",
    "   { $match: { totalPop: { $gte: 10000000 } } }\n",
    "] )\n",
    "\n",
    "## Return Average City Population by State\n",
    "## select state, avg(pop) from (  \n",
    "##     select state, city, sum(pop) as pop from zips group by state, city) zips \n",
    "## group by state\n",
    "db.zips.aggregate( [\n",
    "   { $group: { _id: { state: \"$state\", city: \"$city\" }, pop: { $sum: \"$pop\" } } },\n",
    "   { $group: { _id: \"$_id.state\", avgCityPop: { $avg: \"$pop\" } } }\n",
    "] )"
   ]
  },
  {
   "cell_type": "markdown",
   "metadata": {},
   "source": [
    "## MongoDB UI\n",
    "- https://www.mongodb.com/download-center?jmp=nav#compass"
   ]
  },
  {
   "cell_type": "markdown",
   "metadata": {},
   "source": [
    "## 存取Facebook 資訊"
   ]
  },
  {
   "cell_type": "code",
   "execution_count": 2,
   "metadata": {
    "collapsed": true
   },
   "outputs": [],
   "source": [
    "ACCESSTOKEN = 'EAACEdEose0cBAEMFFplqcmwHZBqxZCpHfjMwt5Gs2maToSxfAwuP2FRM8WHIEbdeoT6h3sfDh7HFJFieMLnVPlzX2fhzQL38oMEzHXRZABuRTUSNPRhUkyUuVEMOrmhFAq0JXEOJK1oAJjYX8puyyyOYQM2ZBwM6XKhkHUSIKwZDZD'"
   ]
  },
  {
   "cell_type": "code",
   "execution_count": 6,
   "metadata": {
    "collapsed": false
   },
   "outputs": [
    {
     "name": "stdout",
     "output_type": "stream",
     "text": [
      "{\"data\":[{\"id\":\"1664781083784462\",\"created_time\":\"2016-03-09T06:42:31+0000\",\"place\":{\"id\":\"182820988487172\",\"location\":{\"city\":\"Singapore\",\"country\":\"Singapore\",\"latitude\":25.040897308255,\"longitude\":121.55372061213,\"street\":\"Singapore Changi Airport\",\"zip\":\"81\"},\"name\":\"\\u65b0\\u52a0\\u5761\\u6a1f\\u5b9c\\u6a5f\\u5834\"}},{\"id\":\"1664781047117799\",\"created_time\":\"2016-03-09T06:42:08+0000\",\"place\":{\"id\":\"171070619595488\",\"location\":{\"city\":\"Ikeda-machi Kitaazumi-gun\",\"country\":\"Japan\",\"latitude\":36.701882048976,\"longitude\":137.83747383417,\"state\":\"Nagano\",\"street\":\"\\u767d\\u99ac\\u6751\\u516b\\u65b9\",\"zip\":\"399-9301\"},\"name\":\"\\u767d\\u99ac \\u516b\\u65b9\\u5c3e\\u6839\"}},{\"id\":\"1664780843784486\",\"created_time\":\"2016-03-09T06:40:18+0000\",\"place\":{\"id\":\"150751781627629\",\"location\":{\"city\":\"Taipei\",\"country\":\"Taiwan\",\"latitude\":25.035434763842,\"longitude\":121.51971981538,\"street\":\"No.21, Zhongshan S. Rd., Zhongzheng Dist., Taipei City 100, Taiwan (R.O.C.)\",\"zip\":\"10048\"},\"name\":\"\\u4e2d\\u6b63\\u7d00\\u5ff5\\u5802 Chiang Kai-shek Memorial Hall\"}}],\"paging\":{\"cursors\":{\"before\":\"MTY2NDc4MTA4Mzc4NDQ2MgZDZD\",\"after\":\"MTY2NDc4MDg0Mzc4NDQ4NgZDZD\"}}}\n"
     ]
    }
   ],
   "source": [
    "import requests\n",
    "res = requests.get('https://graph.facebook.com/v2.7/me/tagged_places?access_token={}'.format(ACCESSTOKEN))\n",
    "print res.text"
   ]
  },
  {
   "cell_type": "code",
   "execution_count": 14,
   "metadata": {
    "collapsed": false
   },
   "outputs": [],
   "source": [
    "import json\n",
    "jd = json.loads(res.text) # 將json 轉變為 字典\n",
    "place_ary = []\n",
    "for rec in jd['data']:\n",
    "    place_name = rec['place']['name']\n",
    "    place_id = rec['place']['id']\n",
    "    create_time = rec['created_time']\n",
    "    place_ary.append({'place_id':place_id ,'place_name': place_name, 'created_time': create_time})"
   ]
  },
  {
   "cell_type": "code",
   "execution_count": 15,
   "metadata": {
    "collapsed": false
   },
   "outputs": [
    {
     "data": {
      "text/html": [
       "<div>\n",
       "<table border=\"1\" class=\"dataframe\">\n",
       "  <thead>\n",
       "    <tr style=\"text-align: right;\">\n",
       "      <th></th>\n",
       "      <th>created_time</th>\n",
       "      <th>place_id</th>\n",
       "      <th>place_name</th>\n",
       "    </tr>\n",
       "  </thead>\n",
       "  <tbody>\n",
       "    <tr>\n",
       "      <th>0</th>\n",
       "      <td>2016-03-09T06:42:31+0000</td>\n",
       "      <td>182820988487172</td>\n",
       "      <td>新加坡樟宜機場</td>\n",
       "    </tr>\n",
       "    <tr>\n",
       "      <th>1</th>\n",
       "      <td>2016-03-09T06:42:08+0000</td>\n",
       "      <td>171070619595488</td>\n",
       "      <td>白馬 八方尾根</td>\n",
       "    </tr>\n",
       "    <tr>\n",
       "      <th>2</th>\n",
       "      <td>2016-03-09T06:40:18+0000</td>\n",
       "      <td>150751781627629</td>\n",
       "      <td>中正紀念堂 Chiang Kai-shek Memorial Hall</td>\n",
       "    </tr>\n",
       "  </tbody>\n",
       "</table>\n",
       "</div>"
      ],
      "text/plain": [
       "               created_time         place_id  \\\n",
       "0  2016-03-09T06:42:31+0000  182820988487172   \n",
       "1  2016-03-09T06:42:08+0000  171070619595488   \n",
       "2  2016-03-09T06:40:18+0000  150751781627629   \n",
       "\n",
       "                            place_name  \n",
       "0                              新加坡樟宜機場  \n",
       "1                              白馬 八方尾根  \n",
       "2  中正紀念堂 Chiang Kai-shek Memorial Hall  "
      ]
     },
     "execution_count": 15,
     "metadata": {},
     "output_type": "execute_result"
    }
   ],
   "source": [
    "import pandas\n",
    "df = pandas.DataFrame(place_ary)\n",
    "df"
   ]
  },
  {
   "cell_type": "markdown",
   "metadata": {},
   "source": [
    "## 抓取粉絲頁資訊"
   ]
  },
  {
   "cell_type": "markdown",
   "metadata": {},
   "source": [
    "### 新增應用程式\n",
    "- https://developers.facebook.com/apps/"
   ]
  },
  {
   "cell_type": "code",
   "execution_count": 17,
   "metadata": {
    "collapsed": true
   },
   "outputs": [],
   "source": [
    "ACCESSTOKEN = 'EAACEdEose0cBANzWCdFZAxntjyx2adJImM4lH2x3qektRTMYF5LOw6H1dedE6QCbqfJO16jaPgntb15KSb10F0MZCoysUKv1q6xFVtXCgEUHlkc098owQHIS0477EN23F7eXj8JKJexwQgdSwex7F3ZBveKPI6WA2LTZCCmFZBAZDZD'"
   ]
  },
  {
   "cell_type": "code",
   "execution_count": 25,
   "metadata": {
    "collapsed": true
   },
   "outputs": [],
   "source": [
    "fbid = '583984981774221'\n",
    "fbsecret = '168718a9844764d5739090ecf036b28c'\n",
    "ACCESSTOKEN = '{}|{}'.format(fbid, fbsecret)"
   ]
  },
  {
   "cell_type": "code",
   "execution_count": 26,
   "metadata": {
    "collapsed": false
   },
   "outputs": [],
   "source": [
    "import requests\n",
    "res = requests.get('https://graph.facebook.com/v2.7/smartloan.tw/posts?access_token={}'.format(ACCESSTOKEN))\n",
    "jd = json.loads(res.text) # 將json 轉變為 字典\n",
    "place_ary = []\n",
    "for rec in jd['data']:\n",
    "    if 'message' in rec:\n",
    "        message = rec['message'] \n",
    "    #place_name = rec['message']"
   ]
  },
  {
   "cell_type": "markdown",
   "metadata": {},
   "source": [
    "## 建立與MongoDB 資料庫連線"
   ]
  },
  {
   "cell_type": "code",
   "execution_count": 31,
   "metadata": {
    "collapsed": false
   },
   "outputs": [
    {
     "name": "stdout",
     "output_type": "stream",
     "text": [
      "[u'local', u'test']\n"
     ]
    }
   ],
   "source": [
    "import pymongo\n",
    "try:\n",
    "    conn=pymongo.MongoClient()\n",
    "    print conn.database_names()\n",
    "except pymongo.errors.ConnectionFailure as e:\n",
    "    print \"Could not connect to MongoDB: %s\" % e"
   ]
  },
  {
   "cell_type": "code",
   "execution_count": 32,
   "metadata": {
    "collapsed": false
   },
   "outputs": [
    {
     "name": "stdout",
     "output_type": "stream",
     "text": [
      "Database(MongoClient(host=['localhost:27017'], document_class=dict, tz_aware=False, connect=True), u'fbdata')\n"
     ]
    }
   ],
   "source": [
    "db= conn['fbdata']\n",
    "print db"
   ]
  },
  {
   "cell_type": "code",
   "execution_count": 35,
   "metadata": {
    "collapsed": false
   },
   "outputs": [
    {
     "name": "stdout",
     "output_type": "stream",
     "text": [
      "[u'local', u'test']\n"
     ]
    }
   ],
   "source": [
    "print conn.database_names()"
   ]
  },
  {
   "cell_type": "code",
   "execution_count": 34,
   "metadata": {
    "collapsed": false
   },
   "outputs": [
    {
     "name": "stdout",
     "output_type": "stream",
     "text": [
      "[]\n"
     ]
    }
   ],
   "source": [
    "coll=db['posts']\n",
    "print db.collection_names()"
   ]
  },
  {
   "cell_type": "code",
   "execution_count": 37,
   "metadata": {
    "collapsed": false
   },
   "outputs": [
    {
     "name": "stderr",
     "output_type": "stream",
     "text": [
      "C:\\Anaconda2\\lib\\site-packages\\ipykernel\\__main__.py:4: DeprecationWarning: insert is deprecated. Use insert_one or insert_many instead.\n"
     ]
    },
    {
     "data": {
      "text/plain": [
       "[ObjectId('57ef6576d18b5e1108f14909'),\n",
       " ObjectId('57ef6576d18b5e1108f1490a'),\n",
       " ObjectId('57ef6576d18b5e1108f1490b'),\n",
       " ObjectId('57ef6576d18b5e1108f1490c'),\n",
       " ObjectId('57ef6576d18b5e1108f1490d'),\n",
       " ObjectId('57ef6576d18b5e1108f1490e'),\n",
       " ObjectId('57ef6576d18b5e1108f1490f'),\n",
       " ObjectId('57ef6576d18b5e1108f14910'),\n",
       " ObjectId('57ef6576d18b5e1108f14911'),\n",
       " ObjectId('57ef6576d18b5e1108f14912'),\n",
       " ObjectId('57ef6576d18b5e1108f14913'),\n",
       " ObjectId('57ef6576d18b5e1108f14914'),\n",
       " ObjectId('57ef6576d18b5e1108f14915'),\n",
       " ObjectId('57ef6576d18b5e1108f14916'),\n",
       " ObjectId('57ef6576d18b5e1108f14917'),\n",
       " ObjectId('57ef6576d18b5e1108f14918'),\n",
       " ObjectId('57ef6576d18b5e1108f14919'),\n",
       " ObjectId('57ef6576d18b5e1108f1491a'),\n",
       " ObjectId('57ef6576d18b5e1108f1491b'),\n",
       " ObjectId('57ef6576d18b5e1108f1491c'),\n",
       " ObjectId('57ef6576d18b5e1108f1491d'),\n",
       " ObjectId('57ef6576d18b5e1108f1491e'),\n",
       " ObjectId('57ef6576d18b5e1108f1491f'),\n",
       " ObjectId('57ef6576d18b5e1108f14920'),\n",
       " ObjectId('57ef6576d18b5e1108f14921')]"
      ]
     },
     "execution_count": 37,
     "metadata": {},
     "output_type": "execute_result"
    }
   ],
   "source": [
    "import requests\n",
    "res = requests.get('https://graph.facebook.com/v2.7/smartloan.tw/posts?access_token={}'.format(ACCESSTOKEN))\n",
    "jd = json.loads(res.text)\n",
    "coll.insert(jd['data'])"
   ]
  },
  {
   "cell_type": "code",
   "execution_count": 38,
   "metadata": {
    "collapsed": false
   },
   "outputs": [
    {
     "name": "stdout",
     "output_type": "stream",
     "text": [
      "[u'fbdata', u'local', u'test']\n"
     ]
    }
   ],
   "source": [
    "print conn.database_names()"
   ]
  },
  {
   "cell_type": "code",
   "execution_count": 39,
   "metadata": {
    "collapsed": false
   },
   "outputs": [
    {
     "name": "stdout",
     "output_type": "stream",
     "text": [
      "[u'posts']\n"
     ]
    }
   ],
   "source": [
    "print db.collection_names()"
   ]
  },
  {
   "cell_type": "markdown",
   "metadata": {},
   "source": [
    "## 塞打卡資料"
   ]
  },
  {
   "cell_type": "code",
   "execution_count": 42,
   "metadata": {
    "collapsed": false
   },
   "outputs": [
    {
     "name": "stderr",
     "output_type": "stream",
     "text": [
      "C:\\Anaconda2\\lib\\site-packages\\ipykernel\\__main__.py:7: DeprecationWarning: insert is deprecated. Use insert_one or insert_many instead.\n"
     ]
    },
    {
     "data": {
      "text/plain": [
       "[ObjectId('57ef66bbd18b5e1108f14922'),\n",
       " ObjectId('57ef66bbd18b5e1108f14923'),\n",
       " ObjectId('57ef66bbd18b5e1108f14924')]"
      ]
     },
     "execution_count": 42,
     "metadata": {},
     "output_type": "execute_result"
    }
   ],
   "source": [
    "import requests\n",
    "import json\n",
    "ACCESSTOKEN = 'EAACEdEose0cBAHdftyDXZBik81UTIuAT3zbS8ZAdxsZCaOIfOuhT4Fm15LFvhZButmQzcQ3PEIUiE5iLapPbdy9wGFbslsVQHN8LkkvGb3fZBsZAfXhdOI37d5bwEXYWkgHWdAGZBmhKtqmPZB9BTrx6Uto6eN9LBLVJFNrAsJjUwQZDZD'\n",
    "res = requests.get('https://graph.facebook.com/v2.7/me/tagged_places?access_token={}'.format(ACCESSTOKEN))\n",
    "jd = json.loads(res.text)\n",
    "coll=db['tagged_places']\n",
    "coll.insert(jd['data'])"
   ]
  },
  {
   "cell_type": "code",
   "execution_count": 45,
   "metadata": {
    "collapsed": false
   },
   "outputs": [
    {
     "data": {
      "text/plain": [
       "3"
      ]
     },
     "execution_count": 45,
     "metadata": {},
     "output_type": "execute_result"
    }
   ],
   "source": [
    "coll = db['tagged_places']\n",
    "coll.count()"
   ]
  },
  {
   "cell_type": "code",
   "execution_count": 46,
   "metadata": {
    "collapsed": false
   },
   "outputs": [
    {
     "data": {
      "text/plain": [
       "25"
      ]
     },
     "execution_count": 46,
     "metadata": {},
     "output_type": "execute_result"
    }
   ],
   "source": [
    "coll = db['posts']\n",
    "coll.count()"
   ]
  },
  {
   "cell_type": "markdown",
   "metadata": {},
   "source": [
    "## 資料篩選"
   ]
  },
  {
   "cell_type": "code",
   "execution_count": 48,
   "metadata": {
    "collapsed": false
   },
   "outputs": [
    {
     "data": {
      "text/plain": [
       "{u'_id': ObjectId('57ef6576d18b5e1108f14909'),\n",
       " u'created_time': u'2016-09-29T08:58:13+0000',\n",
       " u'id': u'485549298190700_1134806356598321',\n",
       " u'message': u'\\u7d42\\u65bc~ \\u4e0d\\u964d\\u4e86\\n\\n\\u592e\\u884c\\u81ea\\u53bb\\u5e74\\u7b2c 3 \\u5b63\\u7406\\u76e3\\u4e8b\\u6703\\u8b70\\u4ee5\\u4f86 4 \\u5ea6\\u964d\\u606f\\uff0c\\u7e3d\\u5171\\u5df2\\u964d\\u606f 2 \\u78bc\\uff0c\\u4eca (29) \\u65e5\\u53ec\\u958b 105 \\u5e74\\u7b2c 3 \\u5b63\\u7406\\u76e3\\u4e8b\\u806f\\u5e2d\\u6703\\u8b70\\uff0c\\u6c7a\\u8b70\\u7dad\\u6301\\u5229\\u7387\\u6309\\u5175\\u4e0d\\u52d5...'}"
      ]
     },
     "execution_count": 48,
     "metadata": {},
     "output_type": "execute_result"
    }
   ],
   "source": [
    "coll = db['posts']\n",
    "coll.find_one()"
   ]
  },
  {
   "cell_type": "code",
   "execution_count": 51,
   "metadata": {
    "collapsed": false
   },
   "outputs": [
    {
     "name": "stdout",
     "output_type": "stream",
     "text": [
      "2016-09-29T08:58:13+0000\n",
      "2016-09-27T02:49:20+0000\n",
      "2016-09-23T00:56:14+0000\n",
      "2016-09-22T12:01:17+0000\n",
      "2016-09-21T03:21:25+0000\n",
      "2016-09-21T03:17:30+0000\n",
      "2016-09-18T13:46:06+0000\n",
      "2016-09-17T05:40:05+0000\n",
      "2016-09-14T01:31:10+0000\n",
      "2016-09-13T06:19:58+0000\n",
      "2016-09-13T02:48:01+0000\n"
     ]
    }
   ],
   "source": [
    "cur=coll.find({'created_time':{'$gt':'2016-09-13'}})\n",
    "for rec in cur:\n",
    "    print rec['created_time']"
   ]
  },
  {
   "cell_type": "code",
   "execution_count": 53,
   "metadata": {
    "collapsed": false
   },
   "outputs": [],
   "source": [
    "cur=coll.find({'message':{'$regex':'房貸'}})\n",
    "for rec in cur:\n",
    "    message = rec['message']"
   ]
  },
  {
   "cell_type": "code",
   "execution_count": 60,
   "metadata": {
    "collapsed": false
   },
   "outputs": [
    {
     "name": "stdout",
     "output_type": "stream",
     "text": [
      "485549298190700_1098877666857857\n"
     ]
    }
   ],
   "source": [
    "cur=coll.find({'message':{'$regex':'房貸'}}).sort('created_time').limit(1)\n",
    "for doc in cur:\n",
    "    print doc['id']"
   ]
  },
  {
   "cell_type": "code",
   "execution_count": 58,
   "metadata": {
    "collapsed": false
   },
   "outputs": [
    {
     "name": "stdout",
     "output_type": "stream",
     "text": [
      "2016-09-22T12:01:17+0000\n"
     ]
    }
   ],
   "source": [
    "cur=coll.find({'message':{'$regex':'房貸'}}).sort('created_time', pymongo.DESCENDING).limit(1)\n",
    "for doc in cur:\n",
    "    print doc['created_time']"
   ]
  },
  {
   "cell_type": "code",
   "execution_count": 61,
   "metadata": {
    "collapsed": false
   },
   "outputs": [
    {
     "name": "stdout",
     "output_type": "stream",
     "text": [
      "{u'created_time': u'2016-08-19T00:00:00+0000', u'message': u'\\u82e5\\u300c\\u9752\\u5e74\\u5b89\\u5fc3\\u6210\\u5bb6\\u8cb8\\u6b3e\\u300d\\u771f\\u7684\\u558a\\u505c\\uff0c\\u90a3\\u5c07\\u6703\\u628a\\u5df2\\u51b7\\u5230\\u4e0d\\u884c\\u7684\\u623f\\u5e02\\u76f4\\u63a5\\u9001\\u9032\\u51b7\\u51cd\\u5eab ...\\n\\n\\u7562\\u7adf\\u300c\\u9752\\u5e74\\u5b89\\u5fc3\\u6210\\u5bb6\\u8cb8\\u6b3e\\u300d\\u7121\\u8ad6\\u662f\\u5229\\u7387\\u3001\\u984d\\u5ea6\\u3001\\u5e74\\u9650\\u90fd\\u5e7e\\u4e4e\\u53ef\\u4ee5\\u6eff\\u8db3\\u9996\\u6b21\\u8cfc\\u5c4b\\u7684\\u6c11\\u773e\\u4f7f\\u7528\\uff0c\\u4e00\\u65e6\\u558a\\u505c\\uff0c\\u5c0d\\u73fe\\u5b58\\u50c5\\u5269\\u81ea\\u4f4f\\u9700\\u6c42\\u7684\\u75b2\\u5f31\\u623f\\u5730\\u7522\\u5e02\\u5834\\u7121\\u7591\\u662f\\u96ea\\u4e0a\\u52a0\\u971c\\u554a~  \\u5c0d\\u65bc\\u6eff\\u624b\\u73fe\\u91d1\\u7121\\u6cd5\\u653e\\u6b3e\\u51fa\\u53bb\\u7684\\u9280\\u884c\\u76f8\\u4fe1\\u4e5f\\u4e0d\\u662f\\u4e00\\u4ef6\\u597d\\u4e8b... \\n\\nhttp://goo.gl/mlwks4\\n\\n\\uff03\\u9752\\u5e74\\u5b89\\u5fc3\\u6210\\u5bb6\\u8cb8\\u6b3e \\uff03\\u653f\\u5e9c\\u512a\\u60e0\\u8cb8\\u6b3e \\n\\n<\\u5ee3\\u7de8> \\u73fe\\u5728\\u53ea\\u8981\\u7533\\u8acb\\u6ed9\\u8c50\\u623f\\u8cb8\\u6216\\u8f49\\u8cb8\\uff0c\\u5229\\u7387\\u6700\\u4f4e 1.63%\\u8d77 !\\n\\u4e0d\\u4f46\\u514d\\u958b\\u8fa6\\u8cbb\\uff0c\\u66f4\\u53ef\\u7372\\u88dc\\u52a9\\u6700\\u9ad8 5000\\u5143\\u7684\\u5730\\u653f\\u8a2d\\u5b9a\\u8cbb\\u3002https://goo.gl/OE5Dqc', u'_id': ObjectId('57ef6576d18b5e1108f14920'), u'id': u'485549298190700_1098877666857857'}\n"
     ]
    }
   ],
   "source": [
    "cur = coll.find({\"id\":\"485549298190700_1098877666857857\"})\n",
    "for doc in cur:\n",
    "    print doc\n"
   ]
  },
  {
   "cell_type": "code",
   "execution_count": 62,
   "metadata": {
    "collapsed": true
   },
   "outputs": [],
   "source": [
    "result=coll.update_one({\"id\":\"485549298190700_1098877666857857\"},{\"$set\":{\"tag\":\"貸款\"},\"$currentDate\":{\"lastModified\":True}})"
   ]
  },
  {
   "cell_type": "code",
   "execution_count": 68,
   "metadata": {
    "collapsed": false
   },
   "outputs": [
    {
     "name": "stdout",
     "output_type": "stream",
     "text": [
      "貸款 2016-10-01 07:52:33.823000\n"
     ]
    }
   ],
   "source": [
    "cur = coll.find({\"id\":\"485549298190700_1098877666857857\"})\n",
    "for doc in cur:\n",
    "    print doc['tag'], doc['lastModified']"
   ]
  },
  {
   "cell_type": "code",
   "execution_count": 71,
   "metadata": {
    "collapsed": false
   },
   "outputs": [
    {
     "name": "stdout",
     "output_type": "stream",
     "text": [
      "<type 'unicode'>\n"
     ]
    }
   ],
   "source": [
    "cur = coll.find({\"id\":\"485549298190700_1098877666857857\"})\n",
    "for doc in cur:\n",
    "    print type(doc['created_time'])"
   ]
  },
  {
   "cell_type": "code",
   "execution_count": 75,
   "metadata": {
    "collapsed": false
   },
   "outputs": [
    {
     "data": {
      "text/plain": [
       "datetime.datetime(2016, 8, 19, 0, 0)"
      ]
     },
     "execution_count": 75,
     "metadata": {},
     "output_type": "execute_result"
    }
   ],
   "source": [
    "from datetime import datetime\n",
    "a = '2016-08-19T00:00:00'\n",
    "datetime.strptime(a, '%Y-%m-%dT%H:%M:%S')"
   ]
  },
  {
   "cell_type": "code",
   "execution_count": 78,
   "metadata": {
    "collapsed": false
   },
   "outputs": [
    {
     "name": "stderr",
     "output_type": "stream",
     "text": [
      "C:\\Anaconda2\\lib\\site-packages\\ipykernel\\__main__.py:3: DeprecationWarning: update is deprecated. Use replace_one, update_one or update_many instead.\n",
      "  app.launch_new_instance()\n"
     ]
    }
   ],
   "source": [
    "for obj in coll.find():\n",
    "    time=datetime.strptime(obj['created_time'],\"%Y-%m-%dT%H:%M:%S+0000\")\n",
    "    coll.update({'_id':obj['_id']},{'$set':{'created_time':time}})"
   ]
  },
  {
   "cell_type": "code",
   "execution_count": 80,
   "metadata": {
    "collapsed": false
   },
   "outputs": [
    {
     "name": "stdout",
     "output_type": "stream",
     "text": [
      "<type 'datetime.datetime'>\n"
     ]
    }
   ],
   "source": [
    "cur = coll.find({\"id\":\"485549298190700_1098877666857857\"})\n",
    "for doc in cur:\n",
    "    print type(doc['created_time'])"
   ]
  },
  {
   "cell_type": "markdown",
   "metadata": {},
   "source": [
    "## Aggregation 範例 - 計算每月有發多少文章"
   ]
  },
  {
   "cell_type": "code",
   "execution_count": 82,
   "metadata": {
    "collapsed": false
   },
   "outputs": [
    {
     "name": "stdout",
     "output_type": "stream",
     "text": [
      "{u'_id': {u'month': 8, u'year': 2016}, u'number': 6}\n",
      "{u'_id': {u'month': 9, u'year': 2016}, u'number': 19}\n"
     ]
    }
   ],
   "source": [
    "# select month(created_time), yaer(created_time), sum(1)\n",
    "# from posts group by month(created_time), year(created_time)\n",
    "\n",
    "egg=coll.aggregate([\n",
    "        {'$project':{'month':{'$month':\"$created_time\"},'year':{'$year':\"$created_time\"}}},\n",
    "        {'$group':{'_id':{'month':'$month','year':'$year'},'number':{'$sum':1}}},\n",
    "    ])\n",
    "\n",
    "for doc in egg:\n",
    "    print(doc)"
   ]
  },
  {
   "cell_type": "markdown",
   "metadata": {},
   "source": [
    "## 文章刪除與Collection 捨棄"
   ]
  },
  {
   "cell_type": "code",
   "execution_count": 83,
   "metadata": {
    "collapsed": false
   },
   "outputs": [
    {
     "data": {
      "text/plain": [
       "<pymongo.results.DeleteResult at 0x9482480>"
      ]
     },
     "execution_count": 83,
     "metadata": {},
     "output_type": "execute_result"
    }
   ],
   "source": [
    "coll.delete_many({'message':{'$regex':'房貸'}})"
   ]
  },
  {
   "cell_type": "code",
   "execution_count": 87,
   "metadata": {
    "collapsed": false
   },
   "outputs": [
    {
     "ename": "KeyError",
     "evalue": "'message'",
     "output_type": "error",
     "traceback": [
      "\u001b[1;31m---------------------------------------------------------------------------\u001b[0m",
      "\u001b[1;31mKeyError\u001b[0m                                  Traceback (most recent call last)",
      "\u001b[1;32m<ipython-input-87-46537823f8d3>\u001b[0m in \u001b[0;36m<module>\u001b[1;34m()\u001b[0m\n\u001b[0;32m      1\u001b[0m \u001b[1;32mfor\u001b[0m \u001b[0mdoc\u001b[0m \u001b[1;32min\u001b[0m \u001b[0mcoll\u001b[0m\u001b[1;33m.\u001b[0m\u001b[0mfind\u001b[0m\u001b[1;33m(\u001b[0m\u001b[1;33m)\u001b[0m\u001b[1;33m:\u001b[0m\u001b[1;33m\u001b[0m\u001b[0m\n\u001b[1;32m----> 2\u001b[1;33m     \u001b[0mmessage\u001b[0m \u001b[1;33m=\u001b[0m  \u001b[0mdoc\u001b[0m\u001b[1;33m[\u001b[0m\u001b[1;34m'message'\u001b[0m\u001b[1;33m]\u001b[0m\u001b[1;33m\u001b[0m\u001b[0m\n\u001b[0m\u001b[0;32m      3\u001b[0m     \u001b[1;31m#print message\u001b[0m\u001b[1;33m\u001b[0m\u001b[1;33m\u001b[0m\u001b[0m\n",
      "\u001b[1;31mKeyError\u001b[0m: 'message'"
     ]
    }
   ],
   "source": [
    "for doc in coll.find():\n",
    "    message =  doc['message']\n",
    "    #print message"
   ]
  },
  {
   "cell_type": "code",
   "execution_count": 88,
   "metadata": {
    "collapsed": false
   },
   "outputs": [
    {
     "data": {
      "text/plain": [
       "15"
      ]
     },
     "execution_count": 88,
     "metadata": {},
     "output_type": "execute_result"
    }
   ],
   "source": [
    "coll.count()"
   ]
  },
  {
   "cell_type": "code",
   "execution_count": 89,
   "metadata": {
    "collapsed": true
   },
   "outputs": [],
   "source": [
    "coll.drop()"
   ]
  },
  {
   "cell_type": "code",
   "execution_count": 90,
   "metadata": {
    "collapsed": false
   },
   "outputs": [
    {
     "data": {
      "text/plain": [
       "0"
      ]
     },
     "execution_count": 90,
     "metadata": {},
     "output_type": "execute_result"
    }
   ],
   "source": [
    "coll.count()"
   ]
  },
  {
   "cell_type": "code",
   "execution_count": 91,
   "metadata": {
    "collapsed": false
   },
   "outputs": [
    {
     "name": "stdout",
     "output_type": "stream",
     "text": [
      "[u'fbdata', u'local', u'test']\n"
     ]
    }
   ],
   "source": [
    "print conn.database_names()"
   ]
  },
  {
   "cell_type": "code",
   "execution_count": 92,
   "metadata": {
    "collapsed": false
   },
   "outputs": [
    {
     "name": "stdout",
     "output_type": "stream",
     "text": [
      "[u'tagged_places']\n"
     ]
    }
   ],
   "source": [
    "print db.collection_names()"
   ]
  },
  {
   "cell_type": "code",
   "execution_count": 93,
   "metadata": {
    "collapsed": true
   },
   "outputs": [],
   "source": [
    "coll2 = db['tagged_places']\n",
    "coll2.drop()"
   ]
  },
  {
   "cell_type": "code",
   "execution_count": 94,
   "metadata": {
    "collapsed": false
   },
   "outputs": [
    {
     "data": {
      "text/plain": [
       "[u'local', u'test']"
      ]
     },
     "execution_count": 94,
     "metadata": {},
     "output_type": "execute_result"
    }
   ],
   "source": [
    "conn.database_names()"
   ]
  }
 ],
 "metadata": {
  "kernelspec": {
   "display_name": "Python [Root]",
   "language": "python",
   "name": "Python [Root]"
  },
  "language_info": {
   "codemirror_mode": {
    "name": "ipython",
    "version": 2
   },
   "file_extension": ".py",
   "mimetype": "text/x-python",
   "name": "python",
   "nbconvert_exporter": "python",
   "pygments_lexer": "ipython2",
   "version": "2.7.12"
  }
 },
 "nbformat": 4,
 "nbformat_minor": 0
}
