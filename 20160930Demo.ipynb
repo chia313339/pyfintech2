{
 "cells": [
  {
   "cell_type": "markdown",
   "metadata": {},
   "source": [
    "## 從檔案讀取資料"
   ]
  },
  {
   "cell_type": "code",
   "execution_count": 1,
   "metadata": {
    "collapsed": true
   },
   "outputs": [],
   "source": [
    "import pandas"
   ]
  },
  {
   "cell_type": "code",
   "execution_count": 5,
   "metadata": {
    "collapsed": true
   },
   "outputs": [],
   "source": [
    "?pandas.read_csv"
   ]
  },
  {
   "cell_type": "code",
   "execution_count": 3,
   "metadata": {
    "collapsed": true
   },
   "outputs": [],
   "source": [
    "df = pandas.read_csv('C:\\\\Users\\\\Student\\\\Downloads\\\\table.csv')"
   ]
  },
  {
   "cell_type": "code",
   "execution_count": 6,
   "metadata": {
    "collapsed": false
   },
   "outputs": [
    {
     "data": {
      "text/html": [
       "<div>\n",
       "<table border=\"1\" class=\"dataframe\">\n",
       "  <thead>\n",
       "    <tr style=\"text-align: right;\">\n",
       "      <th></th>\n",
       "      <th>Date</th>\n",
       "      <th>Open</th>\n",
       "      <th>High</th>\n",
       "      <th>Low</th>\n",
       "      <th>Close</th>\n",
       "      <th>Volume</th>\n",
       "      <th>Adj Close</th>\n",
       "    </tr>\n",
       "  </thead>\n",
       "  <tbody>\n",
       "    <tr>\n",
       "      <th>0</th>\n",
       "      <td>2016-09-29</td>\n",
       "      <td>185.5</td>\n",
       "      <td>187.5</td>\n",
       "      <td>185.5</td>\n",
       "      <td>187.0</td>\n",
       "      <td>54272000</td>\n",
       "      <td>187.0</td>\n",
       "    </tr>\n",
       "    <tr>\n",
       "      <th>1</th>\n",
       "      <td>2016-09-28</td>\n",
       "      <td>183.5</td>\n",
       "      <td>183.5</td>\n",
       "      <td>183.5</td>\n",
       "      <td>183.5</td>\n",
       "      <td>0</td>\n",
       "      <td>183.5</td>\n",
       "    </tr>\n",
       "    <tr>\n",
       "      <th>2</th>\n",
       "      <td>2016-09-27</td>\n",
       "      <td>183.5</td>\n",
       "      <td>183.5</td>\n",
       "      <td>183.5</td>\n",
       "      <td>183.5</td>\n",
       "      <td>0</td>\n",
       "      <td>183.5</td>\n",
       "    </tr>\n",
       "    <tr>\n",
       "      <th>3</th>\n",
       "      <td>2016-09-26</td>\n",
       "      <td>183.5</td>\n",
       "      <td>185.0</td>\n",
       "      <td>183.0</td>\n",
       "      <td>183.5</td>\n",
       "      <td>24225000</td>\n",
       "      <td>183.5</td>\n",
       "    </tr>\n",
       "    <tr>\n",
       "      <th>4</th>\n",
       "      <td>2016-09-23</td>\n",
       "      <td>185.0</td>\n",
       "      <td>187.5</td>\n",
       "      <td>184.5</td>\n",
       "      <td>187.0</td>\n",
       "      <td>23213000</td>\n",
       "      <td>187.0</td>\n",
       "    </tr>\n",
       "  </tbody>\n",
       "</table>\n",
       "</div>"
      ],
      "text/plain": [
       "         Date   Open   High    Low  Close    Volume  Adj Close\n",
       "0  2016-09-29  185.5  187.5  185.5  187.0  54272000      187.0\n",
       "1  2016-09-28  183.5  183.5  183.5  183.5         0      183.5\n",
       "2  2016-09-27  183.5  183.5  183.5  183.5         0      183.5\n",
       "3  2016-09-26  183.5  185.0  183.0  183.5  24225000      183.5\n",
       "4  2016-09-23  185.0  187.5  184.5  187.0  23213000      187.0"
      ]
     },
     "execution_count": 6,
     "metadata": {},
     "output_type": "execute_result"
    }
   ],
   "source": [
    "df.head()"
   ]
  },
  {
   "cell_type": "code",
   "execution_count": 8,
   "metadata": {
    "collapsed": false
   },
   "outputs": [
    {
     "name": "stdout",
     "output_type": "stream",
     "text": [
      "<class 'pandas.core.frame.DataFrame'>\n",
      "RangeIndex: 1300 entries, 0 to 1299\n",
      "Data columns (total 7 columns):\n",
      "Date         1300 non-null object\n",
      "Open         1300 non-null float64\n",
      "High         1300 non-null float64\n",
      "Low          1300 non-null float64\n",
      "Close        1300 non-null float64\n",
      "Volume       1300 non-null int64\n",
      "Adj Close    1300 non-null float64\n",
      "dtypes: float64(5), int64(1), object(1)\n",
      "memory usage: 71.2+ KB\n"
     ]
    }
   ],
   "source": [
    "df.info()"
   ]
  },
  {
   "cell_type": "code",
   "execution_count": 11,
   "metadata": {
    "collapsed": false
   },
   "outputs": [
    {
     "data": {
      "text/html": [
       "<div>\n",
       "<table border=\"1\" class=\"dataframe\">\n",
       "  <thead>\n",
       "    <tr style=\"text-align: right;\">\n",
       "      <th></th>\n",
       "      <th>Dates</th>\n",
       "      <th>Open</th>\n",
       "      <th>High</th>\n",
       "      <th>Low</th>\n",
       "      <th>Close</th>\n",
       "      <th>Volume</th>\n",
       "      <th>Adj Close</th>\n",
       "    </tr>\n",
       "  </thead>\n",
       "  <tbody>\n",
       "    <tr>\n",
       "      <th>0</th>\n",
       "      <td>2016-09-29</td>\n",
       "      <td>185.5</td>\n",
       "      <td>187.5</td>\n",
       "      <td>185.5</td>\n",
       "      <td>187.0</td>\n",
       "      <td>54272000</td>\n",
       "      <td>187.0</td>\n",
       "    </tr>\n",
       "    <tr>\n",
       "      <th>1</th>\n",
       "      <td>2016-09-28</td>\n",
       "      <td>183.5</td>\n",
       "      <td>183.5</td>\n",
       "      <td>183.5</td>\n",
       "      <td>183.5</td>\n",
       "      <td>0</td>\n",
       "      <td>183.5</td>\n",
       "    </tr>\n",
       "    <tr>\n",
       "      <th>2</th>\n",
       "      <td>2016-09-27</td>\n",
       "      <td>183.5</td>\n",
       "      <td>183.5</td>\n",
       "      <td>183.5</td>\n",
       "      <td>183.5</td>\n",
       "      <td>0</td>\n",
       "      <td>183.5</td>\n",
       "    </tr>\n",
       "    <tr>\n",
       "      <th>3</th>\n",
       "      <td>2016-09-26</td>\n",
       "      <td>183.5</td>\n",
       "      <td>185.0</td>\n",
       "      <td>183.0</td>\n",
       "      <td>183.5</td>\n",
       "      <td>24225000</td>\n",
       "      <td>183.5</td>\n",
       "    </tr>\n",
       "    <tr>\n",
       "      <th>4</th>\n",
       "      <td>2016-09-23</td>\n",
       "      <td>185.0</td>\n",
       "      <td>187.5</td>\n",
       "      <td>184.5</td>\n",
       "      <td>187.0</td>\n",
       "      <td>23213000</td>\n",
       "      <td>187.0</td>\n",
       "    </tr>\n",
       "  </tbody>\n",
       "</table>\n",
       "</div>"
      ],
      "text/plain": [
       "       Dates   Open   High    Low  Close    Volume  Adj Close\n",
       "0 2016-09-29  185.5  187.5  185.5  187.0  54272000      187.0\n",
       "1 2016-09-28  183.5  183.5  183.5  183.5         0      183.5\n",
       "2 2016-09-27  183.5  183.5  183.5  183.5         0      183.5\n",
       "3 2016-09-26  183.5  185.0  183.0  183.5  24225000      183.5\n",
       "4 2016-09-23  185.0  187.5  184.5  187.0  23213000      187.0"
      ]
     },
     "execution_count": 11,
     "metadata": {},
     "output_type": "execute_result"
    }
   ],
   "source": [
    "import pandas as pd\n",
    "df = pd.read_csv('C:\\\\Users\\\\Student\\\\Downloads\\\\table.csv', parse_dates={'Dates' : [0]})\n",
    "df.head()"
   ]
  },
  {
   "cell_type": "code",
   "execution_count": 13,
   "metadata": {
    "collapsed": false
   },
   "outputs": [
    {
     "name": "stdout",
     "output_type": "stream",
     "text": [
      "<class 'pandas.core.frame.DataFrame'>\n",
      "RangeIndex: 1300 entries, 0 to 1299\n",
      "Data columns (total 7 columns):\n",
      "Dates        1300 non-null datetime64[ns]\n",
      "Open         1300 non-null float64\n",
      "High         1300 non-null float64\n",
      "Low          1300 non-null float64\n",
      "Close        1300 non-null float64\n",
      "Volume       1300 non-null int64\n",
      "Adj Close    1300 non-null float64\n",
      "dtypes: datetime64[ns](1), float64(5), int64(1)\n",
      "memory usage: 71.2 KB\n"
     ]
    }
   ],
   "source": [
    "df.info()"
   ]
  },
  {
   "cell_type": "markdown",
   "metadata": {},
   "source": [
    "## 從網路接口讀取資料"
   ]
  },
  {
   "cell_type": "code",
   "execution_count": 16,
   "metadata": {
    "collapsed": false
   },
   "outputs": [],
   "source": [
    "import pandas.io.data as web\n",
    "?web.DataReader"
   ]
  },
  {
   "cell_type": "code",
   "execution_count": 17,
   "metadata": {
    "collapsed": true
   },
   "outputs": [],
   "source": [
    "df = web.DataReader('2330.TW', start='2000-01-01', data_source='yahoo')"
   ]
  },
  {
   "cell_type": "markdown",
   "metadata": {},
   "source": [
    "##  DataFrame 的基本操作"
   ]
  },
  {
   "cell_type": "code",
   "execution_count": 19,
   "metadata": {
    "collapsed": false
   },
   "outputs": [
    {
     "data": {
      "text/html": [
       "<div>\n",
       "<table border=\"1\" class=\"dataframe\">\n",
       "  <thead>\n",
       "    <tr style=\"text-align: right;\">\n",
       "      <th></th>\n",
       "      <th>Open</th>\n",
       "      <th>High</th>\n",
       "      <th>Low</th>\n",
       "      <th>Close</th>\n",
       "      <th>Volume</th>\n",
       "      <th>Adj Close</th>\n",
       "    </tr>\n",
       "    <tr>\n",
       "      <th>Date</th>\n",
       "      <th></th>\n",
       "      <th></th>\n",
       "      <th></th>\n",
       "      <th></th>\n",
       "      <th></th>\n",
       "      <th></th>\n",
       "    </tr>\n",
       "  </thead>\n",
       "  <tbody>\n",
       "    <tr>\n",
       "      <th>2000-01-04</th>\n",
       "      <td>83.0813</td>\n",
       "      <td>83.0813</td>\n",
       "      <td>81.6811</td>\n",
       "      <td>83.0813</td>\n",
       "      <td>149083800</td>\n",
       "      <td>29.6180</td>\n",
       "    </tr>\n",
       "    <tr>\n",
       "      <th>2000-01-05</th>\n",
       "      <td>83.0813</td>\n",
       "      <td>84.9482</td>\n",
       "      <td>82.1478</td>\n",
       "      <td>84.9482</td>\n",
       "      <td>299016300</td>\n",
       "      <td>30.2836</td>\n",
       "    </tr>\n",
       "    <tr>\n",
       "      <th>2000-01-06</th>\n",
       "      <td>84.4815</td>\n",
       "      <td>84.9482</td>\n",
       "      <td>83.0813</td>\n",
       "      <td>83.0813</td>\n",
       "      <td>146768300</td>\n",
       "      <td>29.6180</td>\n",
       "    </tr>\n",
       "    <tr>\n",
       "      <th>2000-01-07</th>\n",
       "      <td>80.2809</td>\n",
       "      <td>81.6811</td>\n",
       "      <td>79.3474</td>\n",
       "      <td>80.7476</td>\n",
       "      <td>174796200</td>\n",
       "      <td>28.7861</td>\n",
       "    </tr>\n",
       "    <tr>\n",
       "      <th>2000-01-10</th>\n",
       "      <td>83.0813</td>\n",
       "      <td>84.0148</td>\n",
       "      <td>81.6811</td>\n",
       "      <td>83.5480</td>\n",
       "      <td>205184200</td>\n",
       "      <td>29.7844</td>\n",
       "    </tr>\n",
       "  </tbody>\n",
       "</table>\n",
       "</div>"
      ],
      "text/plain": [
       "               Open     High      Low    Close     Volume  Adj Close\n",
       "Date                                                                \n",
       "2000-01-04  83.0813  83.0813  81.6811  83.0813  149083800    29.6180\n",
       "2000-01-05  83.0813  84.9482  82.1478  84.9482  299016300    30.2836\n",
       "2000-01-06  84.4815  84.9482  83.0813  83.0813  146768300    29.6180\n",
       "2000-01-07  80.2809  81.6811  79.3474  80.7476  174796200    28.7861\n",
       "2000-01-10  83.0813  84.0148  81.6811  83.5480  205184200    29.7844"
      ]
     },
     "execution_count": 19,
     "metadata": {},
     "output_type": "execute_result"
    }
   ],
   "source": [
    "df.head()"
   ]
  },
  {
   "cell_type": "code",
   "execution_count": 21,
   "metadata": {
    "collapsed": false
   },
   "outputs": [
    {
     "name": "stdout",
     "output_type": "stream",
     "text": [
      "<class 'pandas.core.frame.DataFrame'>\n",
      "DatetimeIndex: 4212 entries, 2000-01-04 to 2016-09-29\n",
      "Data columns (total 6 columns):\n",
      "Open         4212 non-null float64\n",
      "High         4212 non-null float64\n",
      "Low          4212 non-null float64\n",
      "Close        4212 non-null float64\n",
      "Volume       4212 non-null int64\n",
      "Adj Close    4212 non-null float64\n",
      "dtypes: float64(5), int64(1)\n",
      "memory usage: 230.3 KB\n"
     ]
    }
   ],
   "source": [
    "df.info()"
   ]
  },
  {
   "cell_type": "code",
   "execution_count": 22,
   "metadata": {
    "collapsed": false
   },
   "outputs": [
    {
     "data": {
      "text/html": [
       "<div>\n",
       "<table border=\"1\" class=\"dataframe\">\n",
       "  <thead>\n",
       "    <tr style=\"text-align: right;\">\n",
       "      <th></th>\n",
       "      <th>Open</th>\n",
       "      <th>High</th>\n",
       "      <th>Low</th>\n",
       "      <th>Close</th>\n",
       "      <th>Volume</th>\n",
       "      <th>Adj Close</th>\n",
       "    </tr>\n",
       "  </thead>\n",
       "  <tbody>\n",
       "    <tr>\n",
       "      <th>count</th>\n",
       "      <td>4212.000000</td>\n",
       "      <td>4212.000000</td>\n",
       "      <td>4212.000000</td>\n",
       "      <td>4212.000000</td>\n",
       "      <td>4.212000e+03</td>\n",
       "      <td>4212.000000</td>\n",
       "    </tr>\n",
       "    <tr>\n",
       "      <th>mean</th>\n",
       "      <td>77.325861</td>\n",
       "      <td>78.029915</td>\n",
       "      <td>76.579408</td>\n",
       "      <td>77.343440</td>\n",
       "      <td>5.497440e+07</td>\n",
       "      <td>61.506530</td>\n",
       "    </tr>\n",
       "    <tr>\n",
       "      <th>std</th>\n",
       "      <td>32.625065</td>\n",
       "      <td>32.765626</td>\n",
       "      <td>32.455218</td>\n",
       "      <td>32.639817</td>\n",
       "      <td>3.151764e+08</td>\n",
       "      <td>36.634914</td>\n",
       "    </tr>\n",
       "    <tr>\n",
       "      <th>min</th>\n",
       "      <td>32.201900</td>\n",
       "      <td>32.938000</td>\n",
       "      <td>32.109900</td>\n",
       "      <td>32.754000</td>\n",
       "      <td>0.000000e+00</td>\n",
       "      <td>20.446400</td>\n",
       "    </tr>\n",
       "    <tr>\n",
       "      <th>25%</th>\n",
       "      <td>55.263000</td>\n",
       "      <td>56.123300</td>\n",
       "      <td>54.700000</td>\n",
       "      <td>55.290750</td>\n",
       "      <td>3.138765e+07</td>\n",
       "      <td>36.801275</td>\n",
       "    </tr>\n",
       "    <tr>\n",
       "      <th>50%</th>\n",
       "      <td>64.000000</td>\n",
       "      <td>64.887850</td>\n",
       "      <td>63.328300</td>\n",
       "      <td>64.000000</td>\n",
       "      <td>4.308650e+07</td>\n",
       "      <td>45.870450</td>\n",
       "    </tr>\n",
       "    <tr>\n",
       "      <th>75%</th>\n",
       "      <td>92.912250</td>\n",
       "      <td>94.283200</td>\n",
       "      <td>91.949500</td>\n",
       "      <td>92.672850</td>\n",
       "      <td>6.112425e+07</td>\n",
       "      <td>75.282150</td>\n",
       "    </tr>\n",
       "    <tr>\n",
       "      <th>max</th>\n",
       "      <td>185.500000</td>\n",
       "      <td>187.500000</td>\n",
       "      <td>185.500000</td>\n",
       "      <td>187.000000</td>\n",
       "      <td>2.040451e+10</td>\n",
       "      <td>187.000000</td>\n",
       "    </tr>\n",
       "  </tbody>\n",
       "</table>\n",
       "</div>"
      ],
      "text/plain": [
       "              Open         High          Low        Close        Volume  \\\n",
       "count  4212.000000  4212.000000  4212.000000  4212.000000  4.212000e+03   \n",
       "mean     77.325861    78.029915    76.579408    77.343440  5.497440e+07   \n",
       "std      32.625065    32.765626    32.455218    32.639817  3.151764e+08   \n",
       "min      32.201900    32.938000    32.109900    32.754000  0.000000e+00   \n",
       "25%      55.263000    56.123300    54.700000    55.290750  3.138765e+07   \n",
       "50%      64.000000    64.887850    63.328300    64.000000  4.308650e+07   \n",
       "75%      92.912250    94.283200    91.949500    92.672850  6.112425e+07   \n",
       "max     185.500000   187.500000   185.500000   187.000000  2.040451e+10   \n",
       "\n",
       "         Adj Close  \n",
       "count  4212.000000  \n",
       "mean     61.506530  \n",
       "std      36.634914  \n",
       "min      20.446400  \n",
       "25%      36.801275  \n",
       "50%      45.870450  \n",
       "75%      75.282150  \n",
       "max     187.000000  "
      ]
     },
     "execution_count": 22,
     "metadata": {},
     "output_type": "execute_result"
    }
   ],
   "source": [
    "df.describe()"
   ]
  },
  {
   "cell_type": "code",
   "execution_count": 31,
   "metadata": {
    "collapsed": false
   },
   "outputs": [
    {
     "data": {
      "text/plain": [
       "Open         float64\n",
       "High         float64\n",
       "Low          float64\n",
       "Close        float64\n",
       "Volume         int64\n",
       "Adj Close    float64\n",
       "dtype: object"
      ]
     },
     "execution_count": 31,
     "metadata": {},
     "output_type": "execute_result"
    }
   ],
   "source": [
    "df.dtypes"
   ]
  },
  {
   "cell_type": "code",
   "execution_count": 33,
   "metadata": {
    "collapsed": false
   },
   "outputs": [
    {
     "data": {
      "text/plain": [
       "32.753999999999998"
      ]
     },
     "execution_count": 33,
     "metadata": {},
     "output_type": "execute_result"
    }
   ],
   "source": [
    "df['Close'].min()"
   ]
  },
  {
   "cell_type": "code",
   "execution_count": 34,
   "metadata": {
    "collapsed": false
   },
   "outputs": [
    {
     "data": {
      "text/plain": [
       "187.0"
      ]
     },
     "execution_count": 34,
     "metadata": {},
     "output_type": "execute_result"
    }
   ],
   "source": [
    "df['Close'].max()"
   ]
  },
  {
   "cell_type": "code",
   "execution_count": 35,
   "metadata": {
    "collapsed": false
   },
   "outputs": [
    {
     "data": {
      "text/plain": [
       "4212"
      ]
     },
     "execution_count": 35,
     "metadata": {},
     "output_type": "execute_result"
    }
   ],
   "source": [
    "df['Close'].count()"
   ]
  },
  {
   "cell_type": "code",
   "execution_count": 36,
   "metadata": {
    "collapsed": false
   },
   "outputs": [
    {
     "data": {
      "text/plain": [
       "Close     32.754\n",
       "Volume     0.000\n",
       "dtype: float64"
      ]
     },
     "execution_count": 36,
     "metadata": {},
     "output_type": "execute_result"
    }
   ],
   "source": [
    "df[['Close', 'Volume']].min()"
   ]
  },
  {
   "cell_type": "code",
   "execution_count": 37,
   "metadata": {
    "collapsed": false
   },
   "outputs": [
    {
     "data": {
      "text/plain": [
       "Close     1.870000e+02\n",
       "Volume    2.040451e+10\n",
       "dtype: float64"
      ]
     },
     "execution_count": 37,
     "metadata": {},
     "output_type": "execute_result"
    }
   ],
   "source": [
    "df[['Close', 'Volume']].max()"
   ]
  },
  {
   "cell_type": "code",
   "execution_count": 38,
   "metadata": {
    "collapsed": false
   },
   "outputs": [
    {
     "data": {
      "text/html": [
       "<div>\n",
       "<table border=\"1\" class=\"dataframe\">\n",
       "  <thead>\n",
       "    <tr style=\"text-align: right;\">\n",
       "      <th></th>\n",
       "      <th>Close</th>\n",
       "      <th>Volume</th>\n",
       "    </tr>\n",
       "    <tr>\n",
       "      <th>Date</th>\n",
       "      <th></th>\n",
       "      <th></th>\n",
       "    </tr>\n",
       "  </thead>\n",
       "  <tbody>\n",
       "    <tr>\n",
       "      <th>2000-01-04</th>\n",
       "      <td>83.0813</td>\n",
       "      <td>149083800</td>\n",
       "    </tr>\n",
       "    <tr>\n",
       "      <th>2000-01-05</th>\n",
       "      <td>84.9482</td>\n",
       "      <td>299016300</td>\n",
       "    </tr>\n",
       "    <tr>\n",
       "      <th>2000-01-06</th>\n",
       "      <td>83.0813</td>\n",
       "      <td>146768300</td>\n",
       "    </tr>\n",
       "    <tr>\n",
       "      <th>2000-01-07</th>\n",
       "      <td>80.7476</td>\n",
       "      <td>174796200</td>\n",
       "    </tr>\n",
       "    <tr>\n",
       "      <th>2000-01-10</th>\n",
       "      <td>83.5480</td>\n",
       "      <td>205184200</td>\n",
       "    </tr>\n",
       "  </tbody>\n",
       "</table>\n",
       "</div>"
      ],
      "text/plain": [
       "              Close     Volume\n",
       "Date                          \n",
       "2000-01-04  83.0813  149083800\n",
       "2000-01-05  84.9482  299016300\n",
       "2000-01-06  83.0813  146768300\n",
       "2000-01-07  80.7476  174796200\n",
       "2000-01-10  83.5480  205184200"
      ]
     },
     "execution_count": 38,
     "metadata": {},
     "output_type": "execute_result"
    }
   ],
   "source": [
    "df[['Close', 'Volume']].head()"
   ]
  },
  {
   "cell_type": "code",
   "execution_count": 39,
   "metadata": {
    "collapsed": false
   },
   "outputs": [
    {
     "data": {
      "text/html": [
       "<div>\n",
       "<table border=\"1\" class=\"dataframe\">\n",
       "  <thead>\n",
       "    <tr style=\"text-align: right;\">\n",
       "      <th></th>\n",
       "      <th>Close</th>\n",
       "      <th>Volume</th>\n",
       "    </tr>\n",
       "    <tr>\n",
       "      <th>Date</th>\n",
       "      <th></th>\n",
       "      <th></th>\n",
       "    </tr>\n",
       "  </thead>\n",
       "  <tbody>\n",
       "    <tr>\n",
       "      <th>2016-09-23</th>\n",
       "      <td>187.0</td>\n",
       "      <td>23213000</td>\n",
       "    </tr>\n",
       "    <tr>\n",
       "      <th>2016-09-26</th>\n",
       "      <td>183.5</td>\n",
       "      <td>24225000</td>\n",
       "    </tr>\n",
       "    <tr>\n",
       "      <th>2016-09-27</th>\n",
       "      <td>183.5</td>\n",
       "      <td>0</td>\n",
       "    </tr>\n",
       "    <tr>\n",
       "      <th>2016-09-28</th>\n",
       "      <td>183.5</td>\n",
       "      <td>0</td>\n",
       "    </tr>\n",
       "    <tr>\n",
       "      <th>2016-09-29</th>\n",
       "      <td>187.0</td>\n",
       "      <td>54272000</td>\n",
       "    </tr>\n",
       "  </tbody>\n",
       "</table>\n",
       "</div>"
      ],
      "text/plain": [
       "            Close    Volume\n",
       "Date                       \n",
       "2016-09-23  187.0  23213000\n",
       "2016-09-26  183.5  24225000\n",
       "2016-09-27  183.5         0\n",
       "2016-09-28  183.5         0\n",
       "2016-09-29  187.0  54272000"
      ]
     },
     "execution_count": 39,
     "metadata": {},
     "output_type": "execute_result"
    }
   ],
   "source": [
    "df[['Close', 'Volume']].tail()"
   ]
  },
  {
   "cell_type": "markdown",
   "metadata": {},
   "source": [
    "## 中位數與平均數"
   ]
  },
  {
   "cell_type": "code",
   "execution_count": 24,
   "metadata": {
    "collapsed": false
   },
   "outputs": [
    {
     "data": {
      "text/plain": [
       "count      5.000000\n",
       "mean     171.000000\n",
       "std        7.874008\n",
       "min      162.000000\n",
       "25%      165.000000\n",
       "50%      170.000000\n",
       "75%      178.000000\n",
       "max      180.000000\n",
       "dtype: float64"
      ]
     },
     "execution_count": 24,
     "metadata": {},
     "output_type": "execute_result"
    }
   ],
   "source": [
    "import pandas\n",
    "s = pandas.Series([162,165,170,178,180])\n",
    "s.describe()"
   ]
  },
  {
   "cell_type": "code",
   "execution_count": 30,
   "metadata": {
    "collapsed": false
   },
   "outputs": [
    {
     "data": {
      "text/plain": [
       "count       5\n",
       "unique      5\n",
       "top       170\n",
       "freq        1\n",
       "dtype: object"
      ]
     },
     "execution_count": 30,
     "metadata": {},
     "output_type": "execute_result"
    }
   ],
   "source": [
    "import pandas\n",
    "s = pandas.Series(['162','165','170','178','180'])\n",
    "s.describe()"
   ]
  },
  {
   "cell_type": "code",
   "execution_count": 25,
   "metadata": {
    "collapsed": false
   },
   "outputs": [
    {
     "data": {
      "text/plain": [
       "171"
      ]
     },
     "execution_count": 25,
     "metadata": {},
     "output_type": "execute_result"
    }
   ],
   "source": [
    "mean_v = (162 + 165 +170 + 178 + 180) / 5\n",
    "mean_v"
   ]
  },
  {
   "cell_type": "code",
   "execution_count": 27,
   "metadata": {
    "collapsed": false
   },
   "outputs": [
    {
     "data": {
      "text/plain": [
       "count      5.000000\n",
       "mean     214.000000\n",
       "std      216.864013\n",
       "min       90.000000\n",
       "25%      110.000000\n",
       "50%      120.000000\n",
       "75%      150.000000\n",
       "max      600.000000\n",
       "dtype: float64"
      ]
     },
     "execution_count": 27,
     "metadata": {},
     "output_type": "execute_result"
    }
   ],
   "source": [
    "import pandas\n",
    "s = pandas.Series([110,120,90,150,600])\n",
    "s.describe()"
   ]
  },
  {
   "cell_type": "code",
   "execution_count": 28,
   "metadata": {
    "collapsed": false
   },
   "outputs": [
    {
     "data": {
      "text/plain": [
       "120"
      ]
     },
     "execution_count": 28,
     "metadata": {},
     "output_type": "execute_result"
    }
   ],
   "source": [
    "v_50per = [90, 110, 120, 150, 600][2]\n",
    "v_50per"
   ]
  },
  {
   "cell_type": "markdown",
   "metadata": {},
   "source": [
    "## Pandas 資料篩選"
   ]
  },
  {
   "cell_type": "code",
   "execution_count": 42,
   "metadata": {
    "collapsed": false
   },
   "outputs": [
    {
     "data": {
      "text/html": [
       "<div>\n",
       "<table border=\"1\" class=\"dataframe\">\n",
       "  <thead>\n",
       "    <tr style=\"text-align: right;\">\n",
       "      <th></th>\n",
       "      <th>Open</th>\n",
       "      <th>Close</th>\n",
       "    </tr>\n",
       "    <tr>\n",
       "      <th>Date</th>\n",
       "      <th></th>\n",
       "      <th></th>\n",
       "    </tr>\n",
       "  </thead>\n",
       "  <tbody>\n",
       "    <tr>\n",
       "      <th>2000-01-04</th>\n",
       "      <td>83.0813</td>\n",
       "      <td>83.0813</td>\n",
       "    </tr>\n",
       "    <tr>\n",
       "      <th>2000-01-05</th>\n",
       "      <td>83.0813</td>\n",
       "      <td>84.9482</td>\n",
       "    </tr>\n",
       "    <tr>\n",
       "      <th>2000-01-06</th>\n",
       "      <td>84.4815</td>\n",
       "      <td>83.0813</td>\n",
       "    </tr>\n",
       "    <tr>\n",
       "      <th>2000-01-07</th>\n",
       "      <td>80.2809</td>\n",
       "      <td>80.7476</td>\n",
       "    </tr>\n",
       "    <tr>\n",
       "      <th>2000-01-10</th>\n",
       "      <td>83.0813</td>\n",
       "      <td>83.5480</td>\n",
       "    </tr>\n",
       "  </tbody>\n",
       "</table>\n",
       "</div>"
      ],
      "text/plain": [
       "               Open    Close\n",
       "Date                        \n",
       "2000-01-04  83.0813  83.0813\n",
       "2000-01-05  83.0813  84.9482\n",
       "2000-01-06  84.4815  83.0813\n",
       "2000-01-07  80.2809  80.7476\n",
       "2000-01-10  83.0813  83.5480"
      ]
     },
     "execution_count": 42,
     "metadata": {},
     "output_type": "execute_result"
    }
   ],
   "source": [
    "df[['Open', 'Close']].head()"
   ]
  },
  {
   "cell_type": "code",
   "execution_count": 45,
   "metadata": {
    "collapsed": false
   },
   "outputs": [
    {
     "name": "stdout",
     "output_type": "stream",
     "text": [
      "160\n",
      "170\n",
      "180\n"
     ]
    }
   ],
   "source": [
    "a = [130,160,170,120,180]\n",
    "for e in a:\n",
    "    if e >= 150:\n",
    "        print e"
   ]
  },
  {
   "cell_type": "code",
   "execution_count": 46,
   "metadata": {
    "collapsed": false
   },
   "outputs": [
    {
     "data": {
      "text/plain": [
       "1    160\n",
       "2    170\n",
       "4    180\n",
       "dtype: int64"
      ]
     },
     "execution_count": 46,
     "metadata": {},
     "output_type": "execute_result"
    }
   ],
   "source": [
    "import pandas\n",
    "a = pandas.Series([130,160,170,120,180])\n",
    "b = pandas.Series([False, True, True, False, True])\n",
    "a[b]"
   ]
  },
  {
   "cell_type": "code",
   "execution_count": 47,
   "metadata": {
    "collapsed": false
   },
   "outputs": [
    {
     "data": {
      "text/html": [
       "<div>\n",
       "<table border=\"1\" class=\"dataframe\">\n",
       "  <thead>\n",
       "    <tr style=\"text-align: right;\">\n",
       "      <th></th>\n",
       "      <th>Open</th>\n",
       "      <th>High</th>\n",
       "      <th>Low</th>\n",
       "      <th>Close</th>\n",
       "      <th>Volume</th>\n",
       "      <th>Adj Close</th>\n",
       "    </tr>\n",
       "    <tr>\n",
       "      <th>Date</th>\n",
       "      <th></th>\n",
       "      <th></th>\n",
       "      <th></th>\n",
       "      <th></th>\n",
       "      <th></th>\n",
       "      <th></th>\n",
       "    </tr>\n",
       "  </thead>\n",
       "  <tbody>\n",
       "    <tr>\n",
       "      <th>2015-02-24</th>\n",
       "      <td>149.0</td>\n",
       "      <td>152.0</td>\n",
       "      <td>148.5</td>\n",
       "      <td>151.0</td>\n",
       "      <td>72531000</td>\n",
       "      <td>140.8235</td>\n",
       "    </tr>\n",
       "    <tr>\n",
       "      <th>2015-02-25</th>\n",
       "      <td>152.5</td>\n",
       "      <td>154.5</td>\n",
       "      <td>152.5</td>\n",
       "      <td>154.5</td>\n",
       "      <td>48183000</td>\n",
       "      <td>144.0876</td>\n",
       "    </tr>\n",
       "    <tr>\n",
       "      <th>2015-02-26</th>\n",
       "      <td>153.5</td>\n",
       "      <td>154.0</td>\n",
       "      <td>150.5</td>\n",
       "      <td>150.5</td>\n",
       "      <td>55574000</td>\n",
       "      <td>140.3572</td>\n",
       "    </tr>\n",
       "    <tr>\n",
       "      <th>2015-02-27</th>\n",
       "      <td>150.5</td>\n",
       "      <td>150.5</td>\n",
       "      <td>150.5</td>\n",
       "      <td>150.5</td>\n",
       "      <td>0</td>\n",
       "      <td>140.3572</td>\n",
       "    </tr>\n",
       "    <tr>\n",
       "      <th>2015-03-03</th>\n",
       "      <td>150.0</td>\n",
       "      <td>151.0</td>\n",
       "      <td>148.5</td>\n",
       "      <td>150.5</td>\n",
       "      <td>29134000</td>\n",
       "      <td>140.3572</td>\n",
       "    </tr>\n",
       "  </tbody>\n",
       "</table>\n",
       "</div>"
      ],
      "text/plain": [
       "             Open   High    Low  Close    Volume  Adj Close\n",
       "Date                                                       \n",
       "2015-02-24  149.0  152.0  148.5  151.0  72531000   140.8235\n",
       "2015-02-25  152.5  154.5  152.5  154.5  48183000   144.0876\n",
       "2015-02-26  153.5  154.0  150.5  150.5  55574000   140.3572\n",
       "2015-02-27  150.5  150.5  150.5  150.5         0   140.3572\n",
       "2015-03-03  150.0  151.0  148.5  150.5  29134000   140.3572"
      ]
     },
     "execution_count": 47,
     "metadata": {},
     "output_type": "execute_result"
    }
   ],
   "source": [
    "df['Close'] >= 150\n",
    "df[df['Close'] >= 150].head()"
   ]
  },
  {
   "cell_type": "code",
   "execution_count": 51,
   "metadata": {
    "collapsed": false
   },
   "outputs": [
    {
     "data": {
      "text/html": [
       "<div>\n",
       "<table border=\"1\" class=\"dataframe\">\n",
       "  <thead>\n",
       "    <tr style=\"text-align: right;\">\n",
       "      <th></th>\n",
       "      <th>Open</th>\n",
       "      <th>High</th>\n",
       "      <th>Low</th>\n",
       "      <th>Close</th>\n",
       "      <th>Volume</th>\n",
       "      <th>Adj Close</th>\n",
       "    </tr>\n",
       "    <tr>\n",
       "      <th>Date</th>\n",
       "      <th></th>\n",
       "      <th></th>\n",
       "      <th></th>\n",
       "      <th></th>\n",
       "      <th></th>\n",
       "      <th></th>\n",
       "    </tr>\n",
       "  </thead>\n",
       "  <tbody>\n",
       "    <tr>\n",
       "      <th>2015-02-24</th>\n",
       "      <td>149.0</td>\n",
       "      <td>152.0</td>\n",
       "      <td>148.5</td>\n",
       "      <td>151.0</td>\n",
       "      <td>72531000</td>\n",
       "      <td>140.8235</td>\n",
       "    </tr>\n",
       "  </tbody>\n",
       "</table>\n",
       "</div>"
      ],
      "text/plain": [
       "             Open   High    Low  Close    Volume  Adj Close\n",
       "Date                                                       \n",
       "2015-02-24  149.0  152.0  148.5  151.0  72531000   140.8235"
      ]
     },
     "execution_count": 51,
     "metadata": {},
     "output_type": "execute_result"
    }
   ],
   "source": [
    "df[df.index == '2015-02-24']"
   ]
  },
  {
   "cell_type": "code",
   "execution_count": 53,
   "metadata": {
    "collapsed": false
   },
   "outputs": [
    {
     "data": {
      "text/html": [
       "<div>\n",
       "<table border=\"1\" class=\"dataframe\">\n",
       "  <thead>\n",
       "    <tr style=\"text-align: right;\">\n",
       "      <th></th>\n",
       "      <th>Open</th>\n",
       "      <th>High</th>\n",
       "      <th>Low</th>\n",
       "      <th>Close</th>\n",
       "      <th>Volume</th>\n",
       "      <th>Adj Close</th>\n",
       "    </tr>\n",
       "    <tr>\n",
       "      <th>Date</th>\n",
       "      <th></th>\n",
       "      <th></th>\n",
       "      <th></th>\n",
       "      <th></th>\n",
       "      <th></th>\n",
       "      <th></th>\n",
       "    </tr>\n",
       "  </thead>\n",
       "  <tbody>\n",
       "    <tr>\n",
       "      <th>2016-02-18</th>\n",
       "      <td>150.0</td>\n",
       "      <td>151.0</td>\n",
       "      <td>149.5</td>\n",
       "      <td>151.0</td>\n",
       "      <td>61657000</td>\n",
       "      <td>145.3019</td>\n",
       "    </tr>\n",
       "    <tr>\n",
       "      <th>2016-02-19</th>\n",
       "      <td>149.0</td>\n",
       "      <td>151.0</td>\n",
       "      <td>149.0</td>\n",
       "      <td>151.0</td>\n",
       "      <td>35668000</td>\n",
       "      <td>145.3019</td>\n",
       "    </tr>\n",
       "    <tr>\n",
       "      <th>2016-02-22</th>\n",
       "      <td>149.5</td>\n",
       "      <td>152.5</td>\n",
       "      <td>149.5</td>\n",
       "      <td>151.0</td>\n",
       "      <td>27003000</td>\n",
       "      <td>145.3019</td>\n",
       "    </tr>\n",
       "    <tr>\n",
       "      <th>2016-02-25</th>\n",
       "      <td>149.0</td>\n",
       "      <td>151.0</td>\n",
       "      <td>148.5</td>\n",
       "      <td>150.5</td>\n",
       "      <td>25202000</td>\n",
       "      <td>144.8208</td>\n",
       "    </tr>\n",
       "    <tr>\n",
       "      <th>2016-03-01</th>\n",
       "      <td>148.5</td>\n",
       "      <td>152.0</td>\n",
       "      <td>148.5</td>\n",
       "      <td>152.0</td>\n",
       "      <td>38629000</td>\n",
       "      <td>146.2642</td>\n",
       "    </tr>\n",
       "  </tbody>\n",
       "</table>\n",
       "</div>"
      ],
      "text/plain": [
       "             Open   High    Low  Close    Volume  Adj Close\n",
       "Date                                                       \n",
       "2016-02-18  150.0  151.0  149.5  151.0  61657000   145.3019\n",
       "2016-02-19  149.0  151.0  149.0  151.0  35668000   145.3019\n",
       "2016-02-22  149.5  152.5  149.5  151.0  27003000   145.3019\n",
       "2016-02-25  149.0  151.0  148.5  150.5  25202000   144.8208\n",
       "2016-03-01  148.5  152.0  148.5  152.0  38629000   146.2642"
      ]
     },
     "execution_count": 53,
     "metadata": {},
     "output_type": "execute_result"
    }
   ],
   "source": [
    "(df['Close']>=150) & (df.index>='2016-01-01')\n",
    "df[(df['Close']>=150) & (df.index>='2016-01-01')].head()"
   ]
  },
  {
   "cell_type": "code",
   "execution_count": 54,
   "metadata": {
    "collapsed": false
   },
   "outputs": [
    {
     "data": {
      "text/plain": [
       "32.753999999999998"
      ]
     },
     "execution_count": 54,
     "metadata": {},
     "output_type": "execute_result"
    }
   ],
   "source": [
    "df['Close'].min()"
   ]
  },
  {
   "cell_type": "markdown",
   "metadata": {},
   "source": [
    "## 資料排序"
   ]
  },
  {
   "cell_type": "code",
   "execution_count": 57,
   "metadata": {
    "collapsed": false
   },
   "outputs": [
    {
     "data": {
      "text/html": [
       "<div>\n",
       "<table border=\"1\" class=\"dataframe\">\n",
       "  <thead>\n",
       "    <tr style=\"text-align: right;\">\n",
       "      <th></th>\n",
       "      <th>Open</th>\n",
       "      <th>High</th>\n",
       "      <th>Low</th>\n",
       "      <th>Close</th>\n",
       "      <th>Volume</th>\n",
       "      <th>Adj Close</th>\n",
       "    </tr>\n",
       "    <tr>\n",
       "      <th>Date</th>\n",
       "      <th></th>\n",
       "      <th></th>\n",
       "      <th></th>\n",
       "      <th></th>\n",
       "      <th></th>\n",
       "      <th></th>\n",
       "    </tr>\n",
       "  </thead>\n",
       "  <tbody>\n",
       "    <tr>\n",
       "      <th>2002-10-08</th>\n",
       "      <td>32.2019</td>\n",
       "      <td>32.9380</td>\n",
       "      <td>32.1099</td>\n",
       "      <td>32.7540</td>\n",
       "      <td>106257100</td>\n",
       "      <td>23.0169</td>\n",
       "    </tr>\n",
       "    <tr>\n",
       "      <th>2002-10-11</th>\n",
       "      <td>34.0420</td>\n",
       "      <td>34.2260</td>\n",
       "      <td>32.6619</td>\n",
       "      <td>32.8459</td>\n",
       "      <td>105725900</td>\n",
       "      <td>23.0815</td>\n",
       "    </tr>\n",
       "    <tr>\n",
       "      <th>2002-10-07</th>\n",
       "      <td>34.5020</td>\n",
       "      <td>34.5020</td>\n",
       "      <td>33.1219</td>\n",
       "      <td>33.1219</td>\n",
       "      <td>58350300</td>\n",
       "      <td>23.2755</td>\n",
       "    </tr>\n",
       "    <tr>\n",
       "      <th>2002-10-09</th>\n",
       "      <td>32.7540</td>\n",
       "      <td>34.5940</td>\n",
       "      <td>32.4779</td>\n",
       "      <td>33.1219</td>\n",
       "      <td>131366300</td>\n",
       "      <td>23.2755</td>\n",
       "    </tr>\n",
       "    <tr>\n",
       "      <th>2002-10-03</th>\n",
       "      <td>36.1581</td>\n",
       "      <td>36.1581</td>\n",
       "      <td>34.6861</td>\n",
       "      <td>34.6861</td>\n",
       "      <td>73547100</td>\n",
       "      <td>24.3747</td>\n",
       "    </tr>\n",
       "  </tbody>\n",
       "</table>\n",
       "</div>"
      ],
      "text/plain": [
       "               Open     High      Low    Close     Volume  Adj Close\n",
       "Date                                                                \n",
       "2002-10-08  32.2019  32.9380  32.1099  32.7540  106257100    23.0169\n",
       "2002-10-11  34.0420  34.2260  32.6619  32.8459  105725900    23.0815\n",
       "2002-10-07  34.5020  34.5020  33.1219  33.1219   58350300    23.2755\n",
       "2002-10-09  32.7540  34.5940  32.4779  33.1219  131366300    23.2755\n",
       "2002-10-03  36.1581  36.1581  34.6861  34.6861   73547100    24.3747"
      ]
     },
     "execution_count": 57,
     "metadata": {},
     "output_type": "execute_result"
    }
   ],
   "source": [
    "df.sort_values('Close').head()"
   ]
  },
  {
   "cell_type": "code",
   "execution_count": 59,
   "metadata": {
    "collapsed": false
   },
   "outputs": [],
   "source": [
    "?df.sort_values\n",
    "#df.sort_values('Close').tail()"
   ]
  },
  {
   "cell_type": "code",
   "execution_count": 60,
   "metadata": {
    "collapsed": false
   },
   "outputs": [
    {
     "data": {
      "text/html": [
       "<div>\n",
       "<table border=\"1\" class=\"dataframe\">\n",
       "  <thead>\n",
       "    <tr style=\"text-align: right;\">\n",
       "      <th></th>\n",
       "      <th>Open</th>\n",
       "      <th>High</th>\n",
       "      <th>Low</th>\n",
       "      <th>Close</th>\n",
       "      <th>Volume</th>\n",
       "      <th>Adj Close</th>\n",
       "    </tr>\n",
       "    <tr>\n",
       "      <th>Date</th>\n",
       "      <th></th>\n",
       "      <th></th>\n",
       "      <th></th>\n",
       "      <th></th>\n",
       "      <th></th>\n",
       "      <th></th>\n",
       "    </tr>\n",
       "  </thead>\n",
       "  <tbody>\n",
       "    <tr>\n",
       "      <th>2016-09-29</th>\n",
       "      <td>185.5</td>\n",
       "      <td>187.5</td>\n",
       "      <td>185.5</td>\n",
       "      <td>187.0</td>\n",
       "      <td>54272000</td>\n",
       "      <td>187.0</td>\n",
       "    </tr>\n",
       "    <tr>\n",
       "      <th>2016-09-23</th>\n",
       "      <td>185.0</td>\n",
       "      <td>187.5</td>\n",
       "      <td>184.5</td>\n",
       "      <td>187.0</td>\n",
       "      <td>23213000</td>\n",
       "      <td>187.0</td>\n",
       "    </tr>\n",
       "    <tr>\n",
       "      <th>2016-09-22</th>\n",
       "      <td>185.0</td>\n",
       "      <td>185.5</td>\n",
       "      <td>183.5</td>\n",
       "      <td>185.0</td>\n",
       "      <td>20980000</td>\n",
       "      <td>185.0</td>\n",
       "    </tr>\n",
       "    <tr>\n",
       "      <th>2016-09-07</th>\n",
       "      <td>180.5</td>\n",
       "      <td>185.0</td>\n",
       "      <td>180.0</td>\n",
       "      <td>185.0</td>\n",
       "      <td>49761000</td>\n",
       "      <td>185.0</td>\n",
       "    </tr>\n",
       "    <tr>\n",
       "      <th>2016-09-21</th>\n",
       "      <td>181.0</td>\n",
       "      <td>184.0</td>\n",
       "      <td>180.5</td>\n",
       "      <td>184.0</td>\n",
       "      <td>25008000</td>\n",
       "      <td>184.0</td>\n",
       "    </tr>\n",
       "  </tbody>\n",
       "</table>\n",
       "</div>"
      ],
      "text/plain": [
       "             Open   High    Low  Close    Volume  Adj Close\n",
       "Date                                                       \n",
       "2016-09-29  185.5  187.5  185.5  187.0  54272000      187.0\n",
       "2016-09-23  185.0  187.5  184.5  187.0  23213000      187.0\n",
       "2016-09-22  185.0  185.5  183.5  185.0  20980000      185.0\n",
       "2016-09-07  180.5  185.0  180.0  185.0  49761000      185.0\n",
       "2016-09-21  181.0  184.0  180.5  184.0  25008000      184.0"
      ]
     },
     "execution_count": 60,
     "metadata": {},
     "output_type": "execute_result"
    }
   ],
   "source": [
    "df.sort_values('Close', ascending=False).head()"
   ]
  },
  {
   "cell_type": "markdown",
   "metadata": {},
   "source": [
    "## 資料轉換"
   ]
  },
  {
   "cell_type": "code",
   "execution_count": 63,
   "metadata": {
    "collapsed": false
   },
   "outputs": [],
   "source": [
    "df['Stock_Change'] = ((df['Close'] - df['Open']) / df['Open']) "
   ]
  },
  {
   "cell_type": "code",
   "execution_count": 65,
   "metadata": {
    "collapsed": false
   },
   "outputs": [
    {
     "data": {
      "text/html": [
       "<div>\n",
       "<table border=\"1\" class=\"dataframe\">\n",
       "  <thead>\n",
       "    <tr style=\"text-align: right;\">\n",
       "      <th></th>\n",
       "      <th>Open</th>\n",
       "      <th>High</th>\n",
       "      <th>Low</th>\n",
       "      <th>Close</th>\n",
       "      <th>Volume</th>\n",
       "      <th>Adj Close</th>\n",
       "      <th>Stock_Change</th>\n",
       "    </tr>\n",
       "    <tr>\n",
       "      <th>Date</th>\n",
       "      <th></th>\n",
       "      <th></th>\n",
       "      <th></th>\n",
       "      <th></th>\n",
       "      <th></th>\n",
       "      <th></th>\n",
       "      <th></th>\n",
       "    </tr>\n",
       "  </thead>\n",
       "  <tbody>\n",
       "    <tr>\n",
       "      <th>2000-01-04</th>\n",
       "      <td>83.0813</td>\n",
       "      <td>83.0813</td>\n",
       "      <td>81.6811</td>\n",
       "      <td>83.0813</td>\n",
       "      <td>149083800</td>\n",
       "      <td>29.6180</td>\n",
       "      <td>0.000000</td>\n",
       "    </tr>\n",
       "    <tr>\n",
       "      <th>2000-01-05</th>\n",
       "      <td>83.0813</td>\n",
       "      <td>84.9482</td>\n",
       "      <td>82.1478</td>\n",
       "      <td>84.9482</td>\n",
       "      <td>299016300</td>\n",
       "      <td>30.2836</td>\n",
       "      <td>0.022471</td>\n",
       "    </tr>\n",
       "    <tr>\n",
       "      <th>2000-01-06</th>\n",
       "      <td>84.4815</td>\n",
       "      <td>84.9482</td>\n",
       "      <td>83.0813</td>\n",
       "      <td>83.0813</td>\n",
       "      <td>146768300</td>\n",
       "      <td>29.6180</td>\n",
       "      <td>-0.016574</td>\n",
       "    </tr>\n",
       "    <tr>\n",
       "      <th>2000-01-07</th>\n",
       "      <td>80.2809</td>\n",
       "      <td>81.6811</td>\n",
       "      <td>79.3474</td>\n",
       "      <td>80.7476</td>\n",
       "      <td>174796200</td>\n",
       "      <td>28.7861</td>\n",
       "      <td>0.005813</td>\n",
       "    </tr>\n",
       "    <tr>\n",
       "      <th>2000-01-10</th>\n",
       "      <td>83.0813</td>\n",
       "      <td>84.0148</td>\n",
       "      <td>81.6811</td>\n",
       "      <td>83.5480</td>\n",
       "      <td>205184200</td>\n",
       "      <td>29.7844</td>\n",
       "      <td>0.005617</td>\n",
       "    </tr>\n",
       "  </tbody>\n",
       "</table>\n",
       "</div>"
      ],
      "text/plain": [
       "               Open     High      Low    Close     Volume  Adj Close  \\\n",
       "Date                                                                   \n",
       "2000-01-04  83.0813  83.0813  81.6811  83.0813  149083800    29.6180   \n",
       "2000-01-05  83.0813  84.9482  82.1478  84.9482  299016300    30.2836   \n",
       "2000-01-06  84.4815  84.9482  83.0813  83.0813  146768300    29.6180   \n",
       "2000-01-07  80.2809  81.6811  79.3474  80.7476  174796200    28.7861   \n",
       "2000-01-10  83.0813  84.0148  81.6811  83.5480  205184200    29.7844   \n",
       "\n",
       "            Stock_Change  \n",
       "Date                      \n",
       "2000-01-04      0.000000  \n",
       "2000-01-05      0.022471  \n",
       "2000-01-06     -0.016574  \n",
       "2000-01-07      0.005813  \n",
       "2000-01-10      0.005617  "
      ]
     },
     "execution_count": 65,
     "metadata": {},
     "output_type": "execute_result"
    }
   ],
   "source": [
    "df.head()"
   ]
  },
  {
   "cell_type": "code",
   "execution_count": 67,
   "metadata": {
    "collapsed": true
   },
   "outputs": [],
   "source": [
    "def updown(price):\n",
    "    tag='平盤'\n",
    "    if price>0.02:\n",
    "        tag='大漲'\n",
    "    elif price>0.01:\n",
    "        tag='漲' \n",
    "    elif price<-0.02:\n",
    "        tag='大跌'\n",
    "    elif price<-0.01:\n",
    "        tag='跌'\n",
    "    return tag"
   ]
  },
  {
   "cell_type": "code",
   "execution_count": 69,
   "metadata": {
    "collapsed": false
   },
   "outputs": [],
   "source": [
    "df['Stock_Change_Tag'] = df['Stock_Change'].map(lambda e : updown(e))"
   ]
  },
  {
   "cell_type": "code",
   "execution_count": 71,
   "metadata": {
    "collapsed": false
   },
   "outputs": [
    {
     "data": {
      "text/plain": [
       "平盤    2527\n",
       "跌      571\n",
       "漲      519\n",
       "大漲     314\n",
       "大跌     281\n",
       "Name: Stock_Change_Tag, dtype: int64"
      ]
     },
     "execution_count": 71,
     "metadata": {},
     "output_type": "execute_result"
    }
   ],
   "source": [
    "df['Stock_Change_Tag'].value_counts()"
   ]
  },
  {
   "cell_type": "markdown",
   "metadata": {},
   "source": [
    "## Lambda Function"
   ]
  },
  {
   "cell_type": "code",
   "execution_count": 73,
   "metadata": {
    "collapsed": false
   },
   "outputs": [
    {
     "data": {
      "text/plain": [
       "9"
      ]
     },
     "execution_count": 73,
     "metadata": {},
     "output_type": "execute_result"
    }
   ],
   "source": [
    "def e2(a):\n",
    "    return a * a\n",
    "\n",
    "e2(3)"
   ]
  },
  {
   "cell_type": "code",
   "execution_count": 74,
   "metadata": {
    "collapsed": false
   },
   "outputs": [
    {
     "data": {
      "text/plain": [
       "9"
      ]
     },
     "execution_count": 74,
     "metadata": {},
     "output_type": "execute_result"
    }
   ],
   "source": [
    "e3 = lambda e : e * e\n",
    "e3(3)"
   ]
  },
  {
   "cell_type": "markdown",
   "metadata": {},
   "source": [
    "## 資料分組計算"
   ]
  },
  {
   "cell_type": "code",
   "execution_count": 76,
   "metadata": {
    "collapsed": false
   },
   "outputs": [
    {
     "data": {
      "text/html": [
       "<div>\n",
       "<table border=\"1\" class=\"dataframe\">\n",
       "  <thead>\n",
       "    <tr style=\"text-align: right;\">\n",
       "      <th></th>\n",
       "      <th>Open</th>\n",
       "      <th>High</th>\n",
       "      <th>Low</th>\n",
       "      <th>Close</th>\n",
       "      <th>Volume</th>\n",
       "      <th>Adj Close</th>\n",
       "      <th>Stock_Change</th>\n",
       "      <th>Stock_Change_Tag</th>\n",
       "    </tr>\n",
       "    <tr>\n",
       "      <th>Date</th>\n",
       "      <th></th>\n",
       "      <th></th>\n",
       "      <th></th>\n",
       "      <th></th>\n",
       "      <th></th>\n",
       "      <th></th>\n",
       "      <th></th>\n",
       "      <th></th>\n",
       "    </tr>\n",
       "  </thead>\n",
       "  <tbody>\n",
       "    <tr>\n",
       "      <th>2000-01-04</th>\n",
       "      <td>83.0813</td>\n",
       "      <td>83.0813</td>\n",
       "      <td>81.6811</td>\n",
       "      <td>83.0813</td>\n",
       "      <td>149083800</td>\n",
       "      <td>29.6180</td>\n",
       "      <td>0.000000</td>\n",
       "      <td>平盤</td>\n",
       "    </tr>\n",
       "    <tr>\n",
       "      <th>2000-01-05</th>\n",
       "      <td>83.0813</td>\n",
       "      <td>84.9482</td>\n",
       "      <td>82.1478</td>\n",
       "      <td>84.9482</td>\n",
       "      <td>299016300</td>\n",
       "      <td>30.2836</td>\n",
       "      <td>0.022471</td>\n",
       "      <td>大漲</td>\n",
       "    </tr>\n",
       "    <tr>\n",
       "      <th>2000-01-06</th>\n",
       "      <td>84.4815</td>\n",
       "      <td>84.9482</td>\n",
       "      <td>83.0813</td>\n",
       "      <td>83.0813</td>\n",
       "      <td>146768300</td>\n",
       "      <td>29.6180</td>\n",
       "      <td>-0.016574</td>\n",
       "      <td>跌</td>\n",
       "    </tr>\n",
       "    <tr>\n",
       "      <th>2000-01-07</th>\n",
       "      <td>80.2809</td>\n",
       "      <td>81.6811</td>\n",
       "      <td>79.3474</td>\n",
       "      <td>80.7476</td>\n",
       "      <td>174796200</td>\n",
       "      <td>28.7861</td>\n",
       "      <td>0.005813</td>\n",
       "      <td>平盤</td>\n",
       "    </tr>\n",
       "    <tr>\n",
       "      <th>2000-01-10</th>\n",
       "      <td>83.0813</td>\n",
       "      <td>84.0148</td>\n",
       "      <td>81.6811</td>\n",
       "      <td>83.5480</td>\n",
       "      <td>205184200</td>\n",
       "      <td>29.7844</td>\n",
       "      <td>0.005617</td>\n",
       "      <td>平盤</td>\n",
       "    </tr>\n",
       "  </tbody>\n",
       "</table>\n",
       "</div>"
      ],
      "text/plain": [
       "               Open     High      Low    Close     Volume  Adj Close  \\\n",
       "Date                                                                   \n",
       "2000-01-04  83.0813  83.0813  81.6811  83.0813  149083800    29.6180   \n",
       "2000-01-05  83.0813  84.9482  82.1478  84.9482  299016300    30.2836   \n",
       "2000-01-06  84.4815  84.9482  83.0813  83.0813  146768300    29.6180   \n",
       "2000-01-07  80.2809  81.6811  79.3474  80.7476  174796200    28.7861   \n",
       "2000-01-10  83.0813  84.0148  81.6811  83.5480  205184200    29.7844   \n",
       "\n",
       "            Stock_Change Stock_Change_Tag  \n",
       "Date                                       \n",
       "2000-01-04      0.000000               平盤  \n",
       "2000-01-05      0.022471               大漲  \n",
       "2000-01-06     -0.016574                跌  \n",
       "2000-01-07      0.005813               平盤  \n",
       "2000-01-10      0.005617               平盤  "
      ]
     },
     "execution_count": 76,
     "metadata": {},
     "output_type": "execute_result"
    }
   ],
   "source": [
    "df.head()"
   ]
  },
  {
   "cell_type": "code",
   "execution_count": 80,
   "metadata": {
    "collapsed": false
   },
   "outputs": [],
   "source": [
    "df['trading_ym']= df.index.strftime('%Y-%m-01')"
   ]
  },
  {
   "cell_type": "code",
   "execution_count": 82,
   "metadata": {
    "collapsed": false
   },
   "outputs": [
    {
     "data": {
      "text/plain": [
       "trading_ym\n",
       "2000-01-01     87.095330\n",
       "2000-02-01     95.461229\n",
       "2000-03-01     92.050970\n",
       "2000-04-01     90.385945\n",
       "2000-05-01     89.705813\n",
       "2000-06-01     90.158718\n",
       "2000-07-01     82.517471\n",
       "2000-08-01     79.238370\n",
       "2000-09-01     71.251495\n",
       "2000-10-01     59.567209\n",
       "2000-11-01     60.395486\n",
       "2000-12-01     51.036085\n",
       "2001-01-01     56.103113\n",
       "2001-02-01     56.835158\n",
       "2001-03-01     52.346871\n",
       "2001-04-01     50.901660\n",
       "2001-05-01     55.208655\n",
       "2001-06-01     54.456430\n",
       "2001-07-01     52.235952\n",
       "2001-08-01     55.239583\n",
       "2001-09-01     48.386457\n",
       "2001-10-01     46.237662\n",
       "2001-11-01     59.484852\n",
       "2001-12-01     70.039562\n",
       "2002-01-01     74.315260\n",
       "2002-02-01     70.084375\n",
       "2002-03-01     77.686771\n",
       "2002-04-01     77.547376\n",
       "2002-05-01     71.988486\n",
       "2002-06-01     63.776420\n",
       "                 ...    \n",
       "2014-04-01    120.000000\n",
       "2014-05-01    120.590909\n",
       "2014-06-01    123.857143\n",
       "2014-07-01    128.739130\n",
       "2014-08-01    123.071429\n",
       "2014-09-01    124.340909\n",
       "2014-10-01    125.021739\n",
       "2014-11-01    135.175000\n",
       "2014-12-01    137.173913\n",
       "2015-01-01    138.636364\n",
       "2015-02-01    147.450000\n",
       "2015-03-01    148.636364\n",
       "2015-04-01    146.113636\n",
       "2015-05-01    146.714286\n",
       "2015-06-01    142.386364\n",
       "2015-07-01    138.347826\n",
       "2015-08-01    127.380952\n",
       "2015-09-01    127.045455\n",
       "2015-10-01    136.863636\n",
       "2015-11-01    139.595238\n",
       "2015-12-01    141.891304\n",
       "2016-01-01    136.833333\n",
       "2016-02-01    147.400000\n",
       "2016-03-01    156.456522\n",
       "2016-04-01    157.071429\n",
       "2016-05-01    149.545455\n",
       "2016-06-01    161.818182\n",
       "2016-07-01    169.575000\n",
       "2016-08-01    176.086957\n",
       "2016-09-01    180.214286\n",
       "Name: Close, dtype: float64"
      ]
     },
     "execution_count": 82,
     "metadata": {},
     "output_type": "execute_result"
    }
   ],
   "source": [
    "# select trading_ym, avg(close) \n",
    "# from df gorup by trading_ym\n",
    "df.groupby('trading_ym')['Close'].mean()"
   ]
  }
 ],
 "metadata": {
  "kernelspec": {
   "display_name": "Python [Root]",
   "language": "python",
   "name": "Python [Root]"
  },
  "language_info": {
   "codemirror_mode": {
    "name": "ipython",
    "version": 2
   },
   "file_extension": ".py",
   "mimetype": "text/x-python",
   "name": "python",
   "nbconvert_exporter": "python",
   "pygments_lexer": "ipython2",
   "version": "2.7.12"
  }
 },
 "nbformat": 4,
 "nbformat_minor": 0
}
