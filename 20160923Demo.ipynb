{
 "cells": [
  {
   "cell_type": "markdown",
   "metadata": {},
   "source": [
    "## Python 基礎"
   ]
  },
  {
   "cell_type": "code",
   "execution_count": 4,
   "metadata": {
    "collapsed": false
   },
   "outputs": [
    {
     "data": {
      "text/plain": [
       "5"
      ]
     },
     "execution_count": 4,
     "metadata": {},
     "output_type": "execute_result"
    }
   ],
   "source": [
    "a = 3 \n",
    "b = 2 \n",
    "a + b"
   ]
  },
  {
   "cell_type": "code",
   "execution_count": 2,
   "metadata": {
    "collapsed": false
   },
   "outputs": [
    {
     "data": {
      "text/plain": [
       "2"
      ]
     },
     "execution_count": 2,
     "metadata": {},
     "output_type": "execute_result"
    }
   ],
   "source": [
    "b "
   ]
  },
  {
   "cell_type": "markdown",
   "metadata": {},
   "source": [
    "## 使用Python 寫資料入檔案"
   ]
  },
  {
   "cell_type": "code",
   "execution_count": 5,
   "metadata": {
    "collapsed": true
   },
   "outputs": [],
   "source": [
    "fid = open('test.txt', 'w')\n",
    "fid.write('Hello\\nWorld')\n",
    "fid.close()"
   ]
  },
  {
   "cell_type": "raw",
   "metadata": {},
   "source": [
    "if(a > 3){    \n",
    "    System.out.println('a is above 3');\n",
    "}"
   ]
  },
  {
   "cell_type": "code",
   "execution_count": 6,
   "metadata": {
    "collapsed": false
   },
   "outputs": [
    {
     "name": "stdout",
     "output_type": "stream",
     "text": [
      "a is above 3\n"
     ]
    }
   ],
   "source": [
    "a = 5\n",
    "if a > 3:\n",
    "    print('a is above 3')"
   ]
  },
  {
   "cell_type": "code",
   "execution_count": 7,
   "metadata": {
    "collapsed": true
   },
   "outputs": [],
   "source": [
    "with open('test.txt','w') as f:\n",
    "    f.write('Hello\\nWorld')"
   ]
  },
  {
   "cell_type": "code",
   "execution_count": 9,
   "metadata": {
    "collapsed": false
   },
   "outputs": [
    {
     "name": "stdout",
     "output_type": "stream",
     "text": [
      "Hello\n",
      "\n",
      "World\n"
     ]
    }
   ],
   "source": [
    "with open('test.txt', 'r') as fid:\n",
    "    for line in fid:\n",
    "        print line"
   ]
  },
  {
   "cell_type": "code",
   "execution_count": 11,
   "metadata": {
    "collapsed": false
   },
   "outputs": [
    {
     "name": "stdout",
     "output_type": "stream",
     "text": [
      "line Hello\n",
      "World\n"
     ]
    }
   ],
   "source": [
    "with open('test.txt', 'r') as fid:\n",
    "    s = fid.read()\n",
    "print 'line', s"
   ]
  },
  {
   "cell_type": "markdown",
   "metadata": {},
   "source": [
    "## 讀取半結構化資料與結構化資料"
   ]
  },
  {
   "cell_type": "code",
   "execution_count": 13,
   "metadata": {
    "collapsed": false
   },
   "outputs": [
    {
     "data": {
      "text/html": [
       "<div>\n",
       "<table border=\"1\" class=\"dataframe\">\n",
       "  <thead>\n",
       "    <tr style=\"text-align: right;\">\n",
       "      <th></th>\n",
       "      <th>Adj Close</th>\n",
       "      <th>Close</th>\n",
       "      <th>Date</th>\n",
       "      <th>High</th>\n",
       "      <th>Low</th>\n",
       "      <th>Open</th>\n",
       "      <th>Volume</th>\n",
       "    </tr>\n",
       "  </thead>\n",
       "  <tbody>\n",
       "    <tr>\n",
       "      <th>0</th>\n",
       "      <td>172.0</td>\n",
       "      <td>172.0</td>\n",
       "      <td>2016-07-21</td>\n",
       "      <td>172.0</td>\n",
       "      <td>170.0</td>\n",
       "      <td>171.0</td>\n",
       "      <td>33130000</td>\n",
       "    </tr>\n",
       "    <tr>\n",
       "      <th>1</th>\n",
       "      <td>170.0</td>\n",
       "      <td>170.0</td>\n",
       "      <td>2016-07-20</td>\n",
       "      <td>170.5</td>\n",
       "      <td>169.0</td>\n",
       "      <td>170.0</td>\n",
       "      <td>38053000</td>\n",
       "    </tr>\n",
       "    <tr>\n",
       "      <th>2</th>\n",
       "      <td>170.5</td>\n",
       "      <td>170.5</td>\n",
       "      <td>2016-07-19</td>\n",
       "      <td>170.5</td>\n",
       "      <td>169.0</td>\n",
       "      <td>170.5</td>\n",
       "      <td>42456000</td>\n",
       "    </tr>\n",
       "    <tr>\n",
       "      <th>3</th>\n",
       "      <td>169.5</td>\n",
       "      <td>169.5</td>\n",
       "      <td>2016-07-18</td>\n",
       "      <td>170.0</td>\n",
       "      <td>168.0</td>\n",
       "      <td>168.0</td>\n",
       "      <td>24749000</td>\n",
       "    </tr>\n",
       "    <tr>\n",
       "      <th>4</th>\n",
       "      <td>169.5</td>\n",
       "      <td>169.5</td>\n",
       "      <td>2016-07-15</td>\n",
       "      <td>169.5</td>\n",
       "      <td>169.5</td>\n",
       "      <td>169.5</td>\n",
       "      <td>41000</td>\n",
       "    </tr>\n",
       "  </tbody>\n",
       "</table>\n",
       "</div>"
      ],
      "text/plain": [
       "   Adj Close  Close       Date   High    Low   Open    Volume\n",
       "0      172.0  172.0 2016-07-21  172.0  170.0  171.0  33130000\n",
       "1      170.0  170.0 2016-07-20  170.5  169.0  170.0  38053000\n",
       "2      170.5  170.5 2016-07-19  170.5  169.0  170.5  42456000\n",
       "3      169.5  169.5 2016-07-18  170.0  168.0  168.0  24749000\n",
       "4      169.5  169.5 2016-07-15  169.5  169.5  169.5     41000"
      ]
     },
     "execution_count": 13,
     "metadata": {},
     "output_type": "execute_result"
    }
   ],
   "source": [
    "import pandas\n",
    "df = pandas.read_json('2330.json')\n",
    "df"
   ]
  },
  {
   "cell_type": "code",
   "execution_count": 17,
   "metadata": {
    "collapsed": false
   },
   "outputs": [
    {
     "data": {
      "text/html": [
       "<div>\n",
       "<table border=\"1\" class=\"dataframe\">\n",
       "  <thead>\n",
       "    <tr style=\"text-align: right;\">\n",
       "      <th></th>\n",
       "      <th>Date</th>\n",
       "      <th>Open</th>\n",
       "      <th>High</th>\n",
       "      <th>Low</th>\n",
       "      <th>Close</th>\n",
       "      <th>Volume</th>\n",
       "      <th>Adj Close</th>\n",
       "    </tr>\n",
       "  </thead>\n",
       "  <tbody>\n",
       "    <tr>\n",
       "      <th>0</th>\n",
       "      <td>2016-07-21</td>\n",
       "      <td>171.0</td>\n",
       "      <td>172.0</td>\n",
       "      <td>170.0</td>\n",
       "      <td>172.0</td>\n",
       "      <td>33130000</td>\n",
       "      <td>172.0</td>\n",
       "    </tr>\n",
       "    <tr>\n",
       "      <th>1</th>\n",
       "      <td>2016-07-20</td>\n",
       "      <td>170.0</td>\n",
       "      <td>170.5</td>\n",
       "      <td>169.0</td>\n",
       "      <td>170.0</td>\n",
       "      <td>38053000</td>\n",
       "      <td>170.0</td>\n",
       "    </tr>\n",
       "    <tr>\n",
       "      <th>2</th>\n",
       "      <td>2016-07-19</td>\n",
       "      <td>170.5</td>\n",
       "      <td>170.5</td>\n",
       "      <td>169.0</td>\n",
       "      <td>170.5</td>\n",
       "      <td>42456000</td>\n",
       "      <td>170.5</td>\n",
       "    </tr>\n",
       "    <tr>\n",
       "      <th>3</th>\n",
       "      <td>2016-07-18</td>\n",
       "      <td>168.0</td>\n",
       "      <td>170.0</td>\n",
       "      <td>168.0</td>\n",
       "      <td>169.5</td>\n",
       "      <td>24749000</td>\n",
       "      <td>169.5</td>\n",
       "    </tr>\n",
       "    <tr>\n",
       "      <th>4</th>\n",
       "      <td>2016-07-15</td>\n",
       "      <td>169.5</td>\n",
       "      <td>169.5</td>\n",
       "      <td>169.5</td>\n",
       "      <td>169.5</td>\n",
       "      <td>41000</td>\n",
       "      <td>169.5</td>\n",
       "    </tr>\n",
       "  </tbody>\n",
       "</table>\n",
       "</div>"
      ],
      "text/plain": [
       "         Date   Open   High    Low  Close    Volume  Adj Close\n",
       "0  2016-07-21  171.0  172.0  170.0  172.0  33130000      172.0\n",
       "1  2016-07-20  170.0  170.5  169.0  170.0  38053000      170.0\n",
       "2  2016-07-19  170.5  170.5  169.0  170.5  42456000      170.5\n",
       "3  2016-07-18  168.0  170.0  168.0  169.5  24749000      169.5\n",
       "4  2016-07-15  169.5  169.5  169.5  169.5     41000      169.5"
      ]
     },
     "execution_count": 17,
     "metadata": {},
     "output_type": "execute_result"
    }
   ],
   "source": [
    "import pandas\n",
    "df = pandas.read_csv('tw2330.csv')\n",
    "df.head()"
   ]
  },
  {
   "cell_type": "code",
   "execution_count": 20,
   "metadata": {
    "collapsed": false
   },
   "outputs": [
    {
     "data": {
      "text/html": [
       "<div>\n",
       "<table border=\"1\" class=\"dataframe\">\n",
       "  <thead>\n",
       "    <tr style=\"text-align: right;\">\n",
       "      <th></th>\n",
       "      <th>年(n)</th>\n",
       "      <th>名目利率 (Rn)</th>\n",
       "      <th>Unnamed: 2</th>\n",
       "      <th>Unnamed: 3</th>\n",
       "      <th>Unnamed: 4</th>\n",
       "      <th>Unnamed: 5</th>\n",
       "      <th>Unnamed: 6</th>\n",
       "      <th>Unnamed: 7</th>\n",
       "      <th>Unnamed: 8</th>\n",
       "      <th>Unnamed: 9</th>\n",
       "    </tr>\n",
       "  </thead>\n",
       "  <tbody>\n",
       "    <tr>\n",
       "      <th>0</th>\n",
       "      <td>NaN</td>\n",
       "      <td>2%</td>\n",
       "      <td>4%</td>\n",
       "      <td>6%</td>\n",
       "      <td>8%</td>\n",
       "      <td>10%</td>\n",
       "      <td>12%</td>\n",
       "      <td>14%</td>\n",
       "      <td>16%</td>\n",
       "      <td>18%</td>\n",
       "    </tr>\n",
       "    <tr>\n",
       "      <th>1</th>\n",
       "      <td>1.0</td>\n",
       "      <td>102</td>\n",
       "      <td>104</td>\n",
       "      <td>106</td>\n",
       "      <td>108</td>\n",
       "      <td>110</td>\n",
       "      <td>112</td>\n",
       "      <td>114</td>\n",
       "      <td>116</td>\n",
       "      <td>118</td>\n",
       "    </tr>\n",
       "    <tr>\n",
       "      <th>2</th>\n",
       "      <td>2.0</td>\n",
       "      <td>104</td>\n",
       "      <td>108</td>\n",
       "      <td>112</td>\n",
       "      <td>116</td>\n",
       "      <td>120</td>\n",
       "      <td>124</td>\n",
       "      <td>128</td>\n",
       "      <td>132</td>\n",
       "      <td>136</td>\n",
       "    </tr>\n",
       "    <tr>\n",
       "      <th>3</th>\n",
       "      <td>3.0</td>\n",
       "      <td>106</td>\n",
       "      <td>112</td>\n",
       "      <td>118</td>\n",
       "      <td>124</td>\n",
       "      <td>130</td>\n",
       "      <td>136</td>\n",
       "      <td>142</td>\n",
       "      <td>148</td>\n",
       "      <td>154</td>\n",
       "    </tr>\n",
       "    <tr>\n",
       "      <th>4</th>\n",
       "      <td>4.0</td>\n",
       "      <td>108</td>\n",
       "      <td>116</td>\n",
       "      <td>124</td>\n",
       "      <td>132</td>\n",
       "      <td>140</td>\n",
       "      <td>148</td>\n",
       "      <td>156</td>\n",
       "      <td>164</td>\n",
       "      <td>172</td>\n",
       "    </tr>\n",
       "  </tbody>\n",
       "</table>\n",
       "</div>"
      ],
      "text/plain": [
       "   年(n) 名目利率 (Rn) Unnamed: 2 Unnamed: 3 Unnamed: 4 Unnamed: 5 Unnamed: 6  \\\n",
       "0   NaN        2%         4%         6%         8%        10%        12%   \n",
       "1   1.0       102        104        106        108        110        112   \n",
       "2   2.0       104        108        112        116        120        124   \n",
       "3   3.0       106        112        118        124        130        136   \n",
       "4   4.0       108        116        124        132        140        148   \n",
       "\n",
       "  Unnamed: 7 Unnamed: 8 Unnamed: 9  \n",
       "0        14%        16%        18%  \n",
       "1        114        116        118  \n",
       "2        128        132        136  \n",
       "3        142        148        154  \n",
       "4        156        164        172  "
      ]
     },
     "execution_count": 20,
     "metadata": {},
     "output_type": "execute_result"
    }
   ],
   "source": [
    "import pandas\n",
    "df = pandas.read_excel('new.xlsx')\n",
    "df"
   ]
  },
  {
   "cell_type": "code",
   "execution_count": 22,
   "metadata": {
    "collapsed": false
   },
   "outputs": [
    {
     "data": {
      "text/html": [
       "<div>\n",
       "<table border=\"1\" class=\"dataframe\">\n",
       "  <thead>\n",
       "    <tr style=\"text-align: right;\">\n",
       "      <th></th>\n",
       "      <th>年(n)</th>\n",
       "      <th>名目利率</th>\n",
       "      <th>(Rn)</th>\n",
       "      <th>Unnamed:</th>\n",
       "      <th>2</th>\n",
       "      <th>Unnamed:.1</th>\n",
       "      <th>3</th>\n",
       "    </tr>\n",
       "  </thead>\n",
       "  <tbody>\n",
       "    <tr>\n",
       "      <th>0</th>\n",
       "      <td>0</td>\n",
       "      <td>2%</td>\n",
       "      <td>4%</td>\n",
       "      <td>6%</td>\n",
       "      <td>NaN</td>\n",
       "      <td>NaN</td>\n",
       "      <td>NaN</td>\n",
       "    </tr>\n",
       "    <tr>\n",
       "      <th>1</th>\n",
       "      <td>1</td>\n",
       "      <td>1</td>\n",
       "      <td>102</td>\n",
       "      <td>104</td>\n",
       "      <td>106.0</td>\n",
       "      <td>NaN</td>\n",
       "      <td>NaN</td>\n",
       "    </tr>\n",
       "    <tr>\n",
       "      <th>2</th>\n",
       "      <td>2</td>\n",
       "      <td>2</td>\n",
       "      <td>104</td>\n",
       "      <td>108</td>\n",
       "      <td>112.0</td>\n",
       "      <td>NaN</td>\n",
       "      <td>NaN</td>\n",
       "    </tr>\n",
       "    <tr>\n",
       "      <th>3</th>\n",
       "      <td>3</td>\n",
       "      <td>3</td>\n",
       "      <td>106</td>\n",
       "      <td>112</td>\n",
       "      <td>118.0</td>\n",
       "      <td>NaN</td>\n",
       "      <td>NaN</td>\n",
       "    </tr>\n",
       "    <tr>\n",
       "      <th>4</th>\n",
       "      <td>4</td>\n",
       "      <td>4</td>\n",
       "      <td>108</td>\n",
       "      <td>116</td>\n",
       "      <td>124.0</td>\n",
       "      <td>NaN</td>\n",
       "      <td>NaN</td>\n",
       "    </tr>\n",
       "  </tbody>\n",
       "</table>\n",
       "</div>"
      ],
      "text/plain": [
       "   年(n) 名目利率 (Rn) Unnamed:      2  Unnamed:.1   3\n",
       "0     0   2%   4%       6%    NaN         NaN NaN\n",
       "1     1    1  102      104  106.0         NaN NaN\n",
       "2     2    2  104      108  112.0         NaN NaN\n",
       "3     3    3  106      112  118.0         NaN NaN\n",
       "4     4    4  108      116  124.0         NaN NaN"
      ]
     },
     "execution_count": 22,
     "metadata": {},
     "output_type": "execute_result"
    }
   ],
   "source": [
    "import pandas\n",
    "df = pandas.read_clipboard()\n",
    "df"
   ]
  },
  {
   "cell_type": "markdown",
   "metadata": {},
   "source": [
    "## (範例) 使用Pandas 分析 2330"
   ]
  },
  {
   "cell_type": "code",
   "execution_count": 28,
   "metadata": {
    "collapsed": false
   },
   "outputs": [],
   "source": [
    "import pandas.io.data as webdata\n",
    "?webdata.DataReader"
   ]
  },
  {
   "cell_type": "code",
   "execution_count": 31,
   "metadata": {
    "collapsed": false
   },
   "outputs": [
    {
     "data": {
      "text/html": [
       "<div>\n",
       "<table border=\"1\" class=\"dataframe\">\n",
       "  <thead>\n",
       "    <tr style=\"text-align: right;\">\n",
       "      <th></th>\n",
       "      <th>Open</th>\n",
       "      <th>High</th>\n",
       "      <th>Low</th>\n",
       "      <th>Close</th>\n",
       "      <th>Volume</th>\n",
       "      <th>Adj Close</th>\n",
       "    </tr>\n",
       "    <tr>\n",
       "      <th>Date</th>\n",
       "      <th></th>\n",
       "      <th></th>\n",
       "      <th></th>\n",
       "      <th></th>\n",
       "      <th></th>\n",
       "      <th></th>\n",
       "    </tr>\n",
       "  </thead>\n",
       "  <tbody>\n",
       "    <tr>\n",
       "      <th>2000-01-04</th>\n",
       "      <td>83.0813</td>\n",
       "      <td>83.0813</td>\n",
       "      <td>81.6811</td>\n",
       "      <td>83.0813</td>\n",
       "      <td>149083800</td>\n",
       "      <td>29.6180</td>\n",
       "    </tr>\n",
       "    <tr>\n",
       "      <th>2000-01-05</th>\n",
       "      <td>83.0813</td>\n",
       "      <td>84.9482</td>\n",
       "      <td>82.1478</td>\n",
       "      <td>84.9482</td>\n",
       "      <td>299016300</td>\n",
       "      <td>30.2836</td>\n",
       "    </tr>\n",
       "    <tr>\n",
       "      <th>2000-01-06</th>\n",
       "      <td>84.4815</td>\n",
       "      <td>84.9482</td>\n",
       "      <td>83.0813</td>\n",
       "      <td>83.0813</td>\n",
       "      <td>146768300</td>\n",
       "      <td>29.6180</td>\n",
       "    </tr>\n",
       "    <tr>\n",
       "      <th>2000-01-07</th>\n",
       "      <td>80.2809</td>\n",
       "      <td>81.6811</td>\n",
       "      <td>79.3474</td>\n",
       "      <td>80.7476</td>\n",
       "      <td>174796200</td>\n",
       "      <td>28.7861</td>\n",
       "    </tr>\n",
       "    <tr>\n",
       "      <th>2000-01-10</th>\n",
       "      <td>83.0813</td>\n",
       "      <td>84.0148</td>\n",
       "      <td>81.6811</td>\n",
       "      <td>83.5480</td>\n",
       "      <td>205184200</td>\n",
       "      <td>29.7844</td>\n",
       "    </tr>\n",
       "  </tbody>\n",
       "</table>\n",
       "</div>"
      ],
      "text/plain": [
       "               Open     High      Low    Close     Volume  Adj Close\n",
       "Date                                                                \n",
       "2000-01-04  83.0813  83.0813  81.6811  83.0813  149083800    29.6180\n",
       "2000-01-05  83.0813  84.9482  82.1478  84.9482  299016300    30.2836\n",
       "2000-01-06  84.4815  84.9482  83.0813  83.0813  146768300    29.6180\n",
       "2000-01-07  80.2809  81.6811  79.3474  80.7476  174796200    28.7861\n",
       "2000-01-10  83.0813  84.0148  81.6811  83.5480  205184200    29.7844"
      ]
     },
     "execution_count": 31,
     "metadata": {},
     "output_type": "execute_result"
    }
   ],
   "source": [
    "tw2330 = webdata.DataReader('2330.TW', data_source = 'yahoo', start = '1/1/2000')\n",
    "tw2330.head()"
   ]
  },
  {
   "cell_type": "code",
   "execution_count": 33,
   "metadata": {
    "collapsed": false
   },
   "outputs": [
    {
     "data": {
      "text/html": [
       "<div>\n",
       "<table border=\"1\" class=\"dataframe\">\n",
       "  <thead>\n",
       "    <tr style=\"text-align: right;\">\n",
       "      <th></th>\n",
       "      <th>Open</th>\n",
       "      <th>High</th>\n",
       "      <th>Low</th>\n",
       "      <th>Close</th>\n",
       "      <th>Volume</th>\n",
       "      <th>Adj Close</th>\n",
       "    </tr>\n",
       "  </thead>\n",
       "  <tbody>\n",
       "    <tr>\n",
       "      <th>count</th>\n",
       "      <td>4207.000000</td>\n",
       "      <td>4207.000000</td>\n",
       "      <td>4207.000000</td>\n",
       "      <td>4207.000000</td>\n",
       "      <td>4.207000e+03</td>\n",
       "      <td>4207.000000</td>\n",
       "    </tr>\n",
       "    <tr>\n",
       "      <th>mean</th>\n",
       "      <td>77.198842</td>\n",
       "      <td>77.902306</td>\n",
       "      <td>76.451739</td>\n",
       "      <td>77.215610</td>\n",
       "      <td>5.501556e+07</td>\n",
       "      <td>61.359877</td>\n",
       "    </tr>\n",
       "    <tr>\n",
       "      <th>std</th>\n",
       "      <td>32.435548</td>\n",
       "      <td>32.575109</td>\n",
       "      <td>32.262340</td>\n",
       "      <td>32.447681</td>\n",
       "      <td>3.153607e+08</td>\n",
       "      <td>36.408613</td>\n",
       "    </tr>\n",
       "    <tr>\n",
       "      <th>min</th>\n",
       "      <td>32.201900</td>\n",
       "      <td>32.938000</td>\n",
       "      <td>32.109900</td>\n",
       "      <td>32.754000</td>\n",
       "      <td>0.000000e+00</td>\n",
       "      <td>20.446400</td>\n",
       "    </tr>\n",
       "    <tr>\n",
       "      <th>25%</th>\n",
       "      <td>55.263000</td>\n",
       "      <td>56.123300</td>\n",
       "      <td>54.700000</td>\n",
       "      <td>55.263000</td>\n",
       "      <td>3.140150e+07</td>\n",
       "      <td>36.794600</td>\n",
       "    </tr>\n",
       "    <tr>\n",
       "      <th>50%</th>\n",
       "      <td>64.000000</td>\n",
       "      <td>64.863800</td>\n",
       "      <td>63.300000</td>\n",
       "      <td>64.000000</td>\n",
       "      <td>4.312000e+07</td>\n",
       "      <td>45.817400</td>\n",
       "    </tr>\n",
       "    <tr>\n",
       "      <th>75%</th>\n",
       "      <td>92.416200</td>\n",
       "      <td>93.349700</td>\n",
       "      <td>91.249400</td>\n",
       "      <td>92.210750</td>\n",
       "      <td>6.118150e+07</td>\n",
       "      <td>74.705450</td>\n",
       "    </tr>\n",
       "    <tr>\n",
       "      <th>max</th>\n",
       "      <td>185.000000</td>\n",
       "      <td>185.500000</td>\n",
       "      <td>183.500000</td>\n",
       "      <td>185.000000</td>\n",
       "      <td>2.040451e+10</td>\n",
       "      <td>185.000000</td>\n",
       "    </tr>\n",
       "  </tbody>\n",
       "</table>\n",
       "</div>"
      ],
      "text/plain": [
       "              Open         High          Low        Close        Volume  \\\n",
       "count  4207.000000  4207.000000  4207.000000  4207.000000  4.207000e+03   \n",
       "mean     77.198842    77.902306    76.451739    77.215610  5.501556e+07   \n",
       "std      32.435548    32.575109    32.262340    32.447681  3.153607e+08   \n",
       "min      32.201900    32.938000    32.109900    32.754000  0.000000e+00   \n",
       "25%      55.263000    56.123300    54.700000    55.263000  3.140150e+07   \n",
       "50%      64.000000    64.863800    63.300000    64.000000  4.312000e+07   \n",
       "75%      92.416200    93.349700    91.249400    92.210750  6.118150e+07   \n",
       "max     185.000000   185.500000   183.500000   185.000000  2.040451e+10   \n",
       "\n",
       "         Adj Close  \n",
       "count  4207.000000  \n",
       "mean     61.359877  \n",
       "std      36.408613  \n",
       "min      20.446400  \n",
       "25%      36.794600  \n",
       "50%      45.817400  \n",
       "75%      74.705450  \n",
       "max     185.000000  "
      ]
     },
     "execution_count": 33,
     "metadata": {},
     "output_type": "execute_result"
    }
   ],
   "source": [
    "tw2330.describe()"
   ]
  },
  {
   "cell_type": "code",
   "execution_count": 36,
   "metadata": {
    "collapsed": false
   },
   "outputs": [
    {
     "data": {
      "text/html": [
       "<div>\n",
       "<table border=\"1\" class=\"dataframe\">\n",
       "  <thead>\n",
       "    <tr style=\"text-align: right;\">\n",
       "      <th></th>\n",
       "      <th>Open</th>\n",
       "      <th>High</th>\n",
       "      <th>Low</th>\n",
       "      <th>Close</th>\n",
       "      <th>Volume</th>\n",
       "      <th>Adj Close</th>\n",
       "    </tr>\n",
       "    <tr>\n",
       "      <th>Date</th>\n",
       "      <th></th>\n",
       "      <th></th>\n",
       "      <th></th>\n",
       "      <th></th>\n",
       "      <th></th>\n",
       "      <th></th>\n",
       "    </tr>\n",
       "  </thead>\n",
       "  <tbody>\n",
       "    <tr>\n",
       "      <th>2002-10-03</th>\n",
       "      <td>36.1581</td>\n",
       "      <td>36.1581</td>\n",
       "      <td>34.6861</td>\n",
       "      <td>34.6861</td>\n",
       "      <td>73547100</td>\n",
       "      <td>24.3747</td>\n",
       "    </tr>\n",
       "    <tr>\n",
       "      <th>2002-10-07</th>\n",
       "      <td>34.5020</td>\n",
       "      <td>34.5020</td>\n",
       "      <td>33.1219</td>\n",
       "      <td>33.1219</td>\n",
       "      <td>58350300</td>\n",
       "      <td>23.2755</td>\n",
       "    </tr>\n",
       "    <tr>\n",
       "      <th>2002-10-09</th>\n",
       "      <td>32.7540</td>\n",
       "      <td>34.5940</td>\n",
       "      <td>32.4779</td>\n",
       "      <td>33.1219</td>\n",
       "      <td>131366300</td>\n",
       "      <td>23.2755</td>\n",
       "    </tr>\n",
       "    <tr>\n",
       "      <th>2002-10-11</th>\n",
       "      <td>34.0420</td>\n",
       "      <td>34.2260</td>\n",
       "      <td>32.6619</td>\n",
       "      <td>32.8459</td>\n",
       "      <td>105725900</td>\n",
       "      <td>23.0815</td>\n",
       "    </tr>\n",
       "    <tr>\n",
       "      <th>2002-10-08</th>\n",
       "      <td>32.2019</td>\n",
       "      <td>32.9380</td>\n",
       "      <td>32.1099</td>\n",
       "      <td>32.7540</td>\n",
       "      <td>106257100</td>\n",
       "      <td>23.0169</td>\n",
       "    </tr>\n",
       "  </tbody>\n",
       "</table>\n",
       "</div>"
      ],
      "text/plain": [
       "               Open     High      Low    Close     Volume  Adj Close\n",
       "Date                                                                \n",
       "2002-10-03  36.1581  36.1581  34.6861  34.6861   73547100    24.3747\n",
       "2002-10-07  34.5020  34.5020  33.1219  33.1219   58350300    23.2755\n",
       "2002-10-09  32.7540  34.5940  32.4779  33.1219  131366300    23.2755\n",
       "2002-10-11  34.0420  34.2260  32.6619  32.8459  105725900    23.0815\n",
       "2002-10-08  32.2019  32.9380  32.1099  32.7540  106257100    23.0169"
      ]
     },
     "execution_count": 36,
     "metadata": {},
     "output_type": "execute_result"
    }
   ],
   "source": [
    "tw2330.sort_values('Close', ascending=False).tail()"
   ]
  },
  {
   "cell_type": "code",
   "execution_count": 38,
   "metadata": {
    "collapsed": false
   },
   "outputs": [
    {
     "name": "stdout",
     "output_type": "stream",
     "text": [
      "Populating the interactive namespace from numpy and matplotlib\n"
     ]
    },
    {
     "name": "stderr",
     "output_type": "stream",
     "text": [
      "WARNING: pylab import has clobbered these variables: ['f']\n",
      "`%matplotlib` prevents importing * from pylab and numpy\n"
     ]
    },
    {
     "data": {
      "text/plain": [
       "<matplotlib.axes._subplots.AxesSubplot at 0x9e7f860>"
      ]
     },
     "execution_count": 38,
     "metadata": {},
     "output_type": "execute_result"
    },
    {
     "data": {
      "image/png": "[encoded data removed]",
      "text/plain": [
       "<matplotlib.figure.Figure at 0x9e5a6d8>"
      ]
     },
     "metadata": {},
     "output_type": "display_data"
    }
   ],
   "source": [
    "%pylab inline\n",
    "tw2330['Close'].plot(kind='line')"
   ]
  }
 ],
 "metadata": {
  "kernelspec": {
   "display_name": "Python [Root]",
   "language": "python",
   "name": "Python [Root]"
  },
  "language_info": {
   "codemirror_mode": {
    "name": "ipython",
    "version": 2
   },
   "file_extension": ".py",
   "mimetype": "text/x-python",
   "name": "python",
   "nbconvert_exporter": "python",
   "pygments_lexer": "ipython2",
   "version": "2.7.12"
  }
 },
 "nbformat": 4,
 "nbformat_minor": 0
}
