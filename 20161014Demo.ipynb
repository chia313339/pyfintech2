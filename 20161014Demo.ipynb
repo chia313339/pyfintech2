{
 "cells": [
  {
   "cell_type": "markdown",
   "metadata": {},
   "source": [
    "## 使用Pandas 讀取 csv 資料"
   ]
  },
  {
   "cell_type": "code",
   "execution_count": 21,
   "metadata": {
    "collapsed": false
   },
   "outputs": [
    {
     "data": {
      "text/html": [
       "<div>\n",
       "<table border=\"1\" class=\"dataframe\">\n",
       "  <thead>\n",
       "    <tr style=\"text-align: right;\">\n",
       "      <th></th>\n",
       "      <th>Unnamed: 0</th>\n",
       "      <th>Unnamed: 0.1</th>\n",
       "      <th>area</th>\n",
       "      <th>trading_target</th>\n",
       "      <th>address</th>\n",
       "      <th>land_sqmeter</th>\n",
       "      <th>city_land_type</th>\n",
       "      <th>trading_ymd</th>\n",
       "      <th>trading_num</th>\n",
       "      <th>floor</th>\n",
       "      <th>...</th>\n",
       "      <th>living_room</th>\n",
       "      <th>bath</th>\n",
       "      <th>compartment</th>\n",
       "      <th>management</th>\n",
       "      <th>total_price</th>\n",
       "      <th>price_per_sqmeter</th>\n",
       "      <th>parking_type</th>\n",
       "      <th>parking_sqmeter</th>\n",
       "      <th>parking_price</th>\n",
       "      <th>trading_ym</th>\n",
       "    </tr>\n",
       "  </thead>\n",
       "  <tbody>\n",
       "    <tr>\n",
       "      <th>0</th>\n",
       "      <td>0</td>\n",
       "      <td>0</td>\n",
       "      <td>大安區</td>\n",
       "      <td>房地(土地+建物)</td>\n",
       "      <td>臺北市大安區和平東路三段1巷72弄1~30號</td>\n",
       "      <td>19.39</td>\n",
       "      <td>住</td>\n",
       "      <td>2012-06-29</td>\n",
       "      <td>土地1建物2車位0</td>\n",
       "      <td>五層</td>\n",
       "      <td>...</td>\n",
       "      <td>2</td>\n",
       "      <td>1</td>\n",
       "      <td>有</td>\n",
       "      <td>有</td>\n",
       "      <td>18680000</td>\n",
       "      <td>184999.0</td>\n",
       "      <td>NaN</td>\n",
       "      <td>0.0</td>\n",
       "      <td>0</td>\n",
       "      <td>2012-06-01</td>\n",
       "    </tr>\n",
       "    <tr>\n",
       "      <th>1</th>\n",
       "      <td>1</td>\n",
       "      <td>1</td>\n",
       "      <td>中正區</td>\n",
       "      <td>房地(土地+建物)</td>\n",
       "      <td>臺北市中正區忠孝東路二段121~150號</td>\n",
       "      <td>8.46</td>\n",
       "      <td>商</td>\n",
       "      <td>2012-07-18</td>\n",
       "      <td>土地3建物1車位0</td>\n",
       "      <td>九層</td>\n",
       "      <td>...</td>\n",
       "      <td>0</td>\n",
       "      <td>0</td>\n",
       "      <td>有</td>\n",
       "      <td>有</td>\n",
       "      <td>20300000</td>\n",
       "      <td>217307.0</td>\n",
       "      <td>NaN</td>\n",
       "      <td>0.0</td>\n",
       "      <td>0</td>\n",
       "      <td>2012-07-01</td>\n",
       "    </tr>\n",
       "    <tr>\n",
       "      <th>2</th>\n",
       "      <td>2</td>\n",
       "      <td>2</td>\n",
       "      <td>大同區</td>\n",
       "      <td>土地</td>\n",
       "      <td>橋北段二小段601~630地號</td>\n",
       "      <td>5.50</td>\n",
       "      <td>其他</td>\n",
       "      <td>2012-07-27</td>\n",
       "      <td>土地1建物0車位0</td>\n",
       "      <td>NaN</td>\n",
       "      <td>...</td>\n",
       "      <td>0</td>\n",
       "      <td>0</td>\n",
       "      <td>有</td>\n",
       "      <td>無</td>\n",
       "      <td>132096</td>\n",
       "      <td>24017.0</td>\n",
       "      <td>NaN</td>\n",
       "      <td>0.0</td>\n",
       "      <td>0</td>\n",
       "      <td>2012-07-01</td>\n",
       "    </tr>\n",
       "    <tr>\n",
       "      <th>3</th>\n",
       "      <td>3</td>\n",
       "      <td>3</td>\n",
       "      <td>大同區</td>\n",
       "      <td>房地(土地+建物)</td>\n",
       "      <td>臺北市大同區重慶北路一段61~90號</td>\n",
       "      <td>3.88</td>\n",
       "      <td>商</td>\n",
       "      <td>2012-07-10</td>\n",
       "      <td>土地4建物1車位0</td>\n",
       "      <td>六層</td>\n",
       "      <td>...</td>\n",
       "      <td>1</td>\n",
       "      <td>1</td>\n",
       "      <td>有</td>\n",
       "      <td>有</td>\n",
       "      <td>4200000</td>\n",
       "      <td>114317.0</td>\n",
       "      <td>NaN</td>\n",
       "      <td>0.0</td>\n",
       "      <td>0</td>\n",
       "      <td>2012-07-01</td>\n",
       "    </tr>\n",
       "    <tr>\n",
       "      <th>4</th>\n",
       "      <td>4</td>\n",
       "      <td>4</td>\n",
       "      <td>內湖區</td>\n",
       "      <td>房地(土地+建物)</td>\n",
       "      <td>臺北市內湖區民權東路六段90巷6弄1~30號</td>\n",
       "      <td>32.41</td>\n",
       "      <td>住</td>\n",
       "      <td>2012-07-10</td>\n",
       "      <td>土地1建物1車位0</td>\n",
       "      <td>三層</td>\n",
       "      <td>...</td>\n",
       "      <td>1</td>\n",
       "      <td>1</td>\n",
       "      <td>有</td>\n",
       "      <td>無</td>\n",
       "      <td>14000000</td>\n",
       "      <td>134473.0</td>\n",
       "      <td>NaN</td>\n",
       "      <td>0.0</td>\n",
       "      <td>0</td>\n",
       "      <td>2012-07-01</td>\n",
       "    </tr>\n",
       "  </tbody>\n",
       "</table>\n",
       "<p>5 rows × 27 columns</p>\n",
       "</div>"
      ],
      "text/plain": [
       "   Unnamed: 0  Unnamed: 0.1 area trading_target                 address  \\\n",
       "0           0             0  大安區      房地(土地+建物)  臺北市大安區和平東路三段1巷72弄1~30號   \n",
       "1           1             1  中正區      房地(土地+建物)    臺北市中正區忠孝東路二段121~150號   \n",
       "2           2             2  大同區             土地         橋北段二小段601~630地號   \n",
       "3           3             3  大同區      房地(土地+建物)      臺北市大同區重慶北路一段61~90號   \n",
       "4           4             4  內湖區      房地(土地+建物)  臺北市內湖區民權東路六段90巷6弄1~30號   \n",
       "\n",
       "   land_sqmeter city_land_type trading_ymd trading_num floor     ...      \\\n",
       "0         19.39              住  2012-06-29   土地1建物2車位0    五層     ...       \n",
       "1          8.46              商  2012-07-18   土地3建物1車位0    九層     ...       \n",
       "2          5.50             其他  2012-07-27   土地1建物0車位0   NaN     ...       \n",
       "3          3.88              商  2012-07-10   土地4建物1車位0    六層     ...       \n",
       "4         32.41              住  2012-07-10   土地1建物1車位0    三層     ...       \n",
       "\n",
       "  living_room bath compartment management total_price  price_per_sqmeter  \\\n",
       "0           2    1           有          有    18680000           184999.0   \n",
       "1           0    0           有          有    20300000           217307.0   \n",
       "2           0    0           有          無      132096            24017.0   \n",
       "3           1    1           有          有     4200000           114317.0   \n",
       "4           1    1           有          無    14000000           134473.0   \n",
       "\n",
       "   parking_type  parking_sqmeter  parking_price  trading_ym  \n",
       "0           NaN              0.0              0  2012-06-01  \n",
       "1           NaN              0.0              0  2012-07-01  \n",
       "2           NaN              0.0              0  2012-07-01  \n",
       "3           NaN              0.0              0  2012-07-01  \n",
       "4           NaN              0.0              0  2012-07-01  \n",
       "\n",
       "[5 rows x 27 columns]"
      ]
     },
     "execution_count": 21,
     "metadata": {},
     "output_type": "execute_result"
    }
   ],
   "source": [
    "import pandas\n",
    "df = pandas.read_csv('lvr_data.csv')\n",
    "df.head()"
   ]
  },
  {
   "cell_type": "markdown",
   "metadata": {},
   "source": [
    "## 刪除包含. 的欄位"
   ]
  },
  {
   "cell_type": "code",
   "execution_count": 22,
   "metadata": {
    "collapsed": true
   },
   "outputs": [],
   "source": [
    "del df['Unnamed: 0']"
   ]
  },
  {
   "cell_type": "code",
   "execution_count": 23,
   "metadata": {
    "collapsed": true
   },
   "outputs": [],
   "source": [
    "del df['Unnamed: 0.1']"
   ]
  },
  {
   "cell_type": "code",
   "execution_count": 25,
   "metadata": {
    "collapsed": false
   },
   "outputs": [
    {
     "data": {
      "text/html": [
       "<div>\n",
       "<table border=\"1\" class=\"dataframe\">\n",
       "  <thead>\n",
       "    <tr style=\"text-align: right;\">\n",
       "      <th></th>\n",
       "      <th>area</th>\n",
       "      <th>trading_target</th>\n",
       "      <th>address</th>\n",
       "      <th>land_sqmeter</th>\n",
       "      <th>city_land_type</th>\n",
       "      <th>trading_ymd</th>\n",
       "      <th>trading_num</th>\n",
       "      <th>floor</th>\n",
       "      <th>total_floor</th>\n",
       "      <th>building_type</th>\n",
       "      <th>...</th>\n",
       "      <th>living_room</th>\n",
       "      <th>bath</th>\n",
       "      <th>compartment</th>\n",
       "      <th>management</th>\n",
       "      <th>total_price</th>\n",
       "      <th>price_per_sqmeter</th>\n",
       "      <th>parking_type</th>\n",
       "      <th>parking_sqmeter</th>\n",
       "      <th>parking_price</th>\n",
       "      <th>trading_ym</th>\n",
       "    </tr>\n",
       "  </thead>\n",
       "  <tbody>\n",
       "    <tr>\n",
       "      <th>0</th>\n",
       "      <td>大安區</td>\n",
       "      <td>房地(土地+建物)</td>\n",
       "      <td>臺北市大安區和平東路三段1巷72弄1~30號</td>\n",
       "      <td>19.39</td>\n",
       "      <td>住</td>\n",
       "      <td>2012-06-29</td>\n",
       "      <td>土地1建物2車位0</td>\n",
       "      <td>五層</td>\n",
       "      <td>十七層</td>\n",
       "      <td>住宅大樓(11層含以上有電梯)</td>\n",
       "      <td>...</td>\n",
       "      <td>2</td>\n",
       "      <td>1</td>\n",
       "      <td>有</td>\n",
       "      <td>有</td>\n",
       "      <td>18680000</td>\n",
       "      <td>184999.0</td>\n",
       "      <td>NaN</td>\n",
       "      <td>0.0</td>\n",
       "      <td>0</td>\n",
       "      <td>2012-06-01</td>\n",
       "    </tr>\n",
       "    <tr>\n",
       "      <th>1</th>\n",
       "      <td>中正區</td>\n",
       "      <td>房地(土地+建物)</td>\n",
       "      <td>臺北市中正區忠孝東路二段121~150號</td>\n",
       "      <td>8.46</td>\n",
       "      <td>商</td>\n",
       "      <td>2012-07-18</td>\n",
       "      <td>土地3建物1車位0</td>\n",
       "      <td>九層</td>\n",
       "      <td>十二層</td>\n",
       "      <td>辦公商業大樓</td>\n",
       "      <td>...</td>\n",
       "      <td>0</td>\n",
       "      <td>0</td>\n",
       "      <td>有</td>\n",
       "      <td>有</td>\n",
       "      <td>20300000</td>\n",
       "      <td>217307.0</td>\n",
       "      <td>NaN</td>\n",
       "      <td>0.0</td>\n",
       "      <td>0</td>\n",
       "      <td>2012-07-01</td>\n",
       "    </tr>\n",
       "    <tr>\n",
       "      <th>2</th>\n",
       "      <td>大同區</td>\n",
       "      <td>土地</td>\n",
       "      <td>橋北段二小段601~630地號</td>\n",
       "      <td>5.50</td>\n",
       "      <td>其他</td>\n",
       "      <td>2012-07-27</td>\n",
       "      <td>土地1建物0車位0</td>\n",
       "      <td>NaN</td>\n",
       "      <td>NaN</td>\n",
       "      <td>其他</td>\n",
       "      <td>...</td>\n",
       "      <td>0</td>\n",
       "      <td>0</td>\n",
       "      <td>有</td>\n",
       "      <td>無</td>\n",
       "      <td>132096</td>\n",
       "      <td>24017.0</td>\n",
       "      <td>NaN</td>\n",
       "      <td>0.0</td>\n",
       "      <td>0</td>\n",
       "      <td>2012-07-01</td>\n",
       "    </tr>\n",
       "    <tr>\n",
       "      <th>3</th>\n",
       "      <td>大同區</td>\n",
       "      <td>房地(土地+建物)</td>\n",
       "      <td>臺北市大同區重慶北路一段61~90號</td>\n",
       "      <td>3.88</td>\n",
       "      <td>商</td>\n",
       "      <td>2012-07-10</td>\n",
       "      <td>土地4建物1車位0</td>\n",
       "      <td>六層</td>\n",
       "      <td>十一層</td>\n",
       "      <td>住宅大樓(11層含以上有電梯)</td>\n",
       "      <td>...</td>\n",
       "      <td>1</td>\n",
       "      <td>1</td>\n",
       "      <td>有</td>\n",
       "      <td>有</td>\n",
       "      <td>4200000</td>\n",
       "      <td>114317.0</td>\n",
       "      <td>NaN</td>\n",
       "      <td>0.0</td>\n",
       "      <td>0</td>\n",
       "      <td>2012-07-01</td>\n",
       "    </tr>\n",
       "    <tr>\n",
       "      <th>4</th>\n",
       "      <td>內湖區</td>\n",
       "      <td>房地(土地+建物)</td>\n",
       "      <td>臺北市內湖區民權東路六段90巷6弄1~30號</td>\n",
       "      <td>32.41</td>\n",
       "      <td>住</td>\n",
       "      <td>2012-07-10</td>\n",
       "      <td>土地1建物1車位0</td>\n",
       "      <td>三層</td>\n",
       "      <td>五層</td>\n",
       "      <td>公寓(5樓含以下無電梯)</td>\n",
       "      <td>...</td>\n",
       "      <td>1</td>\n",
       "      <td>1</td>\n",
       "      <td>有</td>\n",
       "      <td>無</td>\n",
       "      <td>14000000</td>\n",
       "      <td>134473.0</td>\n",
       "      <td>NaN</td>\n",
       "      <td>0.0</td>\n",
       "      <td>0</td>\n",
       "      <td>2012-07-01</td>\n",
       "    </tr>\n",
       "  </tbody>\n",
       "</table>\n",
       "<p>5 rows × 25 columns</p>\n",
       "</div>"
      ],
      "text/plain": [
       "  area trading_target                 address  land_sqmeter city_land_type  \\\n",
       "0  大安區      房地(土地+建物)  臺北市大安區和平東路三段1巷72弄1~30號         19.39              住   \n",
       "1  中正區      房地(土地+建物)    臺北市中正區忠孝東路二段121~150號          8.46              商   \n",
       "2  大同區             土地         橋北段二小段601~630地號          5.50             其他   \n",
       "3  大同區      房地(土地+建物)      臺北市大同區重慶北路一段61~90號          3.88              商   \n",
       "4  內湖區      房地(土地+建物)  臺北市內湖區民權東路六段90巷6弄1~30號         32.41              住   \n",
       "\n",
       "  trading_ymd trading_num floor total_floor    building_type     ...      \\\n",
       "0  2012-06-29   土地1建物2車位0    五層         十七層  住宅大樓(11層含以上有電梯)     ...       \n",
       "1  2012-07-18   土地3建物1車位0    九層         十二層           辦公商業大樓     ...       \n",
       "2  2012-07-27   土地1建物0車位0   NaN         NaN               其他     ...       \n",
       "3  2012-07-10   土地4建物1車位0    六層         十一層  住宅大樓(11層含以上有電梯)     ...       \n",
       "4  2012-07-10   土地1建物1車位0    三層          五層     公寓(5樓含以下無電梯)     ...       \n",
       "\n",
       "  living_room bath compartment  management  total_price  price_per_sqmeter  \\\n",
       "0           2    1           有           有     18680000           184999.0   \n",
       "1           0    0           有           有     20300000           217307.0   \n",
       "2           0    0           有           無       132096            24017.0   \n",
       "3           1    1           有           有      4200000           114317.0   \n",
       "4           1    1           有           無     14000000           134473.0   \n",
       "\n",
       "   parking_type parking_sqmeter parking_price  trading_ym  \n",
       "0           NaN             0.0             0  2012-06-01  \n",
       "1           NaN             0.0             0  2012-07-01  \n",
       "2           NaN             0.0             0  2012-07-01  \n",
       "3           NaN             0.0             0  2012-07-01  \n",
       "4           NaN             0.0             0  2012-07-01  \n",
       "\n",
       "[5 rows x 25 columns]"
      ]
     },
     "execution_count": 25,
     "metadata": {},
     "output_type": "execute_result"
    }
   ],
   "source": [
    "df.head()"
   ]
  },
  {
   "cell_type": "markdown",
   "metadata": {},
   "source": [
    "## 連結MongoDB\n",
    "- 在Terminal（命令提示字元） 下 打入 mongod 啟用Mongo"
   ]
  },
  {
   "cell_type": "code",
   "execution_count": 43,
   "metadata": {
    "collapsed": true
   },
   "outputs": [],
   "source": [
    "import pymongo"
   ]
  },
  {
   "cell_type": "code",
   "execution_count": 44,
   "metadata": {
    "collapsed": true
   },
   "outputs": [],
   "source": [
    "from pymongo import MongoClient\n",
    "client=MongoClient()\n",
    "db=client['lvr']\n",
    "coll=db['lvrdata']"
   ]
  },
  {
   "cell_type": "code",
   "execution_count": 28,
   "metadata": {
    "collapsed": false
   },
   "outputs": [],
   "source": [
    "import json\n",
    "records = json.loads(df.T.to_json()).values()"
   ]
  },
  {
   "cell_type": "code",
   "execution_count": 29,
   "metadata": {
    "collapsed": false
   },
   "outputs": [
    {
     "data": {
      "text/plain": [
       "102054"
      ]
     },
     "execution_count": 29,
     "metadata": {},
     "output_type": "execute_result"
    }
   ],
   "source": [
    "len(records)"
   ]
  },
  {
   "cell_type": "markdown",
   "metadata": {},
   "source": [
    "## 將資料塞入mongodb"
   ]
  },
  {
   "cell_type": "code",
   "execution_count": 64,
   "metadata": {
    "collapsed": false
   },
   "outputs": [
    {
     "name": "stderr",
     "output_type": "stream",
     "text": [
      "C:\\Anaconda2\\lib\\site-packages\\ipykernel\\__main__.py:1: DeprecationWarning: insert is deprecated. Use insert_one or insert_many instead.\n",
      "  if __name__ == '__main__':\n"
     ]
    },
    {
     "data": {
      "text/plain": [
       "[ObjectId('58003d37d18b5e1290500792')]"
      ]
     },
     "execution_count": 64,
     "metadata": {},
     "output_type": "execute_result"
    }
   ],
   "source": [
    "coll.insert([{'a':1}])"
   ]
  },
  {
   "cell_type": "code",
   "execution_count": null,
   "metadata": {
    "collapsed": true
   },
   "outputs": [],
   "source": [
    "coll.insert(records)"
   ]
  },
  {
   "cell_type": "markdown",
   "metadata": {},
   "source": [
    "## 將資料從MongoDB 取回"
   ]
  },
  {
   "cell_type": "code",
   "execution_count": 40,
   "metadata": {
    "collapsed": true
   },
   "outputs": [],
   "source": [
    "cur=coll.find()"
   ]
  },
  {
   "cell_type": "code",
   "execution_count": 41,
   "metadata": {
    "collapsed": false
   },
   "outputs": [],
   "source": [
    "df2 = pandas.DataFrame(list(cur))"
   ]
  },
  {
   "cell_type": "code",
   "execution_count": 42,
   "metadata": {
    "collapsed": false
   },
   "outputs": [
    {
     "data": {
      "text/html": [
       "<div>\n",
       "<table border=\"1\" class=\"dataframe\">\n",
       "  <thead>\n",
       "    <tr style=\"text-align: right;\">\n",
       "      <th></th>\n",
       "      <th>_id</th>\n",
       "      <th>address</th>\n",
       "      <th>area</th>\n",
       "      <th>bath</th>\n",
       "      <th>building_sqmeter</th>\n",
       "      <th>building_type</th>\n",
       "      <th>built_with</th>\n",
       "      <th>city_land_type</th>\n",
       "      <th>compartment</th>\n",
       "      <th>finish_ymd</th>\n",
       "      <th>...</th>\n",
       "      <th>parking_sqmeter</th>\n",
       "      <th>parking_type</th>\n",
       "      <th>price_per_sqmeter</th>\n",
       "      <th>room</th>\n",
       "      <th>total_floor</th>\n",
       "      <th>total_price</th>\n",
       "      <th>trading_num</th>\n",
       "      <th>trading_target</th>\n",
       "      <th>trading_ym</th>\n",
       "      <th>trading_ymd</th>\n",
       "    </tr>\n",
       "  </thead>\n",
       "  <tbody>\n",
       "    <tr>\n",
       "      <th>0</th>\n",
       "      <td>58003a6cd18b5e12904e78d9</td>\n",
       "      <td>臺北市士林區葫蘆街54巷1~30號</td>\n",
       "      <td>士林區</td>\n",
       "      <td>1</td>\n",
       "      <td>73.01</td>\n",
       "      <td>公寓(5樓含以下無電梯)</td>\n",
       "      <td>加強磚造</td>\n",
       "      <td>住</td>\n",
       "      <td>有</td>\n",
       "      <td>1969-02-04</td>\n",
       "      <td>...</td>\n",
       "      <td>0.00</td>\n",
       "      <td>None</td>\n",
       "      <td>113683.0</td>\n",
       "      <td>2</td>\n",
       "      <td>三層</td>\n",
       "      <td>8300000</td>\n",
       "      <td>土地1建物1車位0</td>\n",
       "      <td>房地(土地+建物)</td>\n",
       "      <td>2015-09-01</td>\n",
       "      <td>2015-09-16</td>\n",
       "    </tr>\n",
       "    <tr>\n",
       "      <th>1</th>\n",
       "      <td>58003a6cd18b5e12904e78da</td>\n",
       "      <td>德惠段二小段481~510地號</td>\n",
       "      <td>中山區</td>\n",
       "      <td>0</td>\n",
       "      <td>0.00</td>\n",
       "      <td>其他</td>\n",
       "      <td>None</td>\n",
       "      <td>其他</td>\n",
       "      <td>有</td>\n",
       "      <td>None</td>\n",
       "      <td>...</td>\n",
       "      <td>0.00</td>\n",
       "      <td>None</td>\n",
       "      <td>40445.0</td>\n",
       "      <td>0</td>\n",
       "      <td>None</td>\n",
       "      <td>1200000</td>\n",
       "      <td>土地2建物0車位0</td>\n",
       "      <td>土地</td>\n",
       "      <td>2013-11-01</td>\n",
       "      <td>2013-11-20</td>\n",
       "    </tr>\n",
       "    <tr>\n",
       "      <th>2</th>\n",
       "      <td>58003a6cd18b5e12904e78db</td>\n",
       "      <td>臺北市松山區敦化南路一段100巷7弄1~30號</td>\n",
       "      <td>松山區</td>\n",
       "      <td>0</td>\n",
       "      <td>10.11</td>\n",
       "      <td>其他</td>\n",
       "      <td>鋼筋混凝土造</td>\n",
       "      <td>住</td>\n",
       "      <td>有</td>\n",
       "      <td>2014-05-21</td>\n",
       "      <td>...</td>\n",
       "      <td>10.11</td>\n",
       "      <td>升降機械</td>\n",
       "      <td>NaN</td>\n",
       "      <td>0</td>\n",
       "      <td>七層</td>\n",
       "      <td>1900000</td>\n",
       "      <td>土地0建物0車位1</td>\n",
       "      <td>車位</td>\n",
       "      <td>2015-10-01</td>\n",
       "      <td>2015-10-02</td>\n",
       "    </tr>\n",
       "    <tr>\n",
       "      <th>3</th>\n",
       "      <td>58003a6cd18b5e12904e78dc</td>\n",
       "      <td>臺北市信義區光復南路511~540號</td>\n",
       "      <td>信義區</td>\n",
       "      <td>1</td>\n",
       "      <td>27.33</td>\n",
       "      <td>套房(1房1廳1衛)</td>\n",
       "      <td>鋼筋混凝土造</td>\n",
       "      <td>商</td>\n",
       "      <td>有</td>\n",
       "      <td>2000-11-24</td>\n",
       "      <td>...</td>\n",
       "      <td>0.00</td>\n",
       "      <td>None</td>\n",
       "      <td>256129.0</td>\n",
       "      <td>1</td>\n",
       "      <td>十三層</td>\n",
       "      <td>7000000</td>\n",
       "      <td>土地1建物1車位0</td>\n",
       "      <td>房地(土地+建物)</td>\n",
       "      <td>2015-08-01</td>\n",
       "      <td>2015-08-17</td>\n",
       "    </tr>\n",
       "    <tr>\n",
       "      <th>4</th>\n",
       "      <td>58003a6cd18b5e12904e78dd</td>\n",
       "      <td>臺北市信義區莊敬路423巷4弄1~30號</td>\n",
       "      <td>信義區</td>\n",
       "      <td>2</td>\n",
       "      <td>73.75</td>\n",
       "      <td>公寓(5樓含以下無電梯)</td>\n",
       "      <td>鋼筋混凝土造</td>\n",
       "      <td>住</td>\n",
       "      <td>有</td>\n",
       "      <td>1972-11-05</td>\n",
       "      <td>...</td>\n",
       "      <td>0.00</td>\n",
       "      <td>None</td>\n",
       "      <td>216949.0</td>\n",
       "      <td>2</td>\n",
       "      <td>四層</td>\n",
       "      <td>16000000</td>\n",
       "      <td>土地1建物1車位0</td>\n",
       "      <td>房地(土地+建物)</td>\n",
       "      <td>2015-10-01</td>\n",
       "      <td>2015-10-02</td>\n",
       "    </tr>\n",
       "  </tbody>\n",
       "</table>\n",
       "<p>5 rows × 26 columns</p>\n",
       "</div>"
      ],
      "text/plain": [
       "                        _id                  address area  bath  \\\n",
       "0  58003a6cd18b5e12904e78d9        臺北市士林區葫蘆街54巷1~30號  士林區     1   \n",
       "1  58003a6cd18b5e12904e78da          德惠段二小段481~510地號  中山區     0   \n",
       "2  58003a6cd18b5e12904e78db  臺北市松山區敦化南路一段100巷7弄1~30號  松山區     0   \n",
       "3  58003a6cd18b5e12904e78dc       臺北市信義區光復南路511~540號  信義區     1   \n",
       "4  58003a6cd18b5e12904e78dd     臺北市信義區莊敬路423巷4弄1~30號  信義區     2   \n",
       "\n",
       "   building_sqmeter building_type built_with city_land_type compartment  \\\n",
       "0             73.01  公寓(5樓含以下無電梯)       加強磚造              住           有   \n",
       "1              0.00            其他       None             其他           有   \n",
       "2             10.11            其他     鋼筋混凝土造              住           有   \n",
       "3             27.33    套房(1房1廳1衛)     鋼筋混凝土造              商           有   \n",
       "4             73.75  公寓(5樓含以下無電梯)     鋼筋混凝土造              住           有   \n",
       "\n",
       "   finish_ymd     ...      parking_sqmeter  parking_type  price_per_sqmeter  \\\n",
       "0  1969-02-04     ...                 0.00          None           113683.0   \n",
       "1        None     ...                 0.00          None            40445.0   \n",
       "2  2014-05-21     ...                10.11          升降機械                NaN   \n",
       "3  2000-11-24     ...                 0.00          None           256129.0   \n",
       "4  1972-11-05     ...                 0.00          None           216949.0   \n",
       "\n",
       "  room total_floor  total_price  trading_num trading_target  trading_ym  \\\n",
       "0    2          三層      8300000    土地1建物1車位0      房地(土地+建物)  2015-09-01   \n",
       "1    0        None      1200000    土地2建物0車位0             土地  2013-11-01   \n",
       "2    0          七層      1900000    土地0建物0車位1             車位  2015-10-01   \n",
       "3    1         十三層      7000000    土地1建物1車位0      房地(土地+建物)  2015-08-01   \n",
       "4    2          四層     16000000    土地1建物1車位0      房地(土地+建物)  2015-10-01   \n",
       "\n",
       "   trading_ymd  \n",
       "0   2015-09-16  \n",
       "1   2013-11-20  \n",
       "2   2015-10-02  \n",
       "3   2015-08-17  \n",
       "4   2015-10-02  \n",
       "\n",
       "[5 rows x 26 columns]"
      ]
     },
     "execution_count": 42,
     "metadata": {},
     "output_type": "execute_result"
    }
   ],
   "source": [
    "df2.head()"
   ]
  },
  {
   "cell_type": "code",
   "execution_count": 74,
   "metadata": {
    "collapsed": false
   },
   "outputs": [
    {
     "name": "stdout",
     "output_type": "stream",
     "text": [
      "25.0806196\n",
      "121.5090532\n"
     ]
    }
   ],
   "source": [
    "import requests\n",
    "import json\n",
    "url = 'https://maps.googleapis.com/maps/api/geocode/json'\n",
    "params={'sensor':'false',\n",
    "        'address':'臺北市士林區葫蘆街54巷1~30號'}\n",
    "#'臺北市士林區葫蘆街54巷1~30號'\n",
    "res = requests.get(url,params=params)\n",
    "location = res.json()['results'][0]['geometry']['location']\n",
    "print(location['lat'])\n",
    "print(location['lng'])"
   ]
  },
  {
   "cell_type": "code",
   "execution_count": 76,
   "metadata": {
    "collapsed": false
   },
   "outputs": [
    {
     "data": {
      "text/plain": [
       "[25.0806196, 121.5090532]"
      ]
     },
     "execution_count": 76,
     "metadata": {},
     "output_type": "execute_result"
    }
   ],
   "source": [
    "import geocoder\n",
    "g=geocoder.google('臺北市士林區葫蘆街54巷1~30號')\n",
    "g.latlng"
   ]
  },
  {
   "cell_type": "code",
   "execution_count": 101,
   "metadata": {
    "collapsed": false
   },
   "outputs": [],
   "source": [
    "import MySQLdb \n",
    "import geocoder\n",
    "db = MySQLdb.connect(host    = \"localhost\",\n",
    "                     user    = \"root\",\n",
    "                     passwd  = \"test\",\n",
    "                     db      = \"lvr\",\n",
    "                     charset = 'utf8')\n",
    "cur=db.cursor()\n",
    "df2=pd.read_sql('select * from lvr_data',con=db)\n",
    "db.close()"
   ]
  },
  {
   "cell_type": "code",
   "execution_count": null,
   "metadata": {
    "collapsed": true
   },
   "outputs": [],
   "source": [
    "import MySQLdb \n",
    "import geocoder\n",
    "db = MySQLdb.connect(host    = \"localhost\",\n",
    "                     user    = \"root\",\n",
    "                     passwd  = \"test\",\n",
    "                     db      = \"lvr\",\n",
    "                     charset = 'utf8')\n",
    "cur=db.cursor()\n",
    "\n",
    "for idx, rec in df2.iterrows():\n",
    "    g=geocoder.google(rec['address'])\n",
    "    try:\n",
    "        lat, lng = g.latlng\n",
    "\n",
    "        # update lvr_data set lng = 25, lat = 121 where index = 0\n",
    "        #print(lat, lng)\n",
    "        cur.execute('update lvr_data set lng = {}, lat = {} where `index` = {}'.format(lng, lat, rec['index']))\n",
    "        db.commit()\n",
    "    except:\n",
    "        pass\n",
    "    \n",
    "db.close()"
   ]
  },
  {
   "cell_type": "code",
   "execution_count": 100,
   "metadata": {
    "collapsed": false
   },
   "outputs": [
    {
     "data": {
      "text/html": [
       "<div>\n",
       "<table border=\"1\" class=\"dataframe\">\n",
       "  <thead>\n",
       "    <tr style=\"text-align: right;\">\n",
       "      <th></th>\n",
       "      <th>index</th>\n",
       "      <th>area</th>\n",
       "      <th>trading_target</th>\n",
       "      <th>address</th>\n",
       "      <th>land_sqmeter</th>\n",
       "      <th>city_land_type</th>\n",
       "      <th>trading_ymd</th>\n",
       "      <th>trading_num</th>\n",
       "      <th>floor</th>\n",
       "      <th>total_floor</th>\n",
       "      <th>...</th>\n",
       "      <th>compartment</th>\n",
       "      <th>management</th>\n",
       "      <th>total_price</th>\n",
       "      <th>price_per_sqmeter</th>\n",
       "      <th>parking_type</th>\n",
       "      <th>parking_sqmeter</th>\n",
       "      <th>parking_price</th>\n",
       "      <th>trading_ym</th>\n",
       "      <th>lat</th>\n",
       "      <th>lng</th>\n",
       "    </tr>\n",
       "  </thead>\n",
       "  <tbody>\n",
       "    <tr>\n",
       "      <th>0</th>\n",
       "      <td>0</td>\n",
       "      <td>大安區</td>\n",
       "      <td>房地(土地+建物)</td>\n",
       "      <td>臺北市大安區和平東路三段1巷72弄1~30號</td>\n",
       "      <td>19.39</td>\n",
       "      <td>住</td>\n",
       "      <td>2012-06-29</td>\n",
       "      <td>土地1建物2車位0</td>\n",
       "      <td>五層</td>\n",
       "      <td>十七層</td>\n",
       "      <td>...</td>\n",
       "      <td>有</td>\n",
       "      <td>有</td>\n",
       "      <td>18680000</td>\n",
       "      <td>184999.0</td>\n",
       "      <td>None</td>\n",
       "      <td>0.0</td>\n",
       "      <td>0</td>\n",
       "      <td>2012-06-01</td>\n",
       "      <td>25.0250</td>\n",
       "      <td>121.548</td>\n",
       "    </tr>\n",
       "    <tr>\n",
       "      <th>1</th>\n",
       "      <td>1</td>\n",
       "      <td>中正區</td>\n",
       "      <td>房地(土地+建物)</td>\n",
       "      <td>臺北市中正區忠孝東路二段121~150號</td>\n",
       "      <td>8.46</td>\n",
       "      <td>商</td>\n",
       "      <td>2012-07-18</td>\n",
       "      <td>土地3建物1車位0</td>\n",
       "      <td>九層</td>\n",
       "      <td>十二層</td>\n",
       "      <td>...</td>\n",
       "      <td>有</td>\n",
       "      <td>有</td>\n",
       "      <td>20300000</td>\n",
       "      <td>217307.0</td>\n",
       "      <td>None</td>\n",
       "      <td>0.0</td>\n",
       "      <td>0</td>\n",
       "      <td>2012-07-01</td>\n",
       "      <td>25.0427</td>\n",
       "      <td>121.532</td>\n",
       "    </tr>\n",
       "    <tr>\n",
       "      <th>2</th>\n",
       "      <td>2</td>\n",
       "      <td>大同區</td>\n",
       "      <td>土地</td>\n",
       "      <td>橋北段二小段601~630地號</td>\n",
       "      <td>5.50</td>\n",
       "      <td>其他</td>\n",
       "      <td>2012-07-27</td>\n",
       "      <td>土地1建物0車位0</td>\n",
       "      <td>None</td>\n",
       "      <td>None</td>\n",
       "      <td>...</td>\n",
       "      <td>有</td>\n",
       "      <td>無</td>\n",
       "      <td>132096</td>\n",
       "      <td>24017.0</td>\n",
       "      <td>None</td>\n",
       "      <td>0.0</td>\n",
       "      <td>0</td>\n",
       "      <td>2012-07-01</td>\n",
       "      <td>34.2420</td>\n",
       "      <td>108.939</td>\n",
       "    </tr>\n",
       "  </tbody>\n",
       "</table>\n",
       "<p>3 rows × 28 columns</p>\n",
       "</div>"
      ],
      "text/plain": [
       "   index area trading_target                 address  land_sqmeter  \\\n",
       "0      0  大安區      房地(土地+建物)  臺北市大安區和平東路三段1巷72弄1~30號         19.39   \n",
       "1      1  中正區      房地(土地+建物)    臺北市中正區忠孝東路二段121~150號          8.46   \n",
       "2      2  大同區             土地         橋北段二小段601~630地號          5.50   \n",
       "\n",
       "  city_land_type trading_ymd trading_num floor total_floor   ...     \\\n",
       "0              住  2012-06-29   土地1建物2車位0    五層         十七層   ...      \n",
       "1              商  2012-07-18   土地3建物1車位0    九層         十二層   ...      \n",
       "2             其他  2012-07-27   土地1建物0車位0  None        None   ...      \n",
       "\n",
       "  compartment management total_price price_per_sqmeter  parking_type  \\\n",
       "0           有          有    18680000          184999.0          None   \n",
       "1           有          有    20300000          217307.0          None   \n",
       "2           有          無      132096           24017.0          None   \n",
       "\n",
       "   parking_sqmeter  parking_price  trading_ym      lat      lng  \n",
       "0              0.0              0  2012-06-01  25.0250  121.548  \n",
       "1              0.0              0  2012-07-01  25.0427  121.532  \n",
       "2              0.0              0  2012-07-01  34.2420  108.939  \n",
       "\n",
       "[3 rows x 28 columns]"
      ]
     },
     "execution_count": 100,
     "metadata": {},
     "output_type": "execute_result"
    }
   ],
   "source": [
    "df2"
   ]
  },
  {
   "cell_type": "markdown",
   "metadata": {},
   "source": [
    "## proxies \n",
    "- https://www.us-proxy.org/"
   ]
  },
  {
   "cell_type": "code",
   "execution_count": 123,
   "metadata": {
    "collapsed": false
   },
   "outputs": [],
   "source": [
    "import requests\n",
    "import json\n",
    "\n",
    "def getmylocation(address):\n",
    "    proxies = {\n",
    "      'http': 'http://45.55.46.54:80',\n",
    "      'https': 'http://45.55.46.54:80',\n",
    "    }\n",
    "    url = 'https://maps.googleapis.com/maps/api/geocode/json'\n",
    "    params={'sensor':'false',\n",
    "            'address':address}\n",
    "    #'臺北市士林區葫蘆街54巷1~30號'\n",
    "    res = requests.get(url,params=params,proxies=proxies)\n",
    "    print(res.json())\n",
    "    location = res.json()['results'][0]['geometry']['location']\n",
    "    return (location['lat'], location['lng'])"
   ]
  },
  {
   "cell_type": "code",
   "execution_count": null,
   "metadata": {
    "collapsed": true
   },
   "outputs": [],
   "source": [
    "getmylocation"
   ]
  },
  {
   "cell_type": "markdown",
   "metadata": {},
   "source": [
    "## 更新Mongo 內存的經緯度資料"
   ]
  },
  {
   "cell_type": "code",
   "execution_count": 125,
   "metadata": {
    "collapsed": true
   },
   "outputs": [],
   "source": [
    "import pymongo\n",
    "from pymongo import MongoClient\n",
    "client = MongoClient()\n",
    "db     = client['lvr']\n",
    "coll   = db['lvrdata']\n",
    "cur    = coll.find()"
   ]
  },
  {
   "cell_type": "code",
   "execution_count": null,
   "metadata": {
    "collapsed": true
   },
   "outputs": [],
   "source": [
    "for rec in cur.limit(30):\n",
    "    print rec['address']\n",
    "    g=getmylocation(rec['address'])\n",
    "    try:\n",
    "        print g\n",
    "        #lat, lng= g.latlng\n",
    "        coll.update({'_id':rec['_id']},{'$set':{'lat':lat,'lng':lng}})\n",
    "    except:\n",
    "        continue"
   ]
  },
  {
   "cell_type": "code",
   "execution_count": null,
   "metadata": {
    "collapsed": true
   },
   "outputs": [],
   "source": [
    "cur    = coll.find().limit(30)\n",
    "for rec in cur.limit(30):\n",
    "    if 'lat' in rec:\n",
    "        print rec"
   ]
  },
  {
   "cell_type": "markdown",
   "metadata": {},
   "source": [
    "## 畫地圖"
   ]
  },
  {
   "cell_type": "code",
   "execution_count": 128,
   "metadata": {
    "collapsed": true
   },
   "outputs": [],
   "source": [
    "import MySQLdb \n",
    "import geocoder\n",
    "db = MySQLdb.connect(host    = \"localhost\",\n",
    "                     user    = \"root\",\n",
    "                     passwd  = \"test\",\n",
    "                     db      = \"lvr\",\n",
    "                     charset = 'utf8')\n",
    "cur = db.cursor()\n",
    "lvr = pd.read_sql('select * from lvr_data where lat > 0',con=db)\n",
    "db.close()"
   ]
  },
  {
   "cell_type": "code",
   "execution_count": 130,
   "metadata": {
    "collapsed": false
   },
   "outputs": [],
   "source": [
    "lvr.to_excel('lvr_with_location.xlsx')"
   ]
  },
  {
   "cell_type": "code",
   "execution_count": 131,
   "metadata": {
    "collapsed": false
   },
   "outputs": [
    {
     "data": {
      "text/html": [
       "<div>\n",
       "<table border=\"1\" class=\"dataframe\">\n",
       "  <thead>\n",
       "    <tr style=\"text-align: right;\">\n",
       "      <th></th>\n",
       "      <th>index</th>\n",
       "      <th>area</th>\n",
       "      <th>trading_target</th>\n",
       "      <th>address</th>\n",
       "      <th>land_sqmeter</th>\n",
       "      <th>city_land_type</th>\n",
       "      <th>trading_ymd</th>\n",
       "      <th>trading_num</th>\n",
       "      <th>floor</th>\n",
       "      <th>total_floor</th>\n",
       "      <th>...</th>\n",
       "      <th>compartment</th>\n",
       "      <th>management</th>\n",
       "      <th>total_price</th>\n",
       "      <th>price_per_sqmeter</th>\n",
       "      <th>parking_type</th>\n",
       "      <th>parking_sqmeter</th>\n",
       "      <th>parking_price</th>\n",
       "      <th>trading_ym</th>\n",
       "      <th>lat</th>\n",
       "      <th>lng</th>\n",
       "    </tr>\n",
       "  </thead>\n",
       "  <tbody>\n",
       "    <tr>\n",
       "      <th>0</th>\n",
       "      <td>0</td>\n",
       "      <td>大安區</td>\n",
       "      <td>房地(土地+建物)</td>\n",
       "      <td>臺北市大安區和平東路三段1巷72弄1~30號</td>\n",
       "      <td>19.39</td>\n",
       "      <td>住</td>\n",
       "      <td>2012-06-29</td>\n",
       "      <td>土地1建物2車位0</td>\n",
       "      <td>五層</td>\n",
       "      <td>十七層</td>\n",
       "      <td>...</td>\n",
       "      <td>有</td>\n",
       "      <td>有</td>\n",
       "      <td>18680000</td>\n",
       "      <td>184999.0</td>\n",
       "      <td>None</td>\n",
       "      <td>0.0</td>\n",
       "      <td>0</td>\n",
       "      <td>2012-06-01</td>\n",
       "      <td>25.0250</td>\n",
       "      <td>121.548</td>\n",
       "    </tr>\n",
       "    <tr>\n",
       "      <th>1</th>\n",
       "      <td>1</td>\n",
       "      <td>中正區</td>\n",
       "      <td>房地(土地+建物)</td>\n",
       "      <td>臺北市中正區忠孝東路二段121~150號</td>\n",
       "      <td>8.46</td>\n",
       "      <td>商</td>\n",
       "      <td>2012-07-18</td>\n",
       "      <td>土地3建物1車位0</td>\n",
       "      <td>九層</td>\n",
       "      <td>十二層</td>\n",
       "      <td>...</td>\n",
       "      <td>有</td>\n",
       "      <td>有</td>\n",
       "      <td>20300000</td>\n",
       "      <td>217307.0</td>\n",
       "      <td>None</td>\n",
       "      <td>0.0</td>\n",
       "      <td>0</td>\n",
       "      <td>2012-07-01</td>\n",
       "      <td>25.0427</td>\n",
       "      <td>121.532</td>\n",
       "    </tr>\n",
       "    <tr>\n",
       "      <th>2</th>\n",
       "      <td>2</td>\n",
       "      <td>大同區</td>\n",
       "      <td>土地</td>\n",
       "      <td>橋北段二小段601~630地號</td>\n",
       "      <td>5.50</td>\n",
       "      <td>其他</td>\n",
       "      <td>2012-07-27</td>\n",
       "      <td>土地1建物0車位0</td>\n",
       "      <td>None</td>\n",
       "      <td>None</td>\n",
       "      <td>...</td>\n",
       "      <td>有</td>\n",
       "      <td>無</td>\n",
       "      <td>132096</td>\n",
       "      <td>24017.0</td>\n",
       "      <td>None</td>\n",
       "      <td>0.0</td>\n",
       "      <td>0</td>\n",
       "      <td>2012-07-01</td>\n",
       "      <td>34.2420</td>\n",
       "      <td>108.939</td>\n",
       "    </tr>\n",
       "    <tr>\n",
       "      <th>3</th>\n",
       "      <td>3</td>\n",
       "      <td>大同區</td>\n",
       "      <td>房地(土地+建物)</td>\n",
       "      <td>臺北市大同區重慶北路一段61~90號</td>\n",
       "      <td>3.88</td>\n",
       "      <td>商</td>\n",
       "      <td>2012-07-10</td>\n",
       "      <td>土地4建物1車位0</td>\n",
       "      <td>六層</td>\n",
       "      <td>十一層</td>\n",
       "      <td>...</td>\n",
       "      <td>有</td>\n",
       "      <td>有</td>\n",
       "      <td>4200000</td>\n",
       "      <td>114317.0</td>\n",
       "      <td>None</td>\n",
       "      <td>0.0</td>\n",
       "      <td>0</td>\n",
       "      <td>2012-07-01</td>\n",
       "      <td>25.0513</td>\n",
       "      <td>121.514</td>\n",
       "    </tr>\n",
       "    <tr>\n",
       "      <th>4</th>\n",
       "      <td>4</td>\n",
       "      <td>內湖區</td>\n",
       "      <td>房地(土地+建物)</td>\n",
       "      <td>臺北市內湖區民權東路六段90巷6弄1~30號</td>\n",
       "      <td>32.41</td>\n",
       "      <td>住</td>\n",
       "      <td>2012-07-10</td>\n",
       "      <td>土地1建物1車位0</td>\n",
       "      <td>三層</td>\n",
       "      <td>五層</td>\n",
       "      <td>...</td>\n",
       "      <td>有</td>\n",
       "      <td>無</td>\n",
       "      <td>14000000</td>\n",
       "      <td>134473.0</td>\n",
       "      <td>None</td>\n",
       "      <td>0.0</td>\n",
       "      <td>0</td>\n",
       "      <td>2012-07-01</td>\n",
       "      <td>25.0682</td>\n",
       "      <td>121.586</td>\n",
       "    </tr>\n",
       "  </tbody>\n",
       "</table>\n",
       "<p>5 rows × 28 columns</p>\n",
       "</div>"
      ],
      "text/plain": [
       "   index area trading_target                 address  land_sqmeter  \\\n",
       "0      0  大安區      房地(土地+建物)  臺北市大安區和平東路三段1巷72弄1~30號         19.39   \n",
       "1      1  中正區      房地(土地+建物)    臺北市中正區忠孝東路二段121~150號          8.46   \n",
       "2      2  大同區             土地         橋北段二小段601~630地號          5.50   \n",
       "3      3  大同區      房地(土地+建物)      臺北市大同區重慶北路一段61~90號          3.88   \n",
       "4      4  內湖區      房地(土地+建物)  臺北市內湖區民權東路六段90巷6弄1~30號         32.41   \n",
       "\n",
       "  city_land_type trading_ymd trading_num floor total_floor   ...     \\\n",
       "0              住  2012-06-29   土地1建物2車位0    五層         十七層   ...      \n",
       "1              商  2012-07-18   土地3建物1車位0    九層         十二層   ...      \n",
       "2             其他  2012-07-27   土地1建物0車位0  None        None   ...      \n",
       "3              商  2012-07-10   土地4建物1車位0    六層         十一層   ...      \n",
       "4              住  2012-07-10   土地1建物1車位0    三層          五層   ...      \n",
       "\n",
       "  compartment management total_price price_per_sqmeter  parking_type  \\\n",
       "0           有          有    18680000          184999.0          None   \n",
       "1           有          有    20300000          217307.0          None   \n",
       "2           有          無      132096           24017.0          None   \n",
       "3           有          有     4200000          114317.0          None   \n",
       "4           有          無    14000000          134473.0          None   \n",
       "\n",
       "   parking_sqmeter  parking_price  trading_ym      lat      lng  \n",
       "0              0.0              0  2012-06-01  25.0250  121.548  \n",
       "1              0.0              0  2012-07-01  25.0427  121.532  \n",
       "2              0.0              0  2012-07-01  34.2420  108.939  \n",
       "3              0.0              0  2012-07-01  25.0513  121.514  \n",
       "4              0.0              0  2012-07-01  25.0682  121.586  \n",
       "\n",
       "[5 rows x 28 columns]"
      ]
     },
     "execution_count": 131,
     "metadata": {},
     "output_type": "execute_result"
    }
   ],
   "source": [
    "lvr.head()"
   ]
  },
  {
   "cell_type": "markdown",
   "metadata": {},
   "source": [
    "## 使用Selenium 取得Facebook ID 資訊"
   ]
  },
  {
   "cell_type": "markdown",
   "metadata": {},
   "source": [
    "## Chrome Driver\n",
    "- http://chromedriver.storage.googleapis.com/index.html?path=2.24/"
   ]
  },
  {
   "cell_type": "code",
   "execution_count": 144,
   "metadata": {
    "collapsed": false
   },
   "outputs": [
    {
     "name": "stdout",
     "output_type": "stream",
     "text": [
      "[]\n"
     ]
    }
   ],
   "source": [
    "# -*-coding: utf-8 -*-\n",
    "from selenium import webdriver\n",
    "import time\n",
    "driver=webdriver.Chrome()\n",
    "driver.implicitly_wait(30)\n",
    "base_url=\"https://www.facebook.com/\"\n",
    "driver.get(base_url)\n",
    "driver.find_element_by_id(\"email\").clear()\n",
    "driver.find_element_by_id(\"email\").send_keys(\"RogerCarte@rediffmail.com\")\n",
    "driver.find_element_by_id(\"pass\").clear()\n",
    "driver.find_element_by_id(\"pass\").send_keys(\"ohXaeto7vie\")\n",
    "driver.find_element_by_id(\"u_0_l\").click()\n",
    "time.sleep(3)\n",
    "\n",
    "\n",
    "driver.find_element_by_xpath(\"(//input[@name='q'])[2]\").clear()\n",
    "driver.find_element_by_xpath(\"(//input[@name='q'])[2]\").send_keys(\"JacquelineBrody552@rediffmail.com\")\n",
    "time.sleep(3)"
   ]
  },
  {
   "cell_type": "code",
   "execution_count": null,
   "metadata": {
    "collapsed": true
   },
   "outputs": [],
   "source": [
    "from bs4 import BeautifulSoup as bs\n",
    "soup=bs(driver.page_source)"
   ]
  },
  {
   "cell_type": "code",
   "execution_count": 156,
   "metadata": {
    "collapsed": false
   },
   "outputs": [
    {
     "name": "stdout",
     "output_type": "stream",
     "text": [
      "https://www.facebook.com/profile.php?id=100012840247457&fref=ts\n"
     ]
    }
   ],
   "source": [
    "print soup.select('#facebar_typeahead_view_list li a')[1]['href']"
   ]
  },
  {
   "cell_type": "markdown",
   "metadata": {},
   "source": [
    "## 啟用Flask"
   ]
  },
  {
   "cell_type": "code",
   "execution_count": null,
   "metadata": {
    "collapsed": true
   },
   "outputs": [],
   "source": [
    "# hello.py\n",
    "from flask import Flask\n",
    "app=Flask(__name__)\n",
    "\n",
    "@app.route(\"/\")\n",
    "def hello():\n",
    "    return\"Hello World!\"\n",
    "\n",
    "if __name__==\"__main__\":\n",
    "    app.run()"
   ]
  },
  {
   "cell_type": "markdown",
   "metadata": {},
   "source": [
    "## 使用Flask 取得Mongo 內的資料"
   ]
  },
  {
   "cell_type": "code",
   "execution_count": 161,
   "metadata": {
    "collapsed": false
   },
   "outputs": [
    {
     "name": "stderr",
     "output_type": "stream",
     "text": [
      "C:\\Anaconda2\\lib\\site-packages\\flask\\exthook.py:71: ExtDeprecationWarning: Importing flask.ext.pymongo is deprecated, use flask_pymongo instead.\n",
      "  .format(x=modname), ExtDeprecationWarning\n"
     ]
    }
   ],
   "source": [
    "# house.py\n",
    "from flask import Flask,jsonify\n",
    "from flask.ext.pymongo import PyMongo\n",
    "app=Flask(__name__)\n",
    "app.config[\"MONGO_DBNAME\"]=\"lvr\"\n",
    "mongo=PyMongo(app)\n",
    "\n",
    "@app.route(\"/\")\n",
    "def getHouse():\n",
    "    cur=mongo.db.lvrdata.find().limit(30)\n",
    "    # house_list = []\n",
    "    # for house in cur\n",
    "    #     house_list.append({'address': house['address']})\n",
    "    house_list=[{'address':house['address'],\n",
    "                 'area':house['area'],\n",
    "                 'total_price':house['total_price']}\n",
    "                  for house in cur]\n",
    "    return jsonify({\"data\":house_list})\n",
    "if __name__==\"__main__\":\n",
    "    app.run()"
   ]
  },
  {
   "cell_type": "code",
   "execution_count": null,
   "metadata": {
    "collapsed": true
   },
   "outputs": [],
   "source": [
    "# house2.py\n",
    "from flask import Flask,jsonify\n",
    "from flask.ext.pymongo import PyMongo\n",
    "app=Flask(__name__)\n",
    "app.config[\"MONGO_DBNAME\"]=\"lvr\"\n",
    "mongo=PyMongo(app)\n",
    "\n",
    "@app.route(\"/area/<area>\")\n",
    "def getHouse(area):\n",
    "    cur=mongo.db.lvrdata.find({'area':area}).limit(30)\n",
    "    house_list=[{'address':house['address'],\n",
    "                 'area':house['area'],\n",
    "                 'total_price':house['total_price']}\n",
    "                  for house in cur]\n",
    "    return jsonify({\"data\":house_list})\n",
    "if __name__==\"__main__\":\n",
    "    app.run()"
   ]
  },
  {
   "cell_type": "code",
   "execution_count": null,
   "metadata": {
    "collapsed": true
   },
   "outputs": [],
   "source": [
    "# house3.py\n",
    "from flask import Flask,jsonify\n",
    "from flask.ext.pymongo import PyMongo\n",
    "app=Flask(__name__)\n",
    "app.config[\"MONGO_DBNAME\"]=\"lvr\"\n",
    "mongo=PyMongo(app)\n",
    "\n",
    "@app.route(\"/area/\", methods=['POST'])\n",
    "def getHouse(area):\n",
    "    if request.method=='POST':\n",
    "        area=request.form['area']\n",
    "        cur=mongo.db.lvrdata.find({'area':area}).limit(30)\n",
    "        house_list=[{'address':house['address'],\n",
    "                     'area':house['area'],\n",
    "                     'total_price':house['total_price']}\n",
    "                      for house in cur]\n",
    "        return jsonify({\"data\":house_list})\n",
    "    \n",
    "if __name__==\"__main__\":\n",
    "    app.run()\n"
   ]
  },
  {
   "cell_type": "code",
   "execution_count": null,
   "metadata": {
    "collapsed": true
   },
   "outputs": [],
   "source": [
    "# house4.py\n",
    "from flask import Flask,jsonify,request\n",
    "from flask.ext.pymongo import PyMongo\n",
    "app=Flask(__name__)\n",
    "app.config[\"MONGO_DBNAME\"]=\"lvr\"\n",
    "mongo=PyMongo(app)\n",
    "\n",
    "@app.route(\"/area/<area>/<page>\")\n",
    "def getHouse(area, page):\n",
    "    cnt=mongo.db.lvrdata.find({'area':area}).count()\n",
    "    cur=mongo.db.lvrdata.find({'area':area}).skip(30*(int(page)-1)).limit(30)\n",
    "    house_list=[{'address':house['address'],\n",
    "                 'area':house['area'],\n",
    "                 'total_price':house['total_price']}\n",
    "                  for house in cur]\n",
    "    return jsonify({\"data\":house_list,'count':cnt})\n",
    "    \n",
    "if __name__==\"__main__\":\n",
    "    app.run()\n"
   ]
  },
  {
   "cell_type": "markdown",
   "metadata": {},
   "source": [
    "## 抓取資料服務"
   ]
  },
  {
   "cell_type": "code",
   "execution_count": 160,
   "metadata": {
    "collapsed": false
   },
   "outputs": [
    {
     "data": {
      "text/html": [
       "<div>\n",
       "<table border=\"1\" class=\"dataframe\">\n",
       "  <thead>\n",
       "    <tr style=\"text-align: right;\">\n",
       "      <th></th>\n",
       "      <th>address</th>\n",
       "      <th>area</th>\n",
       "      <th>total_price</th>\n",
       "    </tr>\n",
       "  </thead>\n",
       "  <tbody>\n",
       "    <tr>\n",
       "      <th>0</th>\n",
       "      <td>臺北市士林區葫蘆街54巷1~30號</td>\n",
       "      <td>士林區</td>\n",
       "      <td>8300000</td>\n",
       "    </tr>\n",
       "    <tr>\n",
       "      <th>1</th>\n",
       "      <td>德惠段二小段481~510地號</td>\n",
       "      <td>中山區</td>\n",
       "      <td>1200000</td>\n",
       "    </tr>\n",
       "    <tr>\n",
       "      <th>2</th>\n",
       "      <td>臺北市松山區敦化南路一段100巷7弄1~30號</td>\n",
       "      <td>松山區</td>\n",
       "      <td>1900000</td>\n",
       "    </tr>\n",
       "    <tr>\n",
       "      <th>3</th>\n",
       "      <td>臺北市信義區光復南路511~540號</td>\n",
       "      <td>信義區</td>\n",
       "      <td>7000000</td>\n",
       "    </tr>\n",
       "    <tr>\n",
       "      <th>4</th>\n",
       "      <td>臺北市信義區莊敬路423巷4弄1~30號</td>\n",
       "      <td>信義區</td>\n",
       "      <td>16000000</td>\n",
       "    </tr>\n",
       "  </tbody>\n",
       "</table>\n",
       "</div>"
      ],
      "text/plain": [
       "                   address area  total_price\n",
       "0        臺北市士林區葫蘆街54巷1~30號  士林區      8300000\n",
       "1          德惠段二小段481~510地號  中山區      1200000\n",
       "2  臺北市松山區敦化南路一段100巷7弄1~30號  松山區      1900000\n",
       "3       臺北市信義區光復南路511~540號  信義區      7000000\n",
       "4     臺北市信義區莊敬路423巷4弄1~30號  信義區     16000000"
      ]
     },
     "execution_count": 160,
     "metadata": {},
     "output_type": "execute_result"
    }
   ],
   "source": [
    "import requests\n",
    "import json\n",
    "import pandas\n",
    "res = requests.get('http://127.0.0.1:5000')\n",
    "jd = json.loads(res.text)\n",
    "df = pandas.DataFrame(jd['data'])\n",
    "df.head()"
   ]
  },
  {
   "cell_type": "code",
   "execution_count": 163,
   "metadata": {
    "collapsed": false
   },
   "outputs": [
    {
     "data": {
      "text/html": [
       "<div>\n",
       "<table border=\"1\" class=\"dataframe\">\n",
       "  <thead>\n",
       "    <tr style=\"text-align: right;\">\n",
       "      <th></th>\n",
       "      <th>address</th>\n",
       "      <th>area</th>\n",
       "      <th>total_price</th>\n",
       "    </tr>\n",
       "  </thead>\n",
       "  <tbody>\n",
       "    <tr>\n",
       "      <th>0</th>\n",
       "      <td>臺北市萬華區西園路二段320巷36弄1~30號</td>\n",
       "      <td>萬華區</td>\n",
       "      <td>5900000</td>\n",
       "    </tr>\n",
       "    <tr>\n",
       "      <th>1</th>\n",
       "      <td>臺北市萬華區德昌街185巷61~90號</td>\n",
       "      <td>萬華區</td>\n",
       "      <td>10200000</td>\n",
       "    </tr>\n",
       "    <tr>\n",
       "      <th>2</th>\n",
       "      <td>臺北市萬華區中華路二段511~540號</td>\n",
       "      <td>萬華區</td>\n",
       "      <td>7750000</td>\n",
       "    </tr>\n",
       "    <tr>\n",
       "      <th>3</th>\n",
       "      <td>臺北市萬華區漢口街二段31~60號</td>\n",
       "      <td>萬華區</td>\n",
       "      <td>13000000</td>\n",
       "    </tr>\n",
       "    <tr>\n",
       "      <th>4</th>\n",
       "      <td>臺北市萬華區中華路二段504巷31~60號</td>\n",
       "      <td>萬華區</td>\n",
       "      <td>5650000</td>\n",
       "    </tr>\n",
       "  </tbody>\n",
       "</table>\n",
       "</div>"
      ],
      "text/plain": [
       "                   address area  total_price\n",
       "0  臺北市萬華區西園路二段320巷36弄1~30號  萬華區      5900000\n",
       "1      臺北市萬華區德昌街185巷61~90號  萬華區     10200000\n",
       "2      臺北市萬華區中華路二段511~540號  萬華區      7750000\n",
       "3        臺北市萬華區漢口街二段31~60號  萬華區     13000000\n",
       "4    臺北市萬華區中華路二段504巷31~60號  萬華區      5650000"
      ]
     },
     "execution_count": 163,
     "metadata": {},
     "output_type": "execute_result"
    }
   ],
   "source": [
    "import requests\n",
    "import json\n",
    "import pandas\n",
    "res = requests.get('http://127.0.0.1:5000/area/萬華區')\n",
    "jd = json.loads(res.text)\n",
    "df = pandas.DataFrame(jd['data'])\n",
    "df.head()"
   ]
  },
  {
   "cell_type": "code",
   "execution_count": 171,
   "metadata": {
    "collapsed": false,
    "scrolled": true
   },
   "outputs": [
    {
     "data": {
      "text/html": [
       "<div>\n",
       "<table border=\"1\" class=\"dataframe\">\n",
       "  <thead>\n",
       "    <tr style=\"text-align: right;\">\n",
       "      <th></th>\n",
       "      <th>address</th>\n",
       "      <th>area</th>\n",
       "      <th>total_price</th>\n",
       "    </tr>\n",
       "  </thead>\n",
       "  <tbody>\n",
       "    <tr>\n",
       "      <th>0</th>\n",
       "      <td>臺北市南港區經貿二路157巷31~60號</td>\n",
       "      <td>南港區</td>\n",
       "      <td>75280000</td>\n",
       "    </tr>\n",
       "    <tr>\n",
       "      <th>1</th>\n",
       "      <td>臺北市南港區向陽路258巷91~120號</td>\n",
       "      <td>南港區</td>\n",
       "      <td>12350000</td>\n",
       "    </tr>\n",
       "    <tr>\n",
       "      <th>2</th>\n",
       "      <td>臺北市南港區經貿二路157巷31~60號</td>\n",
       "      <td>南港區</td>\n",
       "      <td>67200000</td>\n",
       "    </tr>\n",
       "    <tr>\n",
       "      <th>3</th>\n",
       "      <td>臺北市南港區園區街31~60號</td>\n",
       "      <td>南港區</td>\n",
       "      <td>38000000</td>\n",
       "    </tr>\n",
       "    <tr>\n",
       "      <th>4</th>\n",
       "      <td>臺北市南港區玉成街201巷1~30號</td>\n",
       "      <td>南港區</td>\n",
       "      <td>14200000</td>\n",
       "    </tr>\n",
       "  </tbody>\n",
       "</table>\n",
       "</div>"
      ],
      "text/plain": [
       "                address area  total_price\n",
       "0  臺北市南港區經貿二路157巷31~60號  南港區     75280000\n",
       "1  臺北市南港區向陽路258巷91~120號  南港區     12350000\n",
       "2  臺北市南港區經貿二路157巷31~60號  南港區     67200000\n",
       "3       臺北市南港區園區街31~60號  南港區     38000000\n",
       "4    臺北市南港區玉成街201巷1~30號  南港區     14200000"
      ]
     },
     "execution_count": 171,
     "metadata": {},
     "output_type": "execute_result"
    }
   ],
   "source": [
    "import requests\n",
    "import json\n",
    "import pandas\n",
    "payload = {\n",
    "'area': '南港區'\n",
    "}\n",
    "res = requests.post('http://127.0.0.1:5000/area/', data = payload)\n",
    "#print res.text\n",
    "jd = json.loads(res.text)\n",
    "df = pandas.DataFrame(jd['data'])\n",
    "df.head()"
   ]
  },
  {
   "cell_type": "code",
   "execution_count": null,
   "metadata": {
    "collapsed": true
   },
   "outputs": [],
   "source": []
  }
 ],
 "metadata": {
  "anaconda-cloud": {},
  "kernelspec": {
   "display_name": "Python [Root]",
   "language": "python",
   "name": "Python [Root]"
  },
  "language_info": {
   "codemirror_mode": {
    "name": "ipython",
    "version": 2
   },
   "file_extension": ".py",
   "mimetype": "text/x-python",
   "name": "python",
   "nbconvert_exporter": "python",
   "pygments_lexer": "ipython2",
   "version": "2.7.12"
  }
 },
 "nbformat": 4,
 "nbformat_minor": 0
}
