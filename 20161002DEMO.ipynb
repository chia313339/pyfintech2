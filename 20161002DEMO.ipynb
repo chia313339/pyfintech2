{
 "cells": [
  {
   "cell_type": "markdown",
   "metadata": {},
   "source": [
    "## 處理XML 資料"
   ]
  },
  {
   "cell_type": "code",
   "execution_count": 3,
   "metadata": {
    "collapsed": true
   },
   "outputs": [],
   "source": [
    "import xml.etree.ElementTree as ET\n",
    "tree = ET.parse('1.NBAGIR070_A20160908164642.xml')\n",
    "root = tree.getroot()"
   ]
  },
  {
   "cell_type": "code",
   "execution_count": 5,
   "metadata": {
    "collapsed": false
   },
   "outputs": [
    {
     "data": {
      "text/plain": [
       "<Element 'GenericData' at 0x3cf8400>"
      ]
     },
     "execution_count": 5,
     "metadata": {},
     "output_type": "execute_result"
    }
   ],
   "source": [
    "root"
   ]
  },
  {
   "cell_type": "code",
   "execution_count": 6,
   "metadata": {
    "collapsed": true
   },
   "outputs": [],
   "source": [
    "ds = root.find('DataSet')"
   ]
  },
  {
   "cell_type": "code",
   "execution_count": 8,
   "metadata": {
    "collapsed": false
   },
   "outputs": [
    {
     "data": {
      "text/plain": [
       "<Element 'DataSet' at 0x3c66a90>"
      ]
     },
     "execution_count": 8,
     "metadata": {},
     "output_type": "execute_result"
    }
   ],
   "source": [
    "ds"
   ]
  },
  {
   "cell_type": "code",
   "execution_count": 22,
   "metadata": {
    "collapsed": false
   },
   "outputs": [
    {
     "name": "stdout",
     "output_type": "stream",
     "text": [
      "1 01 基金來源 850000.00\n",
      "2 02 徵收及依法分配收入 850000.00\n",
      "3 03 違規罰款收入 850000.00\n",
      "4 02 財產收入 None\n",
      "5 03 利息收入 None\n",
      "6 01 基金用途 617000.00\n",
      "7 01 本期賸餘(短絀-) 233000.00\n",
      "8 01 期末基金餘額 None\n"
     ]
    }
   ],
   "source": [
    "for row in ds.iter('ROW'):\n",
    "    print row.find('SEQNO').text,\\\n",
    "          row.find('LEVEL').text,\\\n",
    "          row.find(u'科目-名稱').text,\\\n",
    "          row.find(u'本月份預算數').text  "
   ]
  },
  {
   "cell_type": "code",
   "execution_count": 27,
   "metadata": {
    "collapsed": false
   },
   "outputs": [],
   "source": [
    "bond_list = []\n",
    "for row in ds.iter('ROW'):\n",
    "    bond_dic = {}\n",
    "    for child in row:\n",
    "        bond_dic[child.tag] = child.text\n",
    "    bond_list.append(bond_dic)"
   ]
  },
  {
   "cell_type": "code",
   "execution_count": 29,
   "metadata": {
    "collapsed": false
   },
   "outputs": [
    {
     "data": {
      "text/html": [
       "<div>\n",
       "<table border=\"1\" class=\"dataframe\">\n",
       "  <thead>\n",
       "    <tr style=\"text-align: right;\">\n",
       "      <th></th>\n",
       "      <th>BOLD</th>\n",
       "      <th>LEVEL</th>\n",
       "      <th>SEQNO</th>\n",
       "      <th>本年度截至本月份累計實際數</th>\n",
       "      <th>本年度截至本月份累計比較增減</th>\n",
       "      <th>本年度截至本月份累計比較增減-百分比</th>\n",
       "      <th>本年度截至本月份累計預算數</th>\n",
       "      <th>本年度法定預算數</th>\n",
       "      <th>本月份實際數</th>\n",
       "      <th>本月份比較增減</th>\n",
       "      <th>本月份比較增減-百分比</th>\n",
       "      <th>本月份預算數</th>\n",
       "      <th>科目-名稱</th>\n",
       "      <th>科目-編號</th>\n",
       "    </tr>\n",
       "  </thead>\n",
       "  <tbody>\n",
       "    <tr>\n",
       "      <th>0</th>\n",
       "      <td>1</td>\n",
       "      <td>01</td>\n",
       "      <td>1</td>\n",
       "      <td>217463130.00</td>\n",
       "      <td>211973130.00</td>\n",
       "      <td>3861.08</td>\n",
       "      <td>5490000.00</td>\n",
       "      <td>12000000.00</td>\n",
       "      <td>4821000.00</td>\n",
       "      <td>3971000.00</td>\n",
       "      <td>467.18</td>\n",
       "      <td>850000.00</td>\n",
       "      <td>基金來源</td>\n",
       "      <td>4</td>\n",
       "    </tr>\n",
       "    <tr>\n",
       "      <th>1</th>\n",
       "      <td>1</td>\n",
       "      <td>02</td>\n",
       "      <td>2</td>\n",
       "      <td>217458000.00</td>\n",
       "      <td>211968000.00</td>\n",
       "      <td>3860.98</td>\n",
       "      <td>5490000.00</td>\n",
       "      <td>12000000.00</td>\n",
       "      <td>4821000.00</td>\n",
       "      <td>3971000.00</td>\n",
       "      <td>467.18</td>\n",
       "      <td>850000.00</td>\n",
       "      <td>徵收及依法分配收入</td>\n",
       "      <td>41</td>\n",
       "    </tr>\n",
       "    <tr>\n",
       "      <th>2</th>\n",
       "      <td>1</td>\n",
       "      <td>03</td>\n",
       "      <td>3</td>\n",
       "      <td>217458000.00</td>\n",
       "      <td>211968000.00</td>\n",
       "      <td>3860.98</td>\n",
       "      <td>5490000.00</td>\n",
       "      <td>12000000.00</td>\n",
       "      <td>4821000.00</td>\n",
       "      <td>3971000.00</td>\n",
       "      <td>467.18</td>\n",
       "      <td>850000.00</td>\n",
       "      <td>違規罰款收入</td>\n",
       "      <td>415</td>\n",
       "    </tr>\n",
       "    <tr>\n",
       "      <th>3</th>\n",
       "      <td>1</td>\n",
       "      <td>02</td>\n",
       "      <td>4</td>\n",
       "      <td>5130.00</td>\n",
       "      <td>5130.00</td>\n",
       "      <td>None</td>\n",
       "      <td>None</td>\n",
       "      <td>None</td>\n",
       "      <td>None</td>\n",
       "      <td>None</td>\n",
       "      <td>None</td>\n",
       "      <td>None</td>\n",
       "      <td>財產收入</td>\n",
       "      <td>45</td>\n",
       "    </tr>\n",
       "    <tr>\n",
       "      <th>4</th>\n",
       "      <td>1</td>\n",
       "      <td>03</td>\n",
       "      <td>5</td>\n",
       "      <td>5130.00</td>\n",
       "      <td>5130.00</td>\n",
       "      <td>None</td>\n",
       "      <td>None</td>\n",
       "      <td>None</td>\n",
       "      <td>None</td>\n",
       "      <td>None</td>\n",
       "      <td>None</td>\n",
       "      <td>None</td>\n",
       "      <td>利息收入</td>\n",
       "      <td>454</td>\n",
       "    </tr>\n",
       "    <tr>\n",
       "      <th>5</th>\n",
       "      <td>1</td>\n",
       "      <td>01</td>\n",
       "      <td>6</td>\n",
       "      <td>4155992.00</td>\n",
       "      <td>198992.00</td>\n",
       "      <td>5.03</td>\n",
       "      <td>3957000.00</td>\n",
       "      <td>10000000.00</td>\n",
       "      <td>603503.00</td>\n",
       "      <td>-13497.00</td>\n",
       "      <td>-2.19</td>\n",
       "      <td>617000.00</td>\n",
       "      <td>基金用途</td>\n",
       "      <td>5</td>\n",
       "    </tr>\n",
       "    <tr>\n",
       "      <th>6</th>\n",
       "      <td>1</td>\n",
       "      <td>01</td>\n",
       "      <td>7</td>\n",
       "      <td>213307138.00</td>\n",
       "      <td>211774138.00</td>\n",
       "      <td>13814.36</td>\n",
       "      <td>1533000.00</td>\n",
       "      <td>2000000.00</td>\n",
       "      <td>4217497.00</td>\n",
       "      <td>3984497.00</td>\n",
       "      <td>1710.08</td>\n",
       "      <td>233000.00</td>\n",
       "      <td>本期賸餘(短絀-)</td>\n",
       "      <td>6</td>\n",
       "    </tr>\n",
       "    <tr>\n",
       "      <th>7</th>\n",
       "      <td>1</td>\n",
       "      <td>01</td>\n",
       "      <td>8</td>\n",
       "      <td>213307138.00</td>\n",
       "      <td>211774138.00</td>\n",
       "      <td>13814.36</td>\n",
       "      <td>1533000.00</td>\n",
       "      <td>2000000.00</td>\n",
       "      <td>None</td>\n",
       "      <td>None</td>\n",
       "      <td>None</td>\n",
       "      <td>None</td>\n",
       "      <td>期末基金餘額</td>\n",
       "      <td>73</td>\n",
       "    </tr>\n",
       "  </tbody>\n",
       "</table>\n",
       "</div>"
      ],
      "text/plain": [
       "  BOLD LEVEL SEQNO 本年度截至本月份累計實際數 本年度截至本月份累計比較增減 本年度截至本月份累計比較增減-百分比  \\\n",
       "0    1    01     1  217463130.00   211973130.00            3861.08   \n",
       "1    1    02     2  217458000.00   211968000.00            3860.98   \n",
       "2    1    03     3  217458000.00   211968000.00            3860.98   \n",
       "3    1    02     4       5130.00        5130.00               None   \n",
       "4    1    03     5       5130.00        5130.00               None   \n",
       "5    1    01     6    4155992.00      198992.00               5.03   \n",
       "6    1    01     7  213307138.00   211774138.00           13814.36   \n",
       "7    1    01     8  213307138.00   211774138.00           13814.36   \n",
       "\n",
       "  本年度截至本月份累計預算數     本年度法定預算數      本月份實際數     本月份比較增減 本月份比較增減-百分比     本月份預算數  \\\n",
       "0    5490000.00  12000000.00  4821000.00  3971000.00      467.18  850000.00   \n",
       "1    5490000.00  12000000.00  4821000.00  3971000.00      467.18  850000.00   \n",
       "2    5490000.00  12000000.00  4821000.00  3971000.00      467.18  850000.00   \n",
       "3          None         None        None        None        None       None   \n",
       "4          None         None        None        None        None       None   \n",
       "5    3957000.00  10000000.00   603503.00   -13497.00       -2.19  617000.00   \n",
       "6    1533000.00   2000000.00  4217497.00  3984497.00     1710.08  233000.00   \n",
       "7    1533000.00   2000000.00        None        None        None       None   \n",
       "\n",
       "       科目-名稱 科目-編號  \n",
       "0       基金來源     4  \n",
       "1  徵收及依法分配收入    41  \n",
       "2     違規罰款收入   415  \n",
       "3       財產收入    45  \n",
       "4       利息收入   454  \n",
       "5       基金用途     5  \n",
       "6  本期賸餘(短絀-)     6  \n",
       "7     期末基金餘額    73  "
      ]
     },
     "execution_count": 29,
     "metadata": {},
     "output_type": "execute_result"
    }
   ],
   "source": [
    "import pandas as pd\n",
    "df = pd.DataFrame(bond_list)\n",
    "df"
   ]
  },
  {
   "cell_type": "code",
   "execution_count": 32,
   "metadata": {
    "collapsed": false
   },
   "outputs": [],
   "source": [
    "df.to_csv('bond.csv', encoding= 'utf-8')\n",
    "df.to_excel('bond.xlsx')"
   ]
  },
  {
   "cell_type": "code",
   "execution_count": 20,
   "metadata": {
    "collapsed": false
   },
   "outputs": [
    {
     "name": "stdout",
     "output_type": "stream",
     "text": [
      "在黄山始信峰附近，澎湃新闻发现部分游客裸露上身游览景区，还有一些游客不顾警示牌警告攀爬峭壁。而在黄山前山及飞来石附近一处休息区，一些游客将石榴皮随意丢弃，还有游客用手杖打松树果。\n"
     ]
    }
   ],
   "source": [
    "a = '在黄山始信峰附近，澎湃新闻发现部分游客裸露上身游览景区\\\n",
    "，还有一些游客不顾警示牌警告攀爬峭壁。而在黄山前山及飞来石附近\\\n",
    "一处休息区，一些游客将石榴皮随意丢弃，还有游客用手杖打松树果。'\n",
    "# \\ 一定要放在最後面\n",
    "print a"
   ]
  },
  {
   "cell_type": "code",
   "execution_count": 17,
   "metadata": {
    "collapsed": false
   },
   "outputs": [
    {
     "name": "stdout",
     "output_type": "stream",
     "text": [
      "['\\xe7\\xa7\\x91\\xe7\\x9b\\xae-\\xe5\\x90\\x8d\\xe7\\xa8\\xb1']\n",
      "[u'\\u79d1\\u76ee-\\u540d\\u7a31']\n"
     ]
    }
   ],
   "source": [
    "print ['科目-名稱']\n",
    "print [u'科目-名稱']"
   ]
  },
  {
   "cell_type": "markdown",
   "metadata": {},
   "source": [
    "## 讀取目錄夾下所有的XML 檔案"
   ]
  },
  {
   "cell_type": "code",
   "execution_count": 34,
   "metadata": {
    "collapsed": false
   },
   "outputs": [],
   "source": [
    "import os\n",
    "import xml.etree.ElementTree as ET\n",
    "bond_list = []\n",
    "\n",
    "for xmlfile in os.listdir('xmldata'):\n",
    "    tree = ET.parse('xmldata/' + xmlfile)\n",
    "    root = tree.getroot()\n",
    "    ds = root.find('DataSet')\n",
    "    for row in ds.iter('ROW'):\n",
    "        bond_dic = {}\n",
    "        for child in row:\n",
    "            bond_dic[child.tag] = child.text\n",
    "        bond_list.append(bond_dic)"
   ]
  },
  {
   "cell_type": "code",
   "execution_count": 36,
   "metadata": {
    "collapsed": false
   },
   "outputs": [],
   "source": [
    "import pandas as pd\n",
    "df = pd.DataFrame(bond_list)\n",
    "df.to_excel('bond2.xlsx')"
   ]
  },
  {
   "cell_type": "markdown",
   "metadata": {},
   "source": [
    "## 處理JSON 資料"
   ]
  },
  {
   "cell_type": "code",
   "execution_count": 48,
   "metadata": {
    "collapsed": false
   },
   "outputs": [],
   "source": [
    "import requests\n",
    "payload = {\n",
    "'parentId':'1003',\n",
    "'lon':'121.5181',\n",
    "'lat':'25.0410'  \n",
    "}\n",
    "res = requests.post('http://fscmobile.fsc.gov.tw/FscWebs/services/getFinanceInfos', data = payload)\n",
    "#print res.text"
   ]
  },
  {
   "cell_type": "code",
   "execution_count": 49,
   "metadata": {
    "collapsed": true
   },
   "outputs": [],
   "source": [
    "import json\n",
    "jd = json.loads(res.text)"
   ]
  },
  {
   "cell_type": "code",
   "execution_count": 53,
   "metadata": {
    "collapsed": false
   },
   "outputs": [],
   "source": [
    "for finance in jd['financeInfos']:\n",
    "    title, addr, tel = finance['title'],finance['addr'],finance['tel']\n",
    "    #print title, addr, tel"
   ]
  },
  {
   "cell_type": "code",
   "execution_count": 54,
   "metadata": {
    "collapsed": false
   },
   "outputs": [
    {
     "data": {
      "text/html": [
       "<div>\n",
       "<table border=\"1\" class=\"dataframe\">\n",
       "  <thead>\n",
       "    <tr style=\"text-align: right;\">\n",
       "      <th></th>\n",
       "      <th>addr</th>\n",
       "      <th>distance</th>\n",
       "      <th>fax</th>\n",
       "      <th>id</th>\n",
       "      <th>idNumber</th>\n",
       "      <th>lat</th>\n",
       "      <th>lon</th>\n",
       "      <th>picUrl</th>\n",
       "      <th>tel</th>\n",
       "      <th>title</th>\n",
       "      <th>url</th>\n",
       "    </tr>\n",
       "  </thead>\n",
       "  <tbody>\n",
       "    <tr>\n",
       "      <th>0</th>\n",
       "      <td>台北市中正區中山南路7號地下1樓</td>\n",
       "      <td>0.19140462862023078</td>\n",
       "      <td></td>\n",
       "      <td>10030131414</td>\n",
       "      <td>0061346</td>\n",
       "      <td>25.04041</td>\n",
       "      <td>121.51988</td>\n",
       "      <td>http://163.29.133.20:8080/FscWs/images/1_ICON.png</td>\n",
       "      <td>02-23568071</td>\n",
       "      <td>合作金庫商業銀行台大分行</td>\n",
       "      <td>http://www.tcb-bank.com.tw</td>\n",
       "    </tr>\n",
       "    <tr>\n",
       "      <th>1</th>\n",
       "      <td>凱達格蘭大道2號129室</td>\n",
       "      <td>0.28884717223771683</td>\n",
       "      <td></td>\n",
       "      <td>10030211219</td>\n",
       "      <td>0170860</td>\n",
       "      <td>25.038946</td>\n",
       "      <td>121.51635</td>\n",
       "      <td>http://163.29.133.20:8080/FscWs/images/1_ICON.png</td>\n",
       "      <td>02-23482066</td>\n",
       "      <td>兆豐國際商銀駐外交部簡易型分行</td>\n",
       "      <td>http://www.megabank.com.tw</td>\n",
       "    </tr>\n",
       "    <tr>\n",
       "      <th>2</th>\n",
       "      <td>台北市中正區襄陽路1號一、二樓</td>\n",
       "      <td>0.32562426633459907</td>\n",
       "      <td></td>\n",
       "      <td>10031134190</td>\n",
       "      <td>8050023</td>\n",
       "      <td>25.043497</td>\n",
       "      <td>121.51642</td>\n",
       "      <td>http://163.29.133.20:8080/FscWs/images/1_ICON.png</td>\n",
       "      <td>02-23814567</td>\n",
       "      <td>遠東國際商業銀行台北襄陽分行</td>\n",
       "      <td>http://www.feib.com.tw</td>\n",
       "    </tr>\n",
       "    <tr>\n",
       "      <th>3</th>\n",
       "      <td>台北市襄陽路1號5樓</td>\n",
       "      <td>0.32562426633459907</td>\n",
       "      <td></td>\n",
       "      <td>10031134199</td>\n",
       "      <td>8050126</td>\n",
       "      <td>25.043497</td>\n",
       "      <td>121.51642</td>\n",
       "      <td>http://163.29.133.20:8080/FscWs/images/1_ICON.png</td>\n",
       "      <td>02-23123636</td>\n",
       "      <td>遠東國際商業銀行信託部</td>\n",
       "      <td>http://www.feib.com.tw</td>\n",
       "    </tr>\n",
       "    <tr>\n",
       "      <th>4</th>\n",
       "      <td>台北市中正區中山南路一號一樓及地下一樓</td>\n",
       "      <td>0.3517530794964405</td>\n",
       "      <td></td>\n",
       "      <td>1003008997</td>\n",
       "      <td>0041621</td>\n",
       "      <td>25.043894</td>\n",
       "      <td>121.5195</td>\n",
       "      <td>http://163.29.133.20:8080/FscWs/images/1_ICON.png</td>\n",
       "      <td>02-23411001</td>\n",
       "      <td>臺灣銀行群賢分行</td>\n",
       "      <td>http://www.bot.com.tw</td>\n",
       "    </tr>\n",
       "  </tbody>\n",
       "</table>\n",
       "</div>"
      ],
      "text/plain": [
       "                  addr             distance fax           id idNumber  \\\n",
       "0     台北市中正區中山南路7號地下1樓  0.19140462862023078      10030131414  0061346   \n",
       "1         凱達格蘭大道2號129室  0.28884717223771683      10030211219  0170860   \n",
       "2      台北市中正區襄陽路1號一、二樓  0.32562426633459907      10031134190  8050023   \n",
       "3           台北市襄陽路1號5樓  0.32562426633459907      10031134199  8050126   \n",
       "4  台北市中正區中山南路一號一樓及地下一樓   0.3517530794964405       1003008997  0041621   \n",
       "\n",
       "         lat        lon                                             picUrl  \\\n",
       "0   25.04041  121.51988  http://163.29.133.20:8080/FscWs/images/1_ICON.png   \n",
       "1  25.038946  121.51635  http://163.29.133.20:8080/FscWs/images/1_ICON.png   \n",
       "2  25.043497  121.51642  http://163.29.133.20:8080/FscWs/images/1_ICON.png   \n",
       "3  25.043497  121.51642  http://163.29.133.20:8080/FscWs/images/1_ICON.png   \n",
       "4  25.043894   121.5195  http://163.29.133.20:8080/FscWs/images/1_ICON.png   \n",
       "\n",
       "           tel            title                         url  \n",
       "0  02-23568071     合作金庫商業銀行台大分行  http://www.tcb-bank.com.tw  \n",
       "1  02-23482066  兆豐國際商銀駐外交部簡易型分行  http://www.megabank.com.tw  \n",
       "2  02-23814567   遠東國際商業銀行台北襄陽分行      http://www.feib.com.tw  \n",
       "3  02-23123636      遠東國際商業銀行信託部      http://www.feib.com.tw  \n",
       "4  02-23411001         臺灣銀行群賢分行       http://www.bot.com.tw  "
      ]
     },
     "execution_count": 54,
     "metadata": {},
     "output_type": "execute_result"
    }
   ],
   "source": [
    "import pandas\n",
    "df = pandas.DataFrame(jd['financeInfos'])\n",
    "df.head()"
   ]
  },
  {
   "cell_type": "code",
   "execution_count": 51,
   "metadata": {
    "collapsed": false
   },
   "outputs": [
    {
     "data": {
      "text/plain": [
       "addr        3597\n",
       "distance    3597\n",
       "fax         3597\n",
       "id          3597\n",
       "idNumber    3597\n",
       "lat         3597\n",
       "lon         3597\n",
       "picUrl      3597\n",
       "tel         3597\n",
       "title       3597\n",
       "url         3597\n",
       "dtype: int64"
      ]
     },
     "execution_count": 51,
     "metadata": {},
     "output_type": "execute_result"
    }
   ],
   "source": [
    "df.count()"
   ]
  }
 ],
 "metadata": {
  "kernelspec": {
   "display_name": "Python [Root]",
   "language": "python",
   "name": "Python [Root]"
  },
  "language_info": {
   "codemirror_mode": {
    "name": "ipython",
    "version": 2
   },
   "file_extension": ".py",
   "mimetype": "text/x-python",
   "name": "python",
   "nbconvert_exporter": "python",
   "pygments_lexer": "ipython2",
   "version": "2.7.12"
  }
 },
 "nbformat": 4,
 "nbformat_minor": 0
}
