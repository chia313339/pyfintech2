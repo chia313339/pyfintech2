{
 "cells": [
  {
   "cell_type": "markdown",
   "metadata": {},
   "source": [
    "## 處理XML 資料"
   ]
  },
  {
   "cell_type": "code",
   "execution_count": 3,
   "metadata": {
    "collapsed": true
   },
   "outputs": [],
   "source": [
    "import xml.etree.ElementTree as ET\n",
    "tree = ET.parse('1.NBAGIR070_A20160908164642.xml')\n",
    "root = tree.getroot()"
   ]
  },
  {
   "cell_type": "code",
   "execution_count": 5,
   "metadata": {
    "collapsed": false
   },
   "outputs": [
    {
     "data": {
      "text/plain": [
       "<Element 'GenericData' at 0x3cf8400>"
      ]
     },
     "execution_count": 5,
     "metadata": {},
     "output_type": "execute_result"
    }
   ],
   "source": [
    "root"
   ]
  },
  {
   "cell_type": "code",
   "execution_count": 6,
   "metadata": {
    "collapsed": true
   },
   "outputs": [],
   "source": [
    "ds = root.find('DataSet')"
   ]
  },
  {
   "cell_type": "code",
   "execution_count": 8,
   "metadata": {
    "collapsed": false
   },
   "outputs": [
    {
     "data": {
      "text/plain": [
       "<Element 'DataSet' at 0x3c66a90>"
      ]
     },
     "execution_count": 8,
     "metadata": {},
     "output_type": "execute_result"
    }
   ],
   "source": [
    "ds"
   ]
  },
  {
   "cell_type": "code",
   "execution_count": 22,
   "metadata": {
    "collapsed": false
   },
   "outputs": [
    {
     "name": "stdout",
     "output_type": "stream",
     "text": [
      "1 01 基金來源 850000.00\n",
      "2 02 徵收及依法分配收入 850000.00\n",
      "3 03 違規罰款收入 850000.00\n",
      "4 02 財產收入 None\n",
      "5 03 利息收入 None\n",
      "6 01 基金用途 617000.00\n",
      "7 01 本期賸餘(短絀-) 233000.00\n",
      "8 01 期末基金餘額 None\n"
     ]
    }
   ],
   "source": [
    "for row in ds.iter('ROW'):\n",
    "    print row.find('SEQNO').text,\\\n",
    "          row.find('LEVEL').text,\\\n",
    "          row.find(u'科目-名稱').text,\\\n",
    "          row.find(u'本月份預算數').text  "
   ]
  },
  {
   "cell_type": "code",
   "execution_count": 27,
   "metadata": {
    "collapsed": false
   },
   "outputs": [],
   "source": [
    "bond_list = []\n",
    "for row in ds.iter('ROW'):\n",
    "    bond_dic = {}\n",
    "    for child in row:\n",
    "        bond_dic[child.tag] = child.text\n",
    "    bond_list.append(bond_dic)"
   ]
  },
  {
   "cell_type": "code",
   "execution_count": 29,
   "metadata": {
    "collapsed": false
   },
   "outputs": [
    {
     "data": {
      "text/html": [
       "<div>\n",
       "<table border=\"1\" class=\"dataframe\">\n",
       "  <thead>\n",
       "    <tr style=\"text-align: right;\">\n",
       "      <th></th>\n",
       "      <th>BOLD</th>\n",
       "      <th>LEVEL</th>\n",
       "      <th>SEQNO</th>\n",
       "      <th>本年度截至本月份累計實際數</th>\n",
       "      <th>本年度截至本月份累計比較增減</th>\n",
       "      <th>本年度截至本月份累計比較增減-百分比</th>\n",
       "      <th>本年度截至本月份累計預算數</th>\n",
       "      <th>本年度法定預算數</th>\n",
       "      <th>本月份實際數</th>\n",
       "      <th>本月份比較增減</th>\n",
       "      <th>本月份比較增減-百分比</th>\n",
       "      <th>本月份預算數</th>\n",
       "      <th>科目-名稱</th>\n",
       "      <th>科目-編號</th>\n",
       "    </tr>\n",
       "  </thead>\n",
       "  <tbody>\n",
       "    <tr>\n",
       "      <th>0</th>\n",
       "      <td>1</td>\n",
       "      <td>01</td>\n",
       "      <td>1</td>\n",
       "      <td>217463130.00</td>\n",
       "      <td>211973130.00</td>\n",
       "      <td>3861.08</td>\n",
       "      <td>5490000.00</td>\n",
       "      <td>12000000.00</td>\n",
       "      <td>4821000.00</td>\n",
       "      <td>3971000.00</td>\n",
       "      <td>467.18</td>\n",
       "      <td>850000.00</td>\n",
       "      <td>基金來源</td>\n",
       "      <td>4</td>\n",
       "    </tr>\n",
       "    <tr>\n",
       "      <th>1</th>\n",
       "      <td>1</td>\n",
       "      <td>02</td>\n",
       "      <td>2</td>\n",
       "      <td>217458000.00</td>\n",
       "      <td>211968000.00</td>\n",
       "      <td>3860.98</td>\n",
       "      <td>5490000.00</td>\n",
       "      <td>12000000.00</td>\n",
       "      <td>4821000.00</td>\n",
       "      <td>3971000.00</td>\n",
       "      <td>467.18</td>\n",
       "      <td>850000.00</td>\n",
       "      <td>徵收及依法分配收入</td>\n",
       "      <td>41</td>\n",
       "    </tr>\n",
       "    <tr>\n",
       "      <th>2</th>\n",
       "      <td>1</td>\n",
       "      <td>03</td>\n",
       "      <td>3</td>\n",
       "      <td>217458000.00</td>\n",
       "      <td>211968000.00</td>\n",
       "      <td>3860.98</td>\n",
       "      <td>5490000.00</td>\n",
       "      <td>12000000.00</td>\n",
       "      <td>4821000.00</td>\n",
       "      <td>3971000.00</td>\n",
       "      <td>467.18</td>\n",
       "      <td>850000.00</td>\n",
       "      <td>違規罰款收入</td>\n",
       "      <td>415</td>\n",
       "    </tr>\n",
       "    <tr>\n",
       "      <th>3</th>\n",
       "      <td>1</td>\n",
       "      <td>02</td>\n",
       "      <td>4</td>\n",
       "      <td>5130.00</td>\n",
       "      <td>5130.00</td>\n",
       "      <td>None</td>\n",
       "      <td>None</td>\n",
       "      <td>None</td>\n",
       "      <td>None</td>\n",
       "      <td>None</td>\n",
       "      <td>None</td>\n",
       "      <td>None</td>\n",
       "      <td>財產收入</td>\n",
       "      <td>45</td>\n",
       "    </tr>\n",
       "    <tr>\n",
       "      <th>4</th>\n",
       "      <td>1</td>\n",
       "      <td>03</td>\n",
       "      <td>5</td>\n",
       "      <td>5130.00</td>\n",
       "      <td>5130.00</td>\n",
       "      <td>None</td>\n",
       "      <td>None</td>\n",
       "      <td>None</td>\n",
       "      <td>None</td>\n",
       "      <td>None</td>\n",
       "      <td>None</td>\n",
       "      <td>None</td>\n",
       "      <td>利息收入</td>\n",
       "      <td>454</td>\n",
       "    </tr>\n",
       "    <tr>\n",
       "      <th>5</th>\n",
       "      <td>1</td>\n",
       "      <td>01</td>\n",
       "      <td>6</td>\n",
       "      <td>4155992.00</td>\n",
       "      <td>198992.00</td>\n",
       "      <td>5.03</td>\n",
       "      <td>3957000.00</td>\n",
       "      <td>10000000.00</td>\n",
       "      <td>603503.00</td>\n",
       "      <td>-13497.00</td>\n",
       "      <td>-2.19</td>\n",
       "      <td>617000.00</td>\n",
       "      <td>基金用途</td>\n",
       "      <td>5</td>\n",
       "    </tr>\n",
       "    <tr>\n",
       "      <th>6</th>\n",
       "      <td>1</td>\n",
       "      <td>01</td>\n",
       "      <td>7</td>\n",
       "      <td>213307138.00</td>\n",
       "      <td>211774138.00</td>\n",
       "      <td>13814.36</td>\n",
       "      <td>1533000.00</td>\n",
       "      <td>2000000.00</td>\n",
       "      <td>4217497.00</td>\n",
       "      <td>3984497.00</td>\n",
       "      <td>1710.08</td>\n",
       "      <td>233000.00</td>\n",
       "      <td>本期賸餘(短絀-)</td>\n",
       "      <td>6</td>\n",
       "    </tr>\n",
       "    <tr>\n",
       "      <th>7</th>\n",
       "      <td>1</td>\n",
       "      <td>01</td>\n",
       "      <td>8</td>\n",
       "      <td>213307138.00</td>\n",
       "      <td>211774138.00</td>\n",
       "      <td>13814.36</td>\n",
       "      <td>1533000.00</td>\n",
       "      <td>2000000.00</td>\n",
       "      <td>None</td>\n",
       "      <td>None</td>\n",
       "      <td>None</td>\n",
       "      <td>None</td>\n",
       "      <td>期末基金餘額</td>\n",
       "      <td>73</td>\n",
       "    </tr>\n",
       "  </tbody>\n",
       "</table>\n",
       "</div>"
      ],
      "text/plain": [
       "  BOLD LEVEL SEQNO 本年度截至本月份累計實際數 本年度截至本月份累計比較增減 本年度截至本月份累計比較增減-百分比  \\\n",
       "0    1    01     1  217463130.00   211973130.00            3861.08   \n",
       "1    1    02     2  217458000.00   211968000.00            3860.98   \n",
       "2    1    03     3  217458000.00   211968000.00            3860.98   \n",
       "3    1    02     4       5130.00        5130.00               None   \n",
       "4    1    03     5       5130.00        5130.00               None   \n",
       "5    1    01     6    4155992.00      198992.00               5.03   \n",
       "6    1    01     7  213307138.00   211774138.00           13814.36   \n",
       "7    1    01     8  213307138.00   211774138.00           13814.36   \n",
       "\n",
       "  本年度截至本月份累計預算數     本年度法定預算數      本月份實際數     本月份比較增減 本月份比較增減-百分比     本月份預算數  \\\n",
       "0    5490000.00  12000000.00  4821000.00  3971000.00      467.18  850000.00   \n",
       "1    5490000.00  12000000.00  4821000.00  3971000.00      467.18  850000.00   \n",
       "2    5490000.00  12000000.00  4821000.00  3971000.00      467.18  850000.00   \n",
       "3          None         None        None        None        None       None   \n",
       "4          None         None        None        None        None       None   \n",
       "5    3957000.00  10000000.00   603503.00   -13497.00       -2.19  617000.00   \n",
       "6    1533000.00   2000000.00  4217497.00  3984497.00     1710.08  233000.00   \n",
       "7    1533000.00   2000000.00        None        None        None       None   \n",
       "\n",
       "       科目-名稱 科目-編號  \n",
       "0       基金來源     4  \n",
       "1  徵收及依法分配收入    41  \n",
       "2     違規罰款收入   415  \n",
       "3       財產收入    45  \n",
       "4       利息收入   454  \n",
       "5       基金用途     5  \n",
       "6  本期賸餘(短絀-)     6  \n",
       "7     期末基金餘額    73  "
      ]
     },
     "execution_count": 29,
     "metadata": {},
     "output_type": "execute_result"
    }
   ],
   "source": [
    "import pandas as pd\n",
    "df = pd.DataFrame(bond_list)\n",
    "df"
   ]
  },
  {
   "cell_type": "code",
   "execution_count": 32,
   "metadata": {
    "collapsed": false
   },
   "outputs": [],
   "source": [
    "df.to_csv('bond.csv', encoding= 'utf-8')\n",
    "df.to_excel('bond.xlsx')"
   ]
  },
  {
   "cell_type": "code",
   "execution_count": 20,
   "metadata": {
    "collapsed": false
   },
   "outputs": [
    {
     "name": "stdout",
     "output_type": "stream",
     "text": [
      "在黄山始信峰附近，澎湃新闻发现部分游客裸露上身游览景区，还有一些游客不顾警示牌警告攀爬峭壁。而在黄山前山及飞来石附近一处休息区，一些游客将石榴皮随意丢弃，还有游客用手杖打松树果。\n"
     ]
    }
   ],
   "source": [
    "a = '在黄山始信峰附近，澎湃新闻发现部分游客裸露上身游览景区\\\n",
    "，还有一些游客不顾警示牌警告攀爬峭壁。而在黄山前山及飞来石附近\\\n",
    "一处休息区，一些游客将石榴皮随意丢弃，还有游客用手杖打松树果。'\n",
    "# \\ 一定要放在最後面\n",
    "print a"
   ]
  },
  {
   "cell_type": "code",
   "execution_count": 17,
   "metadata": {
    "collapsed": false
   },
   "outputs": [
    {
     "name": "stdout",
     "output_type": "stream",
     "text": [
      "['\\xe7\\xa7\\x91\\xe7\\x9b\\xae-\\xe5\\x90\\x8d\\xe7\\xa8\\xb1']\n",
      "[u'\\u79d1\\u76ee-\\u540d\\u7a31']\n"
     ]
    }
   ],
   "source": [
    "print ['科目-名稱']\n",
    "print [u'科目-名稱']"
   ]
  },
  {
   "cell_type": "markdown",
   "metadata": {},
   "source": [
    "## 讀取目錄夾下所有的XML 檔案"
   ]
  },
  {
   "cell_type": "code",
   "execution_count": 34,
   "metadata": {
    "collapsed": false
   },
   "outputs": [],
   "source": [
    "import os\n",
    "import xml.etree.ElementTree as ET\n",
    "bond_list = []\n",
    "\n",
    "for xmlfile in os.listdir('xmldata'):\n",
    "    tree = ET.parse('xmldata/' + xmlfile)\n",
    "    root = tree.getroot()\n",
    "    ds = root.find('DataSet')\n",
    "    for row in ds.iter('ROW'):\n",
    "        bond_dic = {}\n",
    "        for child in row:\n",
    "            bond_dic[child.tag] = child.text\n",
    "        bond_list.append(bond_dic)"
   ]
  },
  {
   "cell_type": "code",
   "execution_count": 36,
   "metadata": {
    "collapsed": false
   },
   "outputs": [],
   "source": [
    "import pandas as pd\n",
    "df = pd.DataFrame(bond_list)\n",
    "df.to_excel('bond2.xlsx')"
   ]
  },
  {
   "cell_type": "markdown",
   "metadata": {},
   "source": [
    "## 處理JSON 資料"
   ]
  },
  {
   "cell_type": "code",
   "execution_count": 48,
   "metadata": {
    "collapsed": false
   },
   "outputs": [],
   "source": [
    "import requests\n",
    "payload = {\n",
    "'parentId':'1003',\n",
    "'lon':'121.5181',\n",
    "'lat':'25.0410'  \n",
    "}\n",
    "res = requests.post('http://fscmobile.fsc.gov.tw/FscWebs/services/getFinanceInfos', data = payload)\n",
    "#print res.text"
   ]
  },
  {
   "cell_type": "code",
   "execution_count": 49,
   "metadata": {
    "collapsed": true
   },
   "outputs": [],
   "source": [
    "import json\n",
    "jd = json.loads(res.text)"
   ]
  },
  {
   "cell_type": "code",
   "execution_count": 53,
   "metadata": {
    "collapsed": false
   },
   "outputs": [],
   "source": [
    "for finance in jd['financeInfos']:\n",
    "    title, addr, tel = finance['title'],finance['addr'],finance['tel']\n",
    "    #print title, addr, tel"
   ]
  },
  {
   "cell_type": "code",
   "execution_count": 54,
   "metadata": {
    "collapsed": false
   },
   "outputs": [
    {
     "data": {
      "text/html": [
       "<div>\n",
       "<table border=\"1\" class=\"dataframe\">\n",
       "  <thead>\n",
       "    <tr style=\"text-align: right;\">\n",
       "      <th></th>\n",
       "      <th>addr</th>\n",
       "      <th>distance</th>\n",
       "      <th>fax</th>\n",
       "      <th>id</th>\n",
       "      <th>idNumber</th>\n",
       "      <th>lat</th>\n",
       "      <th>lon</th>\n",
       "      <th>picUrl</th>\n",
       "      <th>tel</th>\n",
       "      <th>title</th>\n",
       "      <th>url</th>\n",
       "    </tr>\n",
       "  </thead>\n",
       "  <tbody>\n",
       "    <tr>\n",
       "      <th>0</th>\n",
       "      <td>台北市中正區中山南路7號地下1樓</td>\n",
       "      <td>0.19140462862023078</td>\n",
       "      <td></td>\n",
       "      <td>10030131414</td>\n",
       "      <td>0061346</td>\n",
       "      <td>25.04041</td>\n",
       "      <td>121.51988</td>\n",
       "      <td>http://163.29.133.20:8080/FscWs/images/1_ICON.png</td>\n",
       "      <td>02-23568071</td>\n",
       "      <td>合作金庫商業銀行台大分行</td>\n",
       "      <td>http://www.tcb-bank.com.tw</td>\n",
       "    </tr>\n",
       "    <tr>\n",
       "      <th>1</th>\n",
       "      <td>凱達格蘭大道2號129室</td>\n",
       "      <td>0.28884717223771683</td>\n",
       "      <td></td>\n",
       "      <td>10030211219</td>\n",
       "      <td>0170860</td>\n",
       "      <td>25.038946</td>\n",
       "      <td>121.51635</td>\n",
       "      <td>http://163.29.133.20:8080/FscWs/images/1_ICON.png</td>\n",
       "      <td>02-23482066</td>\n",
       "      <td>兆豐國際商銀駐外交部簡易型分行</td>\n",
       "      <td>http://www.megabank.com.tw</td>\n",
       "    </tr>\n",
       "    <tr>\n",
       "      <th>2</th>\n",
       "      <td>台北市中正區襄陽路1號一、二樓</td>\n",
       "      <td>0.32562426633459907</td>\n",
       "      <td></td>\n",
       "      <td>10031134190</td>\n",
       "      <td>8050023</td>\n",
       "      <td>25.043497</td>\n",
       "      <td>121.51642</td>\n",
       "      <td>http://163.29.133.20:8080/FscWs/images/1_ICON.png</td>\n",
       "      <td>02-23814567</td>\n",
       "      <td>遠東國際商業銀行台北襄陽分行</td>\n",
       "      <td>http://www.feib.com.tw</td>\n",
       "    </tr>\n",
       "    <tr>\n",
       "      <th>3</th>\n",
       "      <td>台北市襄陽路1號5樓</td>\n",
       "      <td>0.32562426633459907</td>\n",
       "      <td></td>\n",
       "      <td>10031134199</td>\n",
       "      <td>8050126</td>\n",
       "      <td>25.043497</td>\n",
       "      <td>121.51642</td>\n",
       "      <td>http://163.29.133.20:8080/FscWs/images/1_ICON.png</td>\n",
       "      <td>02-23123636</td>\n",
       "      <td>遠東國際商業銀行信託部</td>\n",
       "      <td>http://www.feib.com.tw</td>\n",
       "    </tr>\n",
       "    <tr>\n",
       "      <th>4</th>\n",
       "      <td>台北市中正區中山南路一號一樓及地下一樓</td>\n",
       "      <td>0.3517530794964405</td>\n",
       "      <td></td>\n",
       "      <td>1003008997</td>\n",
       "      <td>0041621</td>\n",
       "      <td>25.043894</td>\n",
       "      <td>121.5195</td>\n",
       "      <td>http://163.29.133.20:8080/FscWs/images/1_ICON.png</td>\n",
       "      <td>02-23411001</td>\n",
       "      <td>臺灣銀行群賢分行</td>\n",
       "      <td>http://www.bot.com.tw</td>\n",
       "    </tr>\n",
       "  </tbody>\n",
       "</table>\n",
       "</div>"
      ],
      "text/plain": [
       "                  addr             distance fax           id idNumber  \\\n",
       "0     台北市中正區中山南路7號地下1樓  0.19140462862023078      10030131414  0061346   \n",
       "1         凱達格蘭大道2號129室  0.28884717223771683      10030211219  0170860   \n",
       "2      台北市中正區襄陽路1號一、二樓  0.32562426633459907      10031134190  8050023   \n",
       "3           台北市襄陽路1號5樓  0.32562426633459907      10031134199  8050126   \n",
       "4  台北市中正區中山南路一號一樓及地下一樓   0.3517530794964405       1003008997  0041621   \n",
       "\n",
       "         lat        lon                                             picUrl  \\\n",
       "0   25.04041  121.51988  http://163.29.133.20:8080/FscWs/images/1_ICON.png   \n",
       "1  25.038946  121.51635  http://163.29.133.20:8080/FscWs/images/1_ICON.png   \n",
       "2  25.043497  121.51642  http://163.29.133.20:8080/FscWs/images/1_ICON.png   \n",
       "3  25.043497  121.51642  http://163.29.133.20:8080/FscWs/images/1_ICON.png   \n",
       "4  25.043894   121.5195  http://163.29.133.20:8080/FscWs/images/1_ICON.png   \n",
       "\n",
       "           tel            title                         url  \n",
       "0  02-23568071     合作金庫商業銀行台大分行  http://www.tcb-bank.com.tw  \n",
       "1  02-23482066  兆豐國際商銀駐外交部簡易型分行  http://www.megabank.com.tw  \n",
       "2  02-23814567   遠東國際商業銀行台北襄陽分行      http://www.feib.com.tw  \n",
       "3  02-23123636      遠東國際商業銀行信託部      http://www.feib.com.tw  \n",
       "4  02-23411001         臺灣銀行群賢分行       http://www.bot.com.tw  "
      ]
     },
     "execution_count": 54,
     "metadata": {},
     "output_type": "execute_result"
    }
   ],
   "source": [
    "import pandas\n",
    "df = pandas.DataFrame(jd['financeInfos'])\n",
    "df.head()"
   ]
  },
  {
   "cell_type": "code",
   "execution_count": 51,
   "metadata": {
    "collapsed": false
   },
   "outputs": [
    {
     "data": {
      "text/plain": [
       "addr        3597\n",
       "distance    3597\n",
       "fax         3597\n",
       "id          3597\n",
       "idNumber    3597\n",
       "lat         3597\n",
       "lon         3597\n",
       "picUrl      3597\n",
       "tel         3597\n",
       "title       3597\n",
       "url         3597\n",
       "dtype: int64"
      ]
     },
     "execution_count": 51,
     "metadata": {},
     "output_type": "execute_result"
    }
   ],
   "source": [
    "df.count()"
   ]
  },
  {
   "cell_type": "code",
   "execution_count": 55,
   "metadata": {
    "collapsed": true
   },
   "outputs": [],
   "source": [
    "df.to_excel('bank.xlsx')"
   ]
  },
  {
   "cell_type": "code",
   "execution_count": 56,
   "metadata": {
    "collapsed": true
   },
   "outputs": [],
   "source": [
    "df.to_csv('bank.csv',encoding='utf-8')"
   ]
  },
  {
   "cell_type": "code",
   "execution_count": 71,
   "metadata": {
    "collapsed": false
   },
   "outputs": [
    {
     "name": "stdout",
     "output_type": "stream",
     "text": [
      "合作金庫商業銀行\n",
      "兆豐國際商銀\n",
      "合作金庫商業\n",
      "兆豐國際\n"
     ]
    }
   ],
   "source": [
    "bank = '合作金庫商業銀行台大分行'\n",
    "print bank.split('銀行')[0] + '銀行'\n",
    "\n",
    "bank2 = '兆豐國際商銀駐外交部簡易型分行'\n",
    "print bank2.split('商銀')[0] + '商銀'\n",
    "\n",
    "\n",
    "banks = ['合作金庫商業銀行台大分行', '兆豐國際商銀駐外交部簡易型分行']\n",
    "import re\n",
    "for b in banks:\n",
    "    print re.split('銀行|商銀', b)[0]"
   ]
  },
  {
   "cell_type": "code",
   "execution_count": 75,
   "metadata": {
    "collapsed": false
   },
   "outputs": [
    {
     "data": {
      "text/html": [
       "<div>\n",
       "<table border=\"1\" class=\"dataframe\">\n",
       "  <thead>\n",
       "    <tr style=\"text-align: right;\">\n",
       "      <th></th>\n",
       "      <th>addr</th>\n",
       "      <th>distance</th>\n",
       "      <th>fax</th>\n",
       "      <th>id</th>\n",
       "      <th>idNumber</th>\n",
       "      <th>lat</th>\n",
       "      <th>lon</th>\n",
       "      <th>picUrl</th>\n",
       "      <th>tel</th>\n",
       "      <th>title</th>\n",
       "      <th>url</th>\n",
       "      <th>branch</th>\n",
       "    </tr>\n",
       "  </thead>\n",
       "  <tbody>\n",
       "    <tr>\n",
       "      <th>0</th>\n",
       "      <td>台北市中正區中山南路7號地下1樓</td>\n",
       "      <td>0.19140462862023078</td>\n",
       "      <td></td>\n",
       "      <td>10030131414</td>\n",
       "      <td>0061346</td>\n",
       "      <td>25.04041</td>\n",
       "      <td>121.51988</td>\n",
       "      <td>http://163.29.133.20:8080/FscWs/images/1_ICON.png</td>\n",
       "      <td>02-23568071</td>\n",
       "      <td>合作金庫商業銀行台大分行</td>\n",
       "      <td>http://www.tcb-bank.com.tw</td>\n",
       "      <td>合作金庫商業</td>\n",
       "    </tr>\n",
       "    <tr>\n",
       "      <th>1</th>\n",
       "      <td>凱達格蘭大道2號129室</td>\n",
       "      <td>0.28884717223771683</td>\n",
       "      <td></td>\n",
       "      <td>10030211219</td>\n",
       "      <td>0170860</td>\n",
       "      <td>25.038946</td>\n",
       "      <td>121.51635</td>\n",
       "      <td>http://163.29.133.20:8080/FscWs/images/1_ICON.png</td>\n",
       "      <td>02-23482066</td>\n",
       "      <td>兆豐國際商銀駐外交部簡易型分行</td>\n",
       "      <td>http://www.megabank.com.tw</td>\n",
       "      <td>兆豐國際</td>\n",
       "    </tr>\n",
       "    <tr>\n",
       "      <th>2</th>\n",
       "      <td>台北市中正區襄陽路1號一、二樓</td>\n",
       "      <td>0.32562426633459907</td>\n",
       "      <td></td>\n",
       "      <td>10031134190</td>\n",
       "      <td>8050023</td>\n",
       "      <td>25.043497</td>\n",
       "      <td>121.51642</td>\n",
       "      <td>http://163.29.133.20:8080/FscWs/images/1_ICON.png</td>\n",
       "      <td>02-23814567</td>\n",
       "      <td>遠東國際商業銀行台北襄陽分行</td>\n",
       "      <td>http://www.feib.com.tw</td>\n",
       "      <td>遠東國際商業</td>\n",
       "    </tr>\n",
       "    <tr>\n",
       "      <th>3</th>\n",
       "      <td>台北市襄陽路1號5樓</td>\n",
       "      <td>0.32562426633459907</td>\n",
       "      <td></td>\n",
       "      <td>10031134199</td>\n",
       "      <td>8050126</td>\n",
       "      <td>25.043497</td>\n",
       "      <td>121.51642</td>\n",
       "      <td>http://163.29.133.20:8080/FscWs/images/1_ICON.png</td>\n",
       "      <td>02-23123636</td>\n",
       "      <td>遠東國際商業銀行信託部</td>\n",
       "      <td>http://www.feib.com.tw</td>\n",
       "      <td>遠東國際商業</td>\n",
       "    </tr>\n",
       "    <tr>\n",
       "      <th>4</th>\n",
       "      <td>台北市中正區中山南路一號一樓及地下一樓</td>\n",
       "      <td>0.3517530794964405</td>\n",
       "      <td></td>\n",
       "      <td>1003008997</td>\n",
       "      <td>0041621</td>\n",
       "      <td>25.043894</td>\n",
       "      <td>121.5195</td>\n",
       "      <td>http://163.29.133.20:8080/FscWs/images/1_ICON.png</td>\n",
       "      <td>02-23411001</td>\n",
       "      <td>臺灣銀行群賢分行</td>\n",
       "      <td>http://www.bot.com.tw</td>\n",
       "      <td>臺灣</td>\n",
       "    </tr>\n",
       "  </tbody>\n",
       "</table>\n",
       "</div>"
      ],
      "text/plain": [
       "                  addr             distance fax           id idNumber  \\\n",
       "0     台北市中正區中山南路7號地下1樓  0.19140462862023078      10030131414  0061346   \n",
       "1         凱達格蘭大道2號129室  0.28884717223771683      10030211219  0170860   \n",
       "2      台北市中正區襄陽路1號一、二樓  0.32562426633459907      10031134190  8050023   \n",
       "3           台北市襄陽路1號5樓  0.32562426633459907      10031134199  8050126   \n",
       "4  台北市中正區中山南路一號一樓及地下一樓   0.3517530794964405       1003008997  0041621   \n",
       "\n",
       "         lat        lon                                             picUrl  \\\n",
       "0   25.04041  121.51988  http://163.29.133.20:8080/FscWs/images/1_ICON.png   \n",
       "1  25.038946  121.51635  http://163.29.133.20:8080/FscWs/images/1_ICON.png   \n",
       "2  25.043497  121.51642  http://163.29.133.20:8080/FscWs/images/1_ICON.png   \n",
       "3  25.043497  121.51642  http://163.29.133.20:8080/FscWs/images/1_ICON.png   \n",
       "4  25.043894   121.5195  http://163.29.133.20:8080/FscWs/images/1_ICON.png   \n",
       "\n",
       "           tel            title                         url  branch  \n",
       "0  02-23568071     合作金庫商業銀行台大分行  http://www.tcb-bank.com.tw  合作金庫商業  \n",
       "1  02-23482066  兆豐國際商銀駐外交部簡易型分行  http://www.megabank.com.tw    兆豐國際  \n",
       "2  02-23814567   遠東國際商業銀行台北襄陽分行      http://www.feib.com.tw  遠東國際商業  \n",
       "3  02-23123636      遠東國際商業銀行信託部      http://www.feib.com.tw  遠東國際商業  \n",
       "4  02-23411001         臺灣銀行群賢分行       http://www.bot.com.tw      臺灣  "
      ]
     },
     "execution_count": 75,
     "metadata": {},
     "output_type": "execute_result"
    }
   ],
   "source": [
    "import pandas\n",
    "import re\n",
    "df = pandas.DataFrame(jd['financeInfos'])\n",
    "df['branch'] = df['title'].map(lambda e: re.split(u'銀行|商銀', e)[0])\n",
    "df.head()"
   ]
  },
  {
   "cell_type": "markdown",
   "metadata": {},
   "source": [
    "## 處理CSV 資料"
   ]
  },
  {
   "cell_type": "code",
   "execution_count": 79,
   "metadata": {
    "collapsed": false
   },
   "outputs": [],
   "source": [
    "import pandas\n",
    "df = pandas.read_csv('A_lvr_land_A2.CSV', encoding = 'big5')"
   ]
  },
  {
   "cell_type": "code",
   "execution_count": 81,
   "metadata": {
    "collapsed": false
   },
   "outputs": [
    {
     "data": {
      "text/html": [
       "<div>\n",
       "<table border=\"1\" class=\"dataframe\">\n",
       "  <thead>\n",
       "    <tr style=\"text-align: right;\">\n",
       "      <th></th>\n",
       "      <th>鄉鎮市區</th>\n",
       "      <th>交易標的</th>\n",
       "      <th>土地區段位置或建物區門牌</th>\n",
       "      <th>土地移轉總面積平方公尺</th>\n",
       "      <th>都市土地使用分區</th>\n",
       "      <th>非都市土地使用分區</th>\n",
       "      <th>非都市土地使用編定</th>\n",
       "      <th>交易年月日</th>\n",
       "      <th>交易筆棟數</th>\n",
       "      <th>移轉層次</th>\n",
       "      <th>...</th>\n",
       "      <th>建物現況格局-衛</th>\n",
       "      <th>建物現況格局-隔間</th>\n",
       "      <th>有無管理組織</th>\n",
       "      <th>總價元</th>\n",
       "      <th>單價每平方公尺</th>\n",
       "      <th>車位類別</th>\n",
       "      <th>車位移轉總面積平方公尺</th>\n",
       "      <th>車位總價元</th>\n",
       "      <th>備註</th>\n",
       "      <th>編號</th>\n",
       "    </tr>\n",
       "  </thead>\n",
       "  <tbody>\n",
       "    <tr>\n",
       "      <th>0</th>\n",
       "      <td>文山區</td>\n",
       "      <td>房地(土地+建物)+車位</td>\n",
       "      <td>臺北市文山區羅斯福路五段236巷3弄31~60號</td>\n",
       "      <td>53.41</td>\n",
       "      <td>住</td>\n",
       "      <td>NaN</td>\n",
       "      <td>NaN</td>\n",
       "      <td>1050115</td>\n",
       "      <td>土地1建物1車位1</td>\n",
       "      <td>二層</td>\n",
       "      <td>...</td>\n",
       "      <td>1</td>\n",
       "      <td>有</td>\n",
       "      <td>有</td>\n",
       "      <td>29300000</td>\n",
       "      <td>151523.0</td>\n",
       "      <td>坡道平面</td>\n",
       "      <td>0.00</td>\n",
       "      <td>0</td>\n",
       "      <td>NaN</td>\n",
       "      <td>RPTNMLOJKHLFFAA27CA</td>\n",
       "    </tr>\n",
       "    <tr>\n",
       "      <th>1</th>\n",
       "      <td>文山區</td>\n",
       "      <td>房地(土地+建物)+車位</td>\n",
       "      <td>臺北市文山區指南路三段32巷1~30號</td>\n",
       "      <td>13.34</td>\n",
       "      <td>住</td>\n",
       "      <td>NaN</td>\n",
       "      <td>NaN</td>\n",
       "      <td>1050113</td>\n",
       "      <td>土地2建物1車位1</td>\n",
       "      <td>五層</td>\n",
       "      <td>...</td>\n",
       "      <td>1</td>\n",
       "      <td>有</td>\n",
       "      <td>有</td>\n",
       "      <td>9880000</td>\n",
       "      <td>150243.0</td>\n",
       "      <td>塔式車位</td>\n",
       "      <td>5.75</td>\n",
       "      <td>0</td>\n",
       "      <td>內含獨立產權車位未包含在棟數內含增建或未登記建物。</td>\n",
       "      <td>RPPNMLOJKHLFFAA86CA</td>\n",
       "    </tr>\n",
       "    <tr>\n",
       "      <th>2</th>\n",
       "      <td>文山區</td>\n",
       "      <td>房地(土地+建物)+車位</td>\n",
       "      <td>臺北市文山區政大二街260巷1~30號</td>\n",
       "      <td>123.49</td>\n",
       "      <td>住</td>\n",
       "      <td>NaN</td>\n",
       "      <td>NaN</td>\n",
       "      <td>1050121</td>\n",
       "      <td>土地1建物1車位2</td>\n",
       "      <td>五層，夾層</td>\n",
       "      <td>...</td>\n",
       "      <td>2</td>\n",
       "      <td>有</td>\n",
       "      <td>有</td>\n",
       "      <td>53329000</td>\n",
       "      <td>190570.0</td>\n",
       "      <td>坡道平面</td>\n",
       "      <td>51.89</td>\n",
       "      <td>4000000</td>\n",
       "      <td>NaN</td>\n",
       "      <td>RPVNMLMLKHLFFAA47CA</td>\n",
       "    </tr>\n",
       "    <tr>\n",
       "      <th>3</th>\n",
       "      <td>文山區</td>\n",
       "      <td>房地(土地+建物)</td>\n",
       "      <td>臺北市文山區仙岩路16巷1~30號</td>\n",
       "      <td>34.73</td>\n",
       "      <td>住</td>\n",
       "      <td>NaN</td>\n",
       "      <td>NaN</td>\n",
       "      <td>1050106</td>\n",
       "      <td>土地4建物1車位0</td>\n",
       "      <td>三層</td>\n",
       "      <td>...</td>\n",
       "      <td>1</td>\n",
       "      <td>有</td>\n",
       "      <td>無</td>\n",
       "      <td>6000000</td>\n",
       "      <td>70423.0</td>\n",
       "      <td>NaN</td>\n",
       "      <td>0.00</td>\n",
       "      <td>0</td>\n",
       "      <td>受債權債務影響或債務抵償之交易。</td>\n",
       "      <td>RPXNMLNLKHLFFAA77CA</td>\n",
       "    </tr>\n",
       "    <tr>\n",
       "      <th>4</th>\n",
       "      <td>中正區</td>\n",
       "      <td>房地(土地+建物)</td>\n",
       "      <td>臺北市中正區重慶南路三段16巷1~30號</td>\n",
       "      <td>42.13</td>\n",
       "      <td>住</td>\n",
       "      <td>NaN</td>\n",
       "      <td>NaN</td>\n",
       "      <td>1041208</td>\n",
       "      <td>土地2建物1車位0</td>\n",
       "      <td>四層</td>\n",
       "      <td>...</td>\n",
       "      <td>2</td>\n",
       "      <td>有</td>\n",
       "      <td>無</td>\n",
       "      <td>41000000</td>\n",
       "      <td>182628.0</td>\n",
       "      <td>NaN</td>\n",
       "      <td>0.00</td>\n",
       "      <td>0</td>\n",
       "      <td>本次價款不含車位，但權狀內登記有一個車位。</td>\n",
       "      <td>RPSNMLOLKHLFFAA37CA</td>\n",
       "    </tr>\n",
       "  </tbody>\n",
       "</table>\n",
       "<p>5 rows × 28 columns</p>\n",
       "</div>"
      ],
      "text/plain": [
       "  鄉鎮市區          交易標的              土地區段位置或建物區門牌  土地移轉總面積平方公尺 都市土地使用分區  \\\n",
       "0  文山區  房地(土地+建物)+車位  臺北市文山區羅斯福路五段236巷3弄31~60號        53.41        住   \n",
       "1  文山區  房地(土地+建物)+車位       臺北市文山區指南路三段32巷1~30號        13.34        住   \n",
       "2  文山區  房地(土地+建物)+車位       臺北市文山區政大二街260巷1~30號       123.49        住   \n",
       "3  文山區     房地(土地+建物)         臺北市文山區仙岩路16巷1~30號        34.73        住   \n",
       "4  中正區     房地(土地+建物)      臺北市中正區重慶南路三段16巷1~30號        42.13        住   \n",
       "\n",
       "   非都市土地使用分區  非都市土地使用編定    交易年月日      交易筆棟數   移轉層次         ...           \\\n",
       "0        NaN        NaN  1050115  土地1建物1車位1     二層         ...            \n",
       "1        NaN        NaN  1050113  土地2建物1車位1     五層         ...            \n",
       "2        NaN        NaN  1050121  土地1建物1車位2  五層，夾層         ...            \n",
       "3        NaN        NaN  1050106  土地4建物1車位0     三層         ...            \n",
       "4        NaN        NaN  1041208  土地2建物1車位0     四層         ...            \n",
       "\n",
       "  建物現況格局-衛 建物現況格局-隔間 有無管理組織       總價元   單價每平方公尺  車位類別  車位移轉總面積平方公尺    車位總價元  \\\n",
       "0        1         有      有  29300000  151523.0  坡道平面         0.00        0   \n",
       "1        1         有      有   9880000  150243.0  塔式車位         5.75        0   \n",
       "2        2         有      有  53329000  190570.0  坡道平面        51.89  4000000   \n",
       "3        1         有      無   6000000   70423.0   NaN         0.00        0   \n",
       "4        2         有      無  41000000  182628.0   NaN         0.00        0   \n",
       "\n",
       "                          備註                   編號  \n",
       "0                        NaN  RPTNMLOJKHLFFAA27CA  \n",
       "1  內含獨立產權車位未包含在棟數內含增建或未登記建物。  RPPNMLOJKHLFFAA86CA  \n",
       "2                        NaN  RPVNMLMLKHLFFAA47CA  \n",
       "3           受債權債務影響或債務抵償之交易。  RPXNMLNLKHLFFAA77CA  \n",
       "4      本次價款不含車位，但權狀內登記有一個車位。  RPSNMLOLKHLFFAA37CA  \n",
       "\n",
       "[5 rows x 28 columns]"
      ]
     },
     "execution_count": 81,
     "metadata": {},
     "output_type": "execute_result"
    }
   ],
   "source": [
    "df.head()"
   ]
  },
  {
   "cell_type": "code",
   "execution_count": 82,
   "metadata": {
    "collapsed": false
   },
   "outputs": [
    {
     "name": "stderr",
     "output_type": "stream",
     "text": [
      "C:\\Anaconda2\\lib\\site-packages\\numpy\\lib\\function_base.py:3834: RuntimeWarning: Invalid value encountered in percentile\n",
      "  RuntimeWarning)\n"
     ]
    },
    {
     "data": {
      "text/html": [
       "<div>\n",
       "<table border=\"1\" class=\"dataframe\">\n",
       "  <thead>\n",
       "    <tr style=\"text-align: right;\">\n",
       "      <th></th>\n",
       "      <th>土地移轉總面積平方公尺</th>\n",
       "      <th>非都市土地使用分區</th>\n",
       "      <th>非都市土地使用編定</th>\n",
       "      <th>交易年月日</th>\n",
       "      <th>建築完成年月</th>\n",
       "      <th>建物移轉總面積平方公尺</th>\n",
       "      <th>建物現況格局-房</th>\n",
       "      <th>建物現況格局-廳</th>\n",
       "      <th>建物現況格局-衛</th>\n",
       "      <th>總價元</th>\n",
       "      <th>單價每平方公尺</th>\n",
       "      <th>車位移轉總面積平方公尺</th>\n",
       "      <th>車位總價元</th>\n",
       "    </tr>\n",
       "  </thead>\n",
       "  <tbody>\n",
       "    <tr>\n",
       "      <th>count</th>\n",
       "      <td>3169.000000</td>\n",
       "      <td>0.0</td>\n",
       "      <td>0.0</td>\n",
       "      <td>3.169000e+03</td>\n",
       "      <td>2.439000e+03</td>\n",
       "      <td>3169.000000</td>\n",
       "      <td>3169.000000</td>\n",
       "      <td>3169.000000</td>\n",
       "      <td>3169.000000</td>\n",
       "      <td>3.169000e+03</td>\n",
       "      <td>2.927000e+03</td>\n",
       "      <td>3169.000000</td>\n",
       "      <td>3.169000e+03</td>\n",
       "    </tr>\n",
       "    <tr>\n",
       "      <th>mean</th>\n",
       "      <td>50.800293</td>\n",
       "      <td>NaN</td>\n",
       "      <td>NaN</td>\n",
       "      <td>1.046957e+06</td>\n",
       "      <td>8.439693e+05</td>\n",
       "      <td>117.244418</td>\n",
       "      <td>1.922057</td>\n",
       "      <td>1.206374</td>\n",
       "      <td>1.233197</td>\n",
       "      <td>2.396605e+07</td>\n",
       "      <td>1.828752e+05</td>\n",
       "      <td>10.303888</td>\n",
       "      <td>4.421876e+05</td>\n",
       "    </tr>\n",
       "    <tr>\n",
       "      <th>std</th>\n",
       "      <td>290.243407</td>\n",
       "      <td>NaN</td>\n",
       "      <td>NaN</td>\n",
       "      <td>7.410411e+03</td>\n",
       "      <td>1.498355e+05</td>\n",
       "      <td>251.902454</td>\n",
       "      <td>3.372298</td>\n",
       "      <td>0.888164</td>\n",
       "      <td>3.234650</td>\n",
       "      <td>1.020623e+08</td>\n",
       "      <td>1.297473e+05</td>\n",
       "      <td>26.012910</td>\n",
       "      <td>1.375691e+06</td>\n",
       "    </tr>\n",
       "    <tr>\n",
       "      <th>min</th>\n",
       "      <td>0.000000</td>\n",
       "      <td>NaN</td>\n",
       "      <td>NaN</td>\n",
       "      <td>9.611230e+05</td>\n",
       "      <td>1.800000e+01</td>\n",
       "      <td>0.000000</td>\n",
       "      <td>0.000000</td>\n",
       "      <td>0.000000</td>\n",
       "      <td>0.000000</td>\n",
       "      <td>0.000000e+00</td>\n",
       "      <td>0.000000e+00</td>\n",
       "      <td>0.000000</td>\n",
       "      <td>0.000000e+00</td>\n",
       "    </tr>\n",
       "    <tr>\n",
       "      <th>25%</th>\n",
       "      <td>8.570000</td>\n",
       "      <td>NaN</td>\n",
       "      <td>NaN</td>\n",
       "      <td>1.050102e+06</td>\n",
       "      <td>NaN</td>\n",
       "      <td>41.140000</td>\n",
       "      <td>0.000000</td>\n",
       "      <td>0.000000</td>\n",
       "      <td>0.000000</td>\n",
       "      <td>6.500000e+06</td>\n",
       "      <td>NaN</td>\n",
       "      <td>0.000000</td>\n",
       "      <td>0.000000e+00</td>\n",
       "    </tr>\n",
       "    <tr>\n",
       "      <th>50%</th>\n",
       "      <td>21.600000</td>\n",
       "      <td>NaN</td>\n",
       "      <td>NaN</td>\n",
       "      <td>1.050202e+06</td>\n",
       "      <td>NaN</td>\n",
       "      <td>87.260000</td>\n",
       "      <td>2.000000</td>\n",
       "      <td>1.000000</td>\n",
       "      <td>1.000000</td>\n",
       "      <td>1.310000e+07</td>\n",
       "      <td>NaN</td>\n",
       "      <td>0.000000</td>\n",
       "      <td>0.000000e+00</td>\n",
       "    </tr>\n",
       "    <tr>\n",
       "      <th>75%</th>\n",
       "      <td>35.600000</td>\n",
       "      <td>NaN</td>\n",
       "      <td>NaN</td>\n",
       "      <td>1.050309e+06</td>\n",
       "      <td>NaN</td>\n",
       "      <td>135.850000</td>\n",
       "      <td>3.000000</td>\n",
       "      <td>2.000000</td>\n",
       "      <td>2.000000</td>\n",
       "      <td>2.400000e+07</td>\n",
       "      <td>NaN</td>\n",
       "      <td>0.000000</td>\n",
       "      <td>0.000000e+00</td>\n",
       "    </tr>\n",
       "    <tr>\n",
       "      <th>max</th>\n",
       "      <td>11730.800000</td>\n",
       "      <td>NaN</td>\n",
       "      <td>NaN</td>\n",
       "      <td>1.050427e+06</td>\n",
       "      <td>1.050311e+06</td>\n",
       "      <td>8911.920000</td>\n",
       "      <td>168.000000</td>\n",
       "      <td>5.000000</td>\n",
       "      <td>174.000000</td>\n",
       "      <td>4.950000e+09</td>\n",
       "      <td>2.080354e+06</td>\n",
       "      <td>631.070000</td>\n",
       "      <td>2.065000e+07</td>\n",
       "    </tr>\n",
       "  </tbody>\n",
       "</table>\n",
       "</div>"
      ],
      "text/plain": [
       "        土地移轉總面積平方公尺  非都市土地使用分區  非都市土地使用編定         交易年月日        建築完成年月  \\\n",
       "count   3169.000000        0.0        0.0  3.169000e+03  2.439000e+03   \n",
       "mean      50.800293        NaN        NaN  1.046957e+06  8.439693e+05   \n",
       "std      290.243407        NaN        NaN  7.410411e+03  1.498355e+05   \n",
       "min        0.000000        NaN        NaN  9.611230e+05  1.800000e+01   \n",
       "25%        8.570000        NaN        NaN  1.050102e+06           NaN   \n",
       "50%       21.600000        NaN        NaN  1.050202e+06           NaN   \n",
       "75%       35.600000        NaN        NaN  1.050309e+06           NaN   \n",
       "max    11730.800000        NaN        NaN  1.050427e+06  1.050311e+06   \n",
       "\n",
       "       建物移轉總面積平方公尺     建物現況格局-房     建物現況格局-廳     建物現況格局-衛           總價元  \\\n",
       "count  3169.000000  3169.000000  3169.000000  3169.000000  3.169000e+03   \n",
       "mean    117.244418     1.922057     1.206374     1.233197  2.396605e+07   \n",
       "std     251.902454     3.372298     0.888164     3.234650  1.020623e+08   \n",
       "min       0.000000     0.000000     0.000000     0.000000  0.000000e+00   \n",
       "25%      41.140000     0.000000     0.000000     0.000000  6.500000e+06   \n",
       "50%      87.260000     2.000000     1.000000     1.000000  1.310000e+07   \n",
       "75%     135.850000     3.000000     2.000000     2.000000  2.400000e+07   \n",
       "max    8911.920000   168.000000     5.000000   174.000000  4.950000e+09   \n",
       "\n",
       "            單價每平方公尺  車位移轉總面積平方公尺         車位總價元  \n",
       "count  2.927000e+03  3169.000000  3.169000e+03  \n",
       "mean   1.828752e+05    10.303888  4.421876e+05  \n",
       "std    1.297473e+05    26.012910  1.375691e+06  \n",
       "min    0.000000e+00     0.000000  0.000000e+00  \n",
       "25%             NaN     0.000000  0.000000e+00  \n",
       "50%             NaN     0.000000  0.000000e+00  \n",
       "75%             NaN     0.000000  0.000000e+00  \n",
       "max    2.080354e+06   631.070000  2.065000e+07  "
      ]
     },
     "execution_count": 82,
     "metadata": {},
     "output_type": "execute_result"
    }
   ],
   "source": [
    "df.describe()"
   ]
  },
  {
   "cell_type": "code",
   "execution_count": 89,
   "metadata": {
    "collapsed": false
   },
   "outputs": [
    {
     "name": "stdout",
     "output_type": "stream",
     "text": [
      "553197.48\n"
     ]
    }
   ],
   "source": [
    "print (1.828752 * 10e5 ) * 0.3025"
   ]
  },
  {
   "cell_type": "markdown",
   "metadata": {},
   "source": [
    "## 下載檔案"
   ]
  },
  {
   "cell_type": "code",
   "execution_count": 90,
   "metadata": {
    "collapsed": true
   },
   "outputs": [],
   "source": [
    "import requests \n",
    "import shutil\n",
    "res = requests.get('http://plvr.land.moi.gov.tw/DownloadHistory?type=season&fileName=104S3', stream=True)\n",
    "with open('104S3.zip', 'wb') as f:\n",
    "    shutil.copyfileobj(res.raw, f)"
   ]
  },
  {
   "cell_type": "markdown",
   "metadata": {},
   "source": [
    "## 下載電話圖檔"
   ]
  },
  {
   "cell_type": "code",
   "execution_count": 92,
   "metadata": {
    "collapsed": false
   },
   "outputs": [],
   "source": [
    "import requests\n",
    "import shutil \n",
    "res = requests.get('https://statics.591.com.tw/tools/showPhone.php?txtcolor=black&info_data=quReZOkT%2FethF%2FeskWnZ%2BwJWOA&type=rLEFMu4XrrpgEw', stream=True)\n",
    "with open('phone.png', 'wb') as f:\n",
    "    shutil.copyfileobj(res.raw, f)"
   ]
  },
  {
   "cell_type": "code",
   "execution_count": 93,
   "metadata": {
    "collapsed": false
   },
   "outputs": [
    {
     "data": {
      "image/png": "[encoded data removed]",
      "text/plain": [
       "<PIL.PngImagePlugin.PngImageFile image mode=P size=180x30 at 0xA28F048>"
      ]
     },
     "execution_count": 93,
     "metadata": {},
     "output_type": "execute_result"
    }
   ],
   "source": [
    "from PIL import Image\n",
    "Image.open('phone.png')"
   ]
  },
  {
   "cell_type": "markdown",
   "metadata": {},
   "source": [
    "## 安裝 pytesseract\n",
    "- pip install pytesseract"
   ]
  },
  {
   "cell_type": "code",
   "execution_count": 4,
   "metadata": {
    "collapsed": false
   },
   "outputs": [],
   "source": [
    "from pytesseract import image_to_string\n",
    "from PIL import Image\n",
    "#print image_to_string(Image.open('phone.png'))"
   ]
  },
  {
   "cell_type": "code",
   "execution_count": 12,
   "metadata": {
    "collapsed": true
   },
   "outputs": [],
   "source": [
    "videourl = 'https://r3---sn-ipoxu-un5d.googlevideo.com/videoplayback?sparams=clen%2Cdur%2Cei%2Cgir%2Cid%2Cinitcwndbps%2Cip%2Cipbits%2Citag%2Ckeepalive%2Clmt%2Cmime%2Cmm%2Cmn%2Cms%2Cmv%2Cpcm2cms%2Cpl%2Crequiressl%2Csource%2Cupn%2Cexpire&requiressl=yes&id=o-AHPkQL1YAlx51MYnG4E6uhLX8Zt7fSZScQNYureQUAYK&ei=3Z3wV5KhCcHu4gK8hqjIAw&dur=51.281&mv=m&mime=audio%2Fwebm&pl=24&itag=251&pcm2cms=yes&expire=1475408445&upn=yneD7MfzpwU&lmt=1474857423983945&source=youtube&clen=813682&ip=125.227.255.79&key=yt6&keepalive=yes&mn=sn-ipoxu-un5d&mm=31&gir=yes&initcwndbps=2380000&mt=1475386502&ms=au&ipbits=0&cpn=aOByrfg9WzSifP8R&alr=yes&ratebypass=yes&signature=498F8861C3C2035581590CD00E96BFF17448D7F7.53D387FB0C5B3B3830950FCA7A83BE4F4950F83D&c=WEB&cver=1.20160929&range=445603-813681&rn=7&rbuf=29351'"
   ]
  },
  {
   "cell_type": "code",
   "execution_count": 13,
   "metadata": {
    "collapsed": true
   },
   "outputs": [],
   "source": [
    "import requests\n",
    "import shutil \n",
    "headers = {\n",
    "'Origin':'https://www.youtube.com',\n",
    "'Referer':'https://www.youtube.com/watch?v=m_ofsmGlFIo',\n",
    "'User-Agent':'Mozilla/5.0 (Windows NT 6.1; WOW64) AppleWebKit/537.36 (KHTML, like Gecko) Chrome/53.0.2785.116 Safari/537.36'\n",
    "    \n",
    "}\n",
    "res = requests.get(videourl, stream=True, headers = headers)\n",
    "with open('ppap.mp4', 'wb') as f:\n",
    "    shutil.copyfileobj(res.raw, f)"
   ]
  },
  {
   "cell_type": "markdown",
   "metadata": {},
   "source": [
    "## 各產業EPS統計資訊"
   ]
  },
  {
   "cell_type": "code",
   "execution_count": 17,
   "metadata": {
    "collapsed": false
   },
   "outputs": [],
   "source": [
    "import requests\n",
    "payload= {\n",
    "'encodeURIComponent':'1',\n",
    "'step':'1',\n",
    "'firstin':'1',\n",
    "'TYPEK':'sii',\n",
    "'code':'01',\n",
    "'year':'103',\n",
    "'season':'01'\n",
    "}\n",
    "\n",
    "res = requests.post('http://mops.twse.com.tw/mops/web/ajax_t163sb19', data = payload)\n",
    "res.encoding = 'utf-8'\n",
    "#print res.text"
   ]
  },
  {
   "cell_type": "markdown",
   "metadata": {},
   "source": [
    "## HTML Table"
   ]
  },
  {
   "cell_type": "markdown",
   "metadata": {},
   "source": [
    "<table>\n",
    "    <tr><td> 1 </td><td> 2 </td></tr>\n",
    "    <tr><td> 1 </td><td> 2 </td></tr>\n",
    "    <tr><td> 1 </td><td> 2 </td></tr>\n",
    "    <tr><td> 1 </td><td> 2 </td></tr>\n",
    "</table>"
   ]
  },
  {
   "cell_type": "markdown",
   "metadata": {},
   "source": [
    "## 假設是使用BeautifulSoup 的做法 (不建議使用)"
   ]
  },
  {
   "cell_type": "code",
   "execution_count": 23,
   "metadata": {
    "collapsed": false
   },
   "outputs": [
    {
     "name": "stdout",
     "output_type": "stream",
     "text": [
      "1101 台灣水泥股份有限公司 水泥工業\n",
      "1102 亞洲水泥股份有限公司 水泥工業\n",
      "1104 環球水泥股份有限公司 水泥工業\n",
      "1109 信大水泥股份有限公司 水泥工業\n",
      "1108 幸福水泥股份有限公司 水泥工業\n",
      "1110 東南水泥股份有限公司 水泥工業\n"
     ]
    },
    {
     "ename": "IndexError",
     "evalue": "list index out of range",
     "output_type": "error",
     "traceback": [
      "\u001b[1;31m---------------------------------------------------------------------------\u001b[0m",
      "\u001b[1;31mIndexError\u001b[0m                                Traceback (most recent call last)",
      "\u001b[1;32m<ipython-input-23-bf417d9013c4>\u001b[0m in \u001b[0;36m<module>\u001b[1;34m()\u001b[0m\n\u001b[0;32m      4\u001b[0m \u001b[1;32mfor\u001b[0m \u001b[0mtr\u001b[0m \u001b[1;32min\u001b[0m \u001b[0mtable\u001b[0m\u001b[1;33m.\u001b[0m\u001b[0mselect\u001b[0m\u001b[1;33m(\u001b[0m\u001b[1;34m'tr'\u001b[0m\u001b[1;33m)\u001b[0m\u001b[1;33m[\u001b[0m\u001b[1;36m1\u001b[0m\u001b[1;33m:\u001b[0m\u001b[1;33m]\u001b[0m\u001b[1;33m:\u001b[0m\u001b[1;33m\u001b[0m\u001b[0m\n\u001b[0;32m      5\u001b[0m     \u001b[0mtd\u001b[0m \u001b[1;33m=\u001b[0m \u001b[0mtr\u001b[0m\u001b[1;33m.\u001b[0m\u001b[0mselect\u001b[0m\u001b[1;33m(\u001b[0m\u001b[1;34m'td'\u001b[0m\u001b[1;33m)\u001b[0m\u001b[1;33m\u001b[0m\u001b[0m\n\u001b[1;32m----> 6\u001b[1;33m     \u001b[1;32mprint\u001b[0m \u001b[0mtd\u001b[0m\u001b[1;33m[\u001b[0m\u001b[1;36m0\u001b[0m\u001b[1;33m]\u001b[0m\u001b[1;33m.\u001b[0m\u001b[0mtext\u001b[0m\u001b[1;33m,\u001b[0m \u001b[0mtd\u001b[0m\u001b[1;33m[\u001b[0m\u001b[1;36m1\u001b[0m\u001b[1;33m]\u001b[0m\u001b[1;33m.\u001b[0m\u001b[0mtext\u001b[0m\u001b[1;33m,\u001b[0m \u001b[0mtd\u001b[0m\u001b[1;33m[\u001b[0m\u001b[1;36m2\u001b[0m\u001b[1;33m]\u001b[0m\u001b[1;33m.\u001b[0m\u001b[0mtext\u001b[0m\u001b[1;33m\u001b[0m\u001b[0m\n\u001b[0m",
      "\u001b[1;31mIndexError\u001b[0m: list index out of range"
     ]
    }
   ],
   "source": [
    "from bs4 import BeautifulSoup as bs\n",
    "soup = bs(res.text)\n",
    "table = soup.select('table')[0]\n",
    "for tr in table.select('tr')[1:]:\n",
    "    td = tr.select('td')\n",
    "    print td[0].text, td[1].text, td[2].text"
   ]
  },
  {
   "cell_type": "markdown",
   "metadata": {},
   "source": [
    "## 使用Pandas"
   ]
  },
  {
   "cell_type": "code",
   "execution_count": 25,
   "metadata": {
    "collapsed": true
   },
   "outputs": [],
   "source": [
    "import pandas\n",
    "dfs = pandas.read_html(res.text)"
   ]
  },
  {
   "cell_type": "code",
   "execution_count": 27,
   "metadata": {
    "collapsed": false
   },
   "outputs": [],
   "source": [
    "# 取得list 裡面第一個data frame\n",
    "epsdf = dfs[0]"
   ]
  },
  {
   "cell_type": "code",
   "execution_count": 30,
   "metadata": {
    "collapsed": false
   },
   "outputs": [],
   "source": [
    "# 先將欄位名稱改成第0列的資料\n",
    "epsdf.columns = epsdf.loc[0]"
   ]
  },
  {
   "cell_type": "code",
   "execution_count": 33,
   "metadata": {
    "collapsed": false
   },
   "outputs": [
    {
     "data": {
      "text/plain": [
       "0     False\n",
       "1      True\n",
       "2      True\n",
       "3      True\n",
       "4      True\n",
       "5      True\n",
       "6      True\n",
       "7     False\n",
       "8      True\n",
       "9     False\n",
       "10    False\n",
       "Name: 公司代號, dtype: bool"
      ]
     },
     "execution_count": 33,
     "metadata": {},
     "output_type": "execute_result"
    }
   ],
   "source": [
    "# 抽取數字組成的公司代號\n",
    "epsdf[u'公司代號'].str.match('^[0-9]+')"
   ]
  },
  {
   "cell_type": "code",
   "execution_count": 35,
   "metadata": {
    "collapsed": false
   },
   "outputs": [],
   "source": [
    "epsdata = epsdf[epsdf[u'公司代號'].str.match('^[0-9]+')]"
   ]
  },
  {
   "cell_type": "code",
   "execution_count": 37,
   "metadata": {
    "collapsed": false
   },
   "outputs": [
    {
     "data": {
      "text/html": [
       "<div>\n",
       "<table border=\"1\" class=\"dataframe\">\n",
       "  <thead>\n",
       "    <tr style=\"text-align: right;\">\n",
       "      <th></th>\n",
       "      <th>公司代號</th>\n",
       "      <th>公司名稱</th>\n",
       "      <th>產業別</th>\n",
       "      <th>基本每股盈餘(元)</th>\n",
       "      <th>普通股每股面額</th>\n",
       "      <th>營業收入</th>\n",
       "      <th>營業利益</th>\n",
       "      <th>營業外收入及支出</th>\n",
       "      <th>稅後淨利</th>\n",
       "    </tr>\n",
       "  </thead>\n",
       "  <tbody>\n",
       "    <tr>\n",
       "      <th>1</th>\n",
       "      <td>1101</td>\n",
       "      <td>台灣水泥股份有限公司</td>\n",
       "      <td>水泥工業</td>\n",
       "      <td>0.50</td>\n",
       "      <td>新台幣 10.0000元</td>\n",
       "      <td>26716227</td>\n",
       "      <td>3684224</td>\n",
       "      <td>-133378</td>\n",
       "      <td>2791235</td>\n",
       "    </tr>\n",
       "    <tr>\n",
       "      <th>2</th>\n",
       "      <td>1102</td>\n",
       "      <td>亞洲水泥股份有限公司</td>\n",
       "      <td>水泥工業</td>\n",
       "      <td>0.47</td>\n",
       "      <td>新台幣 10.0000元</td>\n",
       "      <td>16256080</td>\n",
       "      <td>1637619</td>\n",
       "      <td>376460</td>\n",
       "      <td>1683231</td>\n",
       "    </tr>\n",
       "    <tr>\n",
       "      <th>3</th>\n",
       "      <td>1104</td>\n",
       "      <td>環球水泥股份有限公司</td>\n",
       "      <td>水泥工業</td>\n",
       "      <td>0.40</td>\n",
       "      <td>新台幣 10.0000元</td>\n",
       "      <td>1379161</td>\n",
       "      <td>47354</td>\n",
       "      <td>204613</td>\n",
       "      <td>240829</td>\n",
       "    </tr>\n",
       "    <tr>\n",
       "      <th>4</th>\n",
       "      <td>1109</td>\n",
       "      <td>信大水泥股份有限公司</td>\n",
       "      <td>水泥工業</td>\n",
       "      <td>0.20</td>\n",
       "      <td>新台幣 10.0000元</td>\n",
       "      <td>1192024</td>\n",
       "      <td>141243</td>\n",
       "      <td>-5246</td>\n",
       "      <td>107003</td>\n",
       "    </tr>\n",
       "    <tr>\n",
       "      <th>5</th>\n",
       "      <td>1108</td>\n",
       "      <td>幸福水泥股份有限公司</td>\n",
       "      <td>水泥工業</td>\n",
       "      <td>0.18</td>\n",
       "      <td>新台幣 10.0000元</td>\n",
       "      <td>1219347</td>\n",
       "      <td>102969</td>\n",
       "      <td>-16590</td>\n",
       "      <td>68510</td>\n",
       "    </tr>\n",
       "  </tbody>\n",
       "</table>\n",
       "</div>"
      ],
      "text/plain": [
       "0  公司代號        公司名稱   產業別 基本每股盈餘(元)       普通股每股面額      營業收入     營業利益 營業外收入及支出  \\\n",
       "1  1101  台灣水泥股份有限公司  水泥工業      0.50  新台幣 10.0000元  26716227  3684224  -133378   \n",
       "2  1102  亞洲水泥股份有限公司  水泥工業      0.47  新台幣 10.0000元  16256080  1637619   376460   \n",
       "3  1104  環球水泥股份有限公司  水泥工業      0.40  新台幣 10.0000元   1379161    47354   204613   \n",
       "4  1109  信大水泥股份有限公司  水泥工業      0.20  新台幣 10.0000元   1192024   141243    -5246   \n",
       "5  1108  幸福水泥股份有限公司  水泥工業      0.18  新台幣 10.0000元   1219347   102969   -16590   \n",
       "\n",
       "0     稅後淨利  \n",
       "1  2791235  \n",
       "2  1683231  \n",
       "3   240829  \n",
       "4   107003  \n",
       "5    68510  "
      ]
     },
     "execution_count": 37,
     "metadata": {},
     "output_type": "execute_result"
    }
   ],
   "source": [
    "epsdata.head()"
   ]
  },
  {
   "cell_type": "code",
   "execution_count": 38,
   "metadata": {
    "collapsed": true
   },
   "outputs": [],
   "source": [
    "epsdata.to_excel('eps.xlsx')"
   ]
  },
  {
   "cell_type": "code",
   "execution_count": null,
   "metadata": {
    "collapsed": true
   },
   "outputs": [],
   "source": []
  }
 ],
 "metadata": {
  "anaconda-cloud": {},
  "kernelspec": {
   "display_name": "Python [Root]",
   "language": "python",
   "name": "Python [Root]"
  },
  "language_info": {
   "codemirror_mode": {
    "name": "ipython",
    "version": 2
   },
   "file_extension": ".py",
   "mimetype": "text/x-python",
   "name": "python",
   "nbconvert_exporter": "python",
   "pygments_lexer": "ipython2",
   "version": "2.7.12"
  }
 },
 "nbformat": 4,
 "nbformat_minor": 0
}
