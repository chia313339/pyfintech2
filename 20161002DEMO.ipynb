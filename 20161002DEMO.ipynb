{
 "cells": [
  {
   "cell_type": "markdown",
   "metadata": {},
   "source": [
    "## 處理XML 資料"
   ]
  },
  {
   "cell_type": "code",
   "execution_count": 3,
   "metadata": {
    "collapsed": true
   },
   "outputs": [],
   "source": [
    "import xml.etree.ElementTree as ET\n",
    "tree = ET.parse('1.NBAGIR070_A20160908164642.xml')\n",
    "root = tree.getroot()"
   ]
  },
  {
   "cell_type": "code",
   "execution_count": 5,
   "metadata": {
    "collapsed": false
   },
   "outputs": [
    {
     "data": {
      "text/plain": [
       "<Element 'GenericData' at 0x3cf8400>"
      ]
     },
     "execution_count": 5,
     "metadata": {},
     "output_type": "execute_result"
    }
   ],
   "source": [
    "root"
   ]
  },
  {
   "cell_type": "code",
   "execution_count": 6,
   "metadata": {
    "collapsed": true
   },
   "outputs": [],
   "source": [
    "ds = root.find('DataSet')"
   ]
  },
  {
   "cell_type": "code",
   "execution_count": 8,
   "metadata": {
    "collapsed": false
   },
   "outputs": [
    {
     "data": {
      "text/plain": [
       "<Element 'DataSet' at 0x3c66a90>"
      ]
     },
     "execution_count": 8,
     "metadata": {},
     "output_type": "execute_result"
    }
   ],
   "source": [
    "ds"
   ]
  },
  {
   "cell_type": "code",
   "execution_count": 22,
   "metadata": {
    "collapsed": false
   },
   "outputs": [
    {
     "name": "stdout",
     "output_type": "stream",
     "text": [
      "1 01 基金來源 850000.00\n",
      "2 02 徵收及依法分配收入 850000.00\n",
      "3 03 違規罰款收入 850000.00\n",
      "4 02 財產收入 None\n",
      "5 03 利息收入 None\n",
      "6 01 基金用途 617000.00\n",
      "7 01 本期賸餘(短絀-) 233000.00\n",
      "8 01 期末基金餘額 None\n"
     ]
    }
   ],
   "source": [
    "for row in ds.iter('ROW'):\n",
    "    print row.find('SEQNO').text,\\\n",
    "          row.find('LEVEL').text,\\\n",
    "          row.find(u'科目-名稱').text,\\\n",
    "          row.find(u'本月份預算數').text  "
   ]
  },
  {
   "cell_type": "code",
   "execution_count": 27,
   "metadata": {
    "collapsed": false
   },
   "outputs": [],
   "source": [
    "bond_list = []\n",
    "for row in ds.iter('ROW'):\n",
    "    bond_dic = {}\n",
    "    for child in row:\n",
    "        bond_dic[child.tag] = child.text\n",
    "    bond_list.append(bond_dic)"
   ]
  },
  {
   "cell_type": "code",
   "execution_count": 29,
   "metadata": {
    "collapsed": false
   },
   "outputs": [
    {
     "data": {
      "text/html": [
       "<div>\n",
       "<table border=\"1\" class=\"dataframe\">\n",
       "  <thead>\n",
       "    <tr style=\"text-align: right;\">\n",
       "      <th></th>\n",
       "      <th>BOLD</th>\n",
       "      <th>LEVEL</th>\n",
       "      <th>SEQNO</th>\n",
       "      <th>本年度截至本月份累計實際數</th>\n",
       "      <th>本年度截至本月份累計比較增減</th>\n",
       "      <th>本年度截至本月份累計比較增減-百分比</th>\n",
       "      <th>本年度截至本月份累計預算數</th>\n",
       "      <th>本年度法定預算數</th>\n",
       "      <th>本月份實際數</th>\n",
       "      <th>本月份比較增減</th>\n",
       "      <th>本月份比較增減-百分比</th>\n",
       "      <th>本月份預算數</th>\n",
       "      <th>科目-名稱</th>\n",
       "      <th>科目-編號</th>\n",
       "    </tr>\n",
       "  </thead>\n",
       "  <tbody>\n",
       "    <tr>\n",
       "      <th>0</th>\n",
       "      <td>1</td>\n",
       "      <td>01</td>\n",
       "      <td>1</td>\n",
       "      <td>217463130.00</td>\n",
       "      <td>211973130.00</td>\n",
       "      <td>3861.08</td>\n",
       "      <td>5490000.00</td>\n",
       "      <td>12000000.00</td>\n",
       "      <td>4821000.00</td>\n",
       "      <td>3971000.00</td>\n",
       "      <td>467.18</td>\n",
       "      <td>850000.00</td>\n",
       "      <td>基金來源</td>\n",
       "      <td>4</td>\n",
       "    </tr>\n",
       "    <tr>\n",
       "      <th>1</th>\n",
       "      <td>1</td>\n",
       "      <td>02</td>\n",
       "      <td>2</td>\n",
       "      <td>217458000.00</td>\n",
       "      <td>211968000.00</td>\n",
       "      <td>3860.98</td>\n",
       "      <td>5490000.00</td>\n",
       "      <td>12000000.00</td>\n",
       "      <td>4821000.00</td>\n",
       "      <td>3971000.00</td>\n",
       "      <td>467.18</td>\n",
       "      <td>850000.00</td>\n",
       "      <td>徵收及依法分配收入</td>\n",
       "      <td>41</td>\n",
       "    </tr>\n",
       "    <tr>\n",
       "      <th>2</th>\n",
       "      <td>1</td>\n",
       "      <td>03</td>\n",
       "      <td>3</td>\n",
       "      <td>217458000.00</td>\n",
       "      <td>211968000.00</td>\n",
       "      <td>3860.98</td>\n",
       "      <td>5490000.00</td>\n",
       "      <td>12000000.00</td>\n",
       "      <td>4821000.00</td>\n",
       "      <td>3971000.00</td>\n",
       "      <td>467.18</td>\n",
       "      <td>850000.00</td>\n",
       "      <td>違規罰款收入</td>\n",
       "      <td>415</td>\n",
       "    </tr>\n",
       "    <tr>\n",
       "      <th>3</th>\n",
       "      <td>1</td>\n",
       "      <td>02</td>\n",
       "      <td>4</td>\n",
       "      <td>5130.00</td>\n",
       "      <td>5130.00</td>\n",
       "      <td>None</td>\n",
       "      <td>None</td>\n",
       "      <td>None</td>\n",
       "      <td>None</td>\n",
       "      <td>None</td>\n",
       "      <td>None</td>\n",
       "      <td>None</td>\n",
       "      <td>財產收入</td>\n",
       "      <td>45</td>\n",
       "    </tr>\n",
       "    <tr>\n",
       "      <th>4</th>\n",
       "      <td>1</td>\n",
       "      <td>03</td>\n",
       "      <td>5</td>\n",
       "      <td>5130.00</td>\n",
       "      <td>5130.00</td>\n",
       "      <td>None</td>\n",
       "      <td>None</td>\n",
       "      <td>None</td>\n",
       "      <td>None</td>\n",
       "      <td>None</td>\n",
       "      <td>None</td>\n",
       "      <td>None</td>\n",
       "      <td>利息收入</td>\n",
       "      <td>454</td>\n",
       "    </tr>\n",
       "    <tr>\n",
       "      <th>5</th>\n",
       "      <td>1</td>\n",
       "      <td>01</td>\n",
       "      <td>6</td>\n",
       "      <td>4155992.00</td>\n",
       "      <td>198992.00</td>\n",
       "      <td>5.03</td>\n",
       "      <td>3957000.00</td>\n",
       "      <td>10000000.00</td>\n",
       "      <td>603503.00</td>\n",
       "      <td>-13497.00</td>\n",
       "      <td>-2.19</td>\n",
       "      <td>617000.00</td>\n",
       "      <td>基金用途</td>\n",
       "      <td>5</td>\n",
       "    </tr>\n",
       "    <tr>\n",
       "      <th>6</th>\n",
       "      <td>1</td>\n",
       "      <td>01</td>\n",
       "      <td>7</td>\n",
       "      <td>213307138.00</td>\n",
       "      <td>211774138.00</td>\n",
       "      <td>13814.36</td>\n",
       "      <td>1533000.00</td>\n",
       "      <td>2000000.00</td>\n",
       "      <td>4217497.00</td>\n",
       "      <td>3984497.00</td>\n",
       "      <td>1710.08</td>\n",
       "      <td>233000.00</td>\n",
       "      <td>本期賸餘(短絀-)</td>\n",
       "      <td>6</td>\n",
       "    </tr>\n",
       "    <tr>\n",
       "      <th>7</th>\n",
       "      <td>1</td>\n",
       "      <td>01</td>\n",
       "      <td>8</td>\n",
       "      <td>213307138.00</td>\n",
       "      <td>211774138.00</td>\n",
       "      <td>13814.36</td>\n",
       "      <td>1533000.00</td>\n",
       "      <td>2000000.00</td>\n",
       "      <td>None</td>\n",
       "      <td>None</td>\n",
       "      <td>None</td>\n",
       "      <td>None</td>\n",
       "      <td>期末基金餘額</td>\n",
       "      <td>73</td>\n",
       "    </tr>\n",
       "  </tbody>\n",
       "</table>\n",
       "</div>"
      ],
      "text/plain": [
       "  BOLD LEVEL SEQNO 本年度截至本月份累計實際數 本年度截至本月份累計比較增減 本年度截至本月份累計比較增減-百分比  \\\n",
       "0    1    01     1  217463130.00   211973130.00            3861.08   \n",
       "1    1    02     2  217458000.00   211968000.00            3860.98   \n",
       "2    1    03     3  217458000.00   211968000.00            3860.98   \n",
       "3    1    02     4       5130.00        5130.00               None   \n",
       "4    1    03     5       5130.00        5130.00               None   \n",
       "5    1    01     6    4155992.00      198992.00               5.03   \n",
       "6    1    01     7  213307138.00   211774138.00           13814.36   \n",
       "7    1    01     8  213307138.00   211774138.00           13814.36   \n",
       "\n",
       "  本年度截至本月份累計預算數     本年度法定預算數      本月份實際數     本月份比較增減 本月份比較增減-百分比     本月份預算數  \\\n",
       "0    5490000.00  12000000.00  4821000.00  3971000.00      467.18  850000.00   \n",
       "1    5490000.00  12000000.00  4821000.00  3971000.00      467.18  850000.00   \n",
       "2    5490000.00  12000000.00  4821000.00  3971000.00      467.18  850000.00   \n",
       "3          None         None        None        None        None       None   \n",
       "4          None         None        None        None        None       None   \n",
       "5    3957000.00  10000000.00   603503.00   -13497.00       -2.19  617000.00   \n",
       "6    1533000.00   2000000.00  4217497.00  3984497.00     1710.08  233000.00   \n",
       "7    1533000.00   2000000.00        None        None        None       None   \n",
       "\n",
       "       科目-名稱 科目-編號  \n",
       "0       基金來源     4  \n",
       "1  徵收及依法分配收入    41  \n",
       "2     違規罰款收入   415  \n",
       "3       財產收入    45  \n",
       "4       利息收入   454  \n",
       "5       基金用途     5  \n",
       "6  本期賸餘(短絀-)     6  \n",
       "7     期末基金餘額    73  "
      ]
     },
     "execution_count": 29,
     "metadata": {},
     "output_type": "execute_result"
    }
   ],
   "source": [
    "import pandas as pd\n",
    "df = pd.DataFrame(bond_list)\n",
    "df"
   ]
  },
  {
   "cell_type": "code",
   "execution_count": 32,
   "metadata": {
    "collapsed": false
   },
   "outputs": [],
   "source": [
    "df.to_csv('bond.csv', encoding= 'utf-8')\n",
    "df.to_excel('bond.xlsx')"
   ]
  },
  {
   "cell_type": "code",
   "execution_count": 20,
   "metadata": {
    "collapsed": false
   },
   "outputs": [
    {
     "name": "stdout",
     "output_type": "stream",
     "text": [
      "在黄山始信峰附近，澎湃新闻发现部分游客裸露上身游览景区，还有一些游客不顾警示牌警告攀爬峭壁。而在黄山前山及飞来石附近一处休息区，一些游客将石榴皮随意丢弃，还有游客用手杖打松树果。\n"
     ]
    }
   ],
   "source": [
    "a = '在黄山始信峰附近，澎湃新闻发现部分游客裸露上身游览景区\\\n",
    "，还有一些游客不顾警示牌警告攀爬峭壁。而在黄山前山及飞来石附近\\\n",
    "一处休息区，一些游客将石榴皮随意丢弃，还有游客用手杖打松树果。'\n",
    "# \\ 一定要放在最後面\n",
    "print a"
   ]
  },
  {
   "cell_type": "code",
   "execution_count": 17,
   "metadata": {
    "collapsed": false
   },
   "outputs": [
    {
     "name": "stdout",
     "output_type": "stream",
     "text": [
      "['\\xe7\\xa7\\x91\\xe7\\x9b\\xae-\\xe5\\x90\\x8d\\xe7\\xa8\\xb1']\n",
      "[u'\\u79d1\\u76ee-\\u540d\\u7a31']\n"
     ]
    }
   ],
   "source": [
    "print ['科目-名稱']\n",
    "print [u'科目-名稱']"
   ]
  },
  {
   "cell_type": "markdown",
   "metadata": {},
   "source": [
    "## 讀取目錄夾下所有的XML 檔案"
   ]
  },
  {
   "cell_type": "code",
   "execution_count": 34,
   "metadata": {
    "collapsed": false
   },
   "outputs": [],
   "source": [
    "import os\n",
    "import xml.etree.ElementTree as ET\n",
    "bond_list = []\n",
    "\n",
    "for xmlfile in os.listdir('xmldata'):\n",
    "    tree = ET.parse('xmldata/' + xmlfile)\n",
    "    root = tree.getroot()\n",
    "    ds = root.find('DataSet')\n",
    "    for row in ds.iter('ROW'):\n",
    "        bond_dic = {}\n",
    "        for child in row:\n",
    "            bond_dic[child.tag] = child.text\n",
    "        bond_list.append(bond_dic)"
   ]
  },
  {
   "cell_type": "code",
   "execution_count": 36,
   "metadata": {
    "collapsed": false
   },
   "outputs": [],
   "source": [
    "import pandas as pd\n",
    "df = pd.DataFrame(bond_list)\n",
    "df.to_excel('bond2.xlsx')"
   ]
  },
  {
   "cell_type": "code",
   "execution_count": null,
   "metadata": {
    "collapsed": true
   },
   "outputs": [],
   "source": []
  }
 ],
 "metadata": {
  "kernelspec": {
   "display_name": "Python [Root]",
   "language": "python",
   "name": "Python [Root]"
  },
  "language_info": {
   "codemirror_mode": {
    "name": "ipython",
    "version": 2
   },
   "file_extension": ".py",
   "mimetype": "text/x-python",
   "name": "python",
   "nbconvert_exporter": "python",
   "pygments_lexer": "ipython2",
   "version": "2.7.12"
  }
 },
 "nbformat": 4,
 "nbformat_minor": 0
}
